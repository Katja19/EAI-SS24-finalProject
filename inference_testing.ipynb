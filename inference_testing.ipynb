{
 "cells": [
  {
   "cell_type": "code",
   "execution_count": 1,
   "metadata": {},
   "outputs": [
    {
     "name": "stdout",
     "output_type": "stream",
     "text": [
      "2024-07-11T19:00:00+02:00\n"
     ]
    }
   ],
   "source": [
    "import sqlite3 \n",
    "import pandas as pd\n",
    "\n",
    "connection = sqlite3.connect('data.db')\n",
    "wue_data = pd.read_sql('SELECT location_id, pedestrians_count, timestamp FROM data ORDER BY timestamp', connection)\n",
    "wue_data['date'] = wue_data['timestamp'].str.extract(r'(\\d{4}-\\d{2}-\\d{2})')\n",
    "wue_data['datetime'] = wue_data['timestamp'].str.split('+').str[0]\n",
    "                        \n",
    "column_name='timestamp'\n",
    "last_value = wue_data[column_name].iloc[-1]\n",
    "print (last_value)"
   ]
  },
  {
   "cell_type": "code",
   "execution_count": 4,
   "metadata": {},
   "outputs": [
    {
     "name": "stdout",
     "output_type": "stream",
     "text": [
      "Request URL: https://weather.visualcrossing.com/VisualCrossingWebServices/rest/services/timeline/W%C3%BCrzburg,%20Germany?unitGroup=metric&key=QPX3CJ476JEHWLUYT3TC559U8&include=hours&contentType=csv&forecastDays=2\n",
      "Weather forecast data saved to wurzburg_hourly_forecast.csv\n"
     ]
    }
   ],
   "source": [
    "import requests\n",
    "from datetime import datetime, timedelta\n",
    "\n",
    "# Replace with your Visual Crossing API key\n",
    "\n",
    "api_key = 'QPX3CJ476JEHWLUYT3TC559U8'\n",
    "\n",
    "\n",
    "\n",
    "# Replace with your Visual Crossing API key\n",
    "\n",
    "\n",
    "# Define the endpoint URL and parameters\n",
    "base_url = 'https://weather.visualcrossing.com/VisualCrossingWebServices/rest/services/timeline/'\n",
    "location = 'Würzburg, Germany'  # Specify the location\n",
    "params = {\n",
    "    'unitGroup': 'metric',  # Use 'us' for Fahrenheit, 'metric' for Celsius\n",
    "    'key': api_key,\n",
    "    'include': 'hours',  # Include hourly weather data\n",
    "    'contentType': 'csv',  # Request CSV format\n",
    "    'forecastDays': 2  # Number of days to forecast\n",
    "}\n",
    "\n",
    "# Construct the full API URL\n",
    "url = f\"{base_url}{location}\"\n",
    "\n",
    "# Send the GET request\n",
    "response = requests.get(url, params=params)\n",
    "\n",
    "# Debugging: Print the full URL to ensure it is correct\n",
    "print(f\"Request URL: {response.url}\")\n",
    "\n",
    "# Check if the request was successful\n",
    "if response.status_code == 200:\n",
    "    # Define CSV file name\n",
    "    csv_file = 'wurzburg_hourly_forecast.csv'\n",
    "    \n",
    "    # Write data to CSV\n",
    "    with open(csv_file, 'w') as file:\n",
    "        file.write(response.text)\n",
    "    \n",
    "    print(f\"Weather forecast data saved to {csv_file}\")\n",
    "elif response.status_code == 401:\n",
    "    print(\"Error 401: Unauthorized. Please check your API key.\")\n",
    "    print(response.text)\n",
    "else:\n",
    "    print(f\"Error: {response.status_code}\")\n",
    "    print(response.text)\n",
    "\n",
    "   "
   ]
  }
 ],
 "metadata": {
  "kernelspec": {
   "display_name": "Python 3",
   "language": "python",
   "name": "python3"
  },
  "language_info": {
   "codemirror_mode": {
    "name": "ipython",
    "version": 3
   },
   "file_extension": ".py",
   "mimetype": "text/x-python",
   "name": "python",
   "nbconvert_exporter": "python",
   "pygments_lexer": "ipython3",
   "version": "3.9.6"
  }
 },
 "nbformat": 4,
 "nbformat_minor": 2
}
