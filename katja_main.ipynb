{
 "cells": [
  {
   "cell_type": "markdown",
   "metadata": {},
   "source": [
    "# EAI Final Project"
   ]
  },
  {
   "cell_type": "markdown",
   "metadata": {},
   "source": [
    "## Setup of zenML"
   ]
  },
  {
   "cell_type": "code",
   "execution_count": 1,
   "metadata": {},
   "outputs": [
    {
     "name": "stdout",
     "output_type": "stream",
     "text": [
      "⠋ Initializing ZenML repository at \n",
      "d:\\Studium\\Master\\EnterpriseAI\\EAI-SS24-finalProject.\n",
      "\n",
      "⠙ Initializing ZenML repository at \n",
      "d:\\Studium\\Master\\EnterpriseAI\\EAI-SS24-finalProject.\n",
      "\n",
      "⠸ Initializing ZenML repository at \n",
      "d:\\Studium\\Master\\EnterpriseAI\\EAI-SS24-finalProject.\n",
      "\u001b[1;35mSetting the repo active workspace to 'default'.\u001b[0m\n",
      "\u001b[33mSetting the repo active stack to default.\u001b[0m\n",
      "\n",
      "ZenML repository initialized at \n",
      "d:\\Studium\\Master\\EnterpriseAI\\EAI-SS24-finalProject.\n",
      "⠼ Initializing ZenML repository at \n",
      "d:\\Studium\\Master\\EnterpriseAI\\EAI-SS24-finalProject.\n",
      "\n",
      "⠼ Initializing ZenML repository at \n",
      "d:\\Studium\\Master\\EnterpriseAI\\EAI-SS24-finalProject.\n",
      "\n",
      "\n",
      "The local active stack was initialized to 'default'. This local configuration \n",
      "will only take effect when you're running ZenML from the initialized repository\n",
      "root, or from a subdirectory. For more information on repositories and \n",
      "configurations, please visit \n",
      "https://docs.zenml.io/user-guide/starter-guide/understand-stacks.\n",
      "⠋ Installing integrations...\n",
      "⠙ Installing integrations...\n",
      "⠹ Installing integrations...\n",
      "⠸ Installing integrations...\n",
      "⠼ Installing integrations...\n",
      "⠴ Installing integrations...\n",
      "⠧ Installing integrations...\n",
      "⠇ Installing integrations...\n",
      "⠏ Installing integrations...\n",
      "⠋ Installing integrations...\n",
      "⠙ Installing integrations...\n",
      "⠙ Installing integrations...\n",
      "\n"
     ]
    }
   ],
   "source": [
    "# Here we are going to create a new ZenML project\n",
    "#!rm -rf .zen # don't work under windows, cause it's a unix-command\n",
    "!rmdir /S /Q .zen\n",
    "!zenml init\n",
    "!zenml integration install sklearn -y"
   ]
  },
  {
   "cell_type": "code",
   "execution_count": 2,
   "metadata": {},
   "outputs": [
    {
     "name": "stdout",
     "output_type": "stream",
     "text": [
      "        Stack Configuration        \n",
      "┌────────────────┬────────────────┐\n",
      "│ COMPONENT_TYPE │ COMPONENT_NAME │\n",
      "├────────────────┼────────────────┤\n",
      "│ ORCHESTRATOR   │ default        │\n",
      "├────────────────┼────────────────┤\n",
      "│ ARTIFACT_STORE │ default        │\n",
      "└────────────────┴────────────────┘\n",
      "     'default' stack (ACTIVE)      \n",
      "⠋ Describing the stack...\n",
      "\n",
      "Stack 'default' with id '1fad2b0f-23b6-424d-b0c5-c0dda16ee5b6' is unowned.\n",
      "⠋ Describing the stack...\n",
      "\n",
      "⠋ Describing the stack...\n",
      "\n",
      "\n",
      "You can display various ZenML entities including pipelines, runs, stacks and \n",
      "much more on the ZenML Dashboard. You can try it locally, by running `zenml \n",
      "up`, or remotely, by deploying ZenML on the infrastructure of your choice.\n"
     ]
    }
   ],
   "source": [
    "# First we are checking the status of the stack\n",
    "!zenml stack describe"
   ]
  },
  {
   "cell_type": "code",
   "execution_count": 3,
   "metadata": {},
   "outputs": [
    {
     "name": "stdout",
     "output_type": "stream",
     "text": [
      "⠋ Installing integrations...\n",
      "⠙ Installing integrations...\n",
      "⠹ Installing integrations...\n",
      "⠸ Installing integrations...\n",
      "⠼ Installing integrations...\n",
      "⠴ Installing integrations...\n",
      "⠧ Installing integrations...\n",
      "⠇ Installing integrations...\n",
      "⠏ Installing integrations...\n",
      "⠋ Installing integrations...\n",
      "⠙ Installing integrations...\n",
      "⠹ Installing integrations...\n",
      "⠸ Installing integrations...\n",
      "\n"
     ]
    }
   ],
   "source": [
    "# Now we are going to install the MLFlow integration, which is a very popular open-source platform for managing the end-to-end machine learning lifecycle\n",
    "#!zenml integration install mlflow -y\n",
    "!zenml integration install wandb -y"
   ]
  },
  {
   "cell_type": "code",
   "execution_count": 4,
   "metadata": {},
   "outputs": [
    {
     "name": "stdout",
     "output_type": "stream",
     "text": [
      "⠋ Registering experiment tracker 'wandb_experiment_tracker'...\n",
      "\n",
      "⠙ Registering experiment tracker 'wandb_experiment_tracker'...\n",
      "\n",
      "⠸ Registering experiment tracker 'wandb_experiment_tracker'...\n",
      "\n",
      "⠼ Registering experiment tracker 'wandb_experiment_tracker'...\n",
      "\n",
      "⠴ Registering experiment tracker 'wandb_experiment_tracker'...\n",
      "\n",
      "⠦ Registering experiment tracker 'wandb_experiment_tracker'...\n",
      "\n",
      "⠧ Registering experiment tracker 'wandb_experiment_tracker'...\n",
      "\n",
      "⠇ Registering experiment tracker 'wandb_experiment_tracker'...\n",
      "\n",
      "⠋ Registering experiment tracker 'wandb_experiment_tracker'...\n",
      "\n",
      "⠋ Registering experiment tracker 'wandb_experiment_tracker'...\n",
      "\n",
      "\n"
     ]
    },
    {
     "name": "stderr",
     "output_type": "stream",
     "text": [
      "┌───────────────────── Traceback (most recent call last) ─────────────────────┐\n",
      "│ C:\\Users\\gavar\\AppData\\Local\\Programs\\Python\\Python39\\lib\\runpy.py:197 in   │\n",
      "│ _run_module_as_main                                                         │\n",
      "│                                                                             │\n",
      "│   194 │   main_globals = sys.modules[\"__main__\"].__dict__                   │\n",
      "│   195 │   if alter_argv:                                                    │\n",
      "│   196 │   │   sys.argv[0] = mod_spec.origin                                 │\n",
      "│ > 197 │   return _run_code(code, main_globals, None,                        │\n",
      "│   198 │   │   │   │   │    \"__main__\", mod_spec)                            │\n",
      "│   199                                                                       │\n",
      "│   200 def run_module(mod_name, init_globals=None,                           │\n",
      "│                                                                             │\n",
      "│ C:\\Users\\gavar\\AppData\\Local\\Programs\\Python\\Python39\\lib\\runpy.py:87 in    │\n",
      "│ _run_code                                                                   │\n",
      "│                                                                             │\n",
      "│    84 │   │   │   │   │      __loader__ = loader,                           │\n",
      "│    85 │   │   │   │   │      __package__ = pkg_name,                        │\n",
      "│    86 │   │   │   │   │      __spec__ = mod_spec)                           │\n",
      "│ >  87 │   exec(code, run_globals)                                           │\n",
      "│    88 │   return run_globals                                                │\n",
      "│    89                                                                       │\n",
      "│    90 def _run_module_code(code, init_globals=None,                         │\n",
      "│                                                                             │\n",
      "│ in <module>:7                                                               │\n",
      "│                                                                             │\n",
      "│ C:\\Users\\gavar\\AppData\\Local\\Programs\\Python\\Python39\\lib\\site-packages\\cli │\n",
      "│ ck\\core.py:1130 in __call__                                                 │\n",
      "│                                                                             │\n",
      "│   1127 │                                                                    │\n",
      "│   1128 │   def __call__(self, *args: t.Any, **kwargs: t.Any) -> t.Any:      │\n",
      "│   1129 │   │   \"\"\"Alias for :meth:`main`.\"\"\"                                │\n",
      "│ > 1130 │   │   return self.main(*args, **kwargs)                            │\n",
      "│   1131                                                                      │\n",
      "│   1132                                                                      │\n",
      "│   1133 class Command(BaseCommand):                                          │\n",
      "│                                                                             │\n",
      "│ C:\\Users\\gavar\\AppData\\Local\\Programs\\Python\\Python39\\lib\\site-packages\\cli │\n",
      "│ ck\\core.py:1055 in main                                                     │\n",
      "│                                                                             │\n",
      "│   1052 │   │   try:                                                         │\n",
      "│   1053 │   │   │   try:                                                     │\n",
      "│   1054 │   │   │   │   with self.make_context(prog_name, args, **extra) as  │\n",
      "│ > 1055 │   │   │   │   │   rv = self.invoke(ctx)                            │\n",
      "│   1056 │   │   │   │   │   if not standalone_mode:                          │\n",
      "│   1057 │   │   │   │   │   │   return rv                                    │\n",
      "│   1058 │   │   │   │   │   # it's not safe to `ctx.exit(rv)` here!          │\n",
      "│                                                                             │\n",
      "│ C:\\Users\\gavar\\AppData\\Local\\Programs\\Python\\Python39\\lib\\site-packages\\cli │\n",
      "│ ck\\core.py:1657 in invoke                                                   │\n",
      "│                                                                             │\n",
      "│   1654 │   │   │   │   super().invoke(ctx)                                  │\n",
      "│   1655 │   │   │   │   sub_ctx = cmd.make_context(cmd_name, args, parent=ct │\n",
      "│   1656 │   │   │   │   with sub_ctx:                                        │\n",
      "│ > 1657 │   │   │   │   │   return _process_result(sub_ctx.command.invoke(su │\n",
      "│   1658 │   │                                                                │\n",
      "│   1659 │   │   # In chain mode we create the contexts step by step, but aft │\n",
      "│   1660 │   │   # base command has been invoked.  Because at that point we d │\n",
      "│                                                                             │\n",
      "│ C:\\Users\\gavar\\AppData\\Local\\Programs\\Python\\Python39\\lib\\site-packages\\cli │\n",
      "│ ck\\core.py:1657 in invoke                                                   │\n",
      "│                                                                             │\n",
      "│   1654 │   │   │   │   super().invoke(ctx)                                  │\n",
      "│   1655 │   │   │   │   sub_ctx = cmd.make_context(cmd_name, args, parent=ct │\n",
      "│   1656 │   │   │   │   with sub_ctx:                                        │\n",
      "│ > 1657 │   │   │   │   │   return _process_result(sub_ctx.command.invoke(su │\n",
      "│   1658 │   │                                                                │\n",
      "│   1659 │   │   # In chain mode we create the contexts step by step, but aft │\n",
      "│   1660 │   │   # base command has been invoked.  Because at that point we d │\n",
      "│                                                                             │\n",
      "│ C:\\Users\\gavar\\AppData\\Local\\Programs\\Python\\Python39\\lib\\site-packages\\cli │\n",
      "│ ck\\core.py:1404 in invoke                                                   │\n",
      "│                                                                             │\n",
      "│   1401 │   │   │   echo(style(message, fg=\"red\"), err=True)                 │\n",
      "│   1402 │   │                                                                │\n",
      "│   1403 │   │   if self.callback is not None:                                │\n",
      "│ > 1404 │   │   │   return ctx.invoke(self.callback, **ctx.params)           │\n",
      "│   1405 │                                                                    │\n",
      "│   1406 │   def shell_complete(self, ctx: Context, incomplete: str) -> t.Lis │\n",
      "│   1407 │   │   \"\"\"Return a list of completions for the incomplete value. Lo │\n",
      "│                                                                             │\n",
      "│ C:\\Users\\gavar\\AppData\\Local\\Programs\\Python\\Python39\\lib\\site-packages\\cli │\n",
      "│ ck\\core.py:760 in invoke                                                    │\n",
      "│                                                                             │\n",
      "│    757 │   │                                                                │\n",
      "│    758 │   │   with augment_usage_errors(__self):                           │\n",
      "│    759 │   │   │   with ctx:                                                │\n",
      "│ >  760 │   │   │   │   return __callback(*args, **kwargs)                   │\n",
      "│    761 │                                                                    │\n",
      "│    762 │   def forward(                                                     │\n",
      "│    763 │   │   __self, __cmd: \"Command\", *args: t.Any, **kwargs: t.Any  # n │\n",
      "│                                                                             │\n",
      "│ C:\\Users\\gavar\\AppData\\Local\\Programs\\Python\\Python39\\lib\\site-packages\\zen │\n",
      "│ ml\\cli\\stack_components.py:280 in register_stack_component_command          │\n",
      "│                                                                             │\n",
      "│    277 │   │                                                                │\n",
      "│    278 │   │   with console.status(f\"Registering {display_name} '{name}'... │\n",
      "│    279 │   │   │   # Create a new stack component model                     │\n",
      "│ >  280 │   │   │   component = client.create_stack_component(               │\n",
      "│    281 │   │   │   │   name=name,                                           │\n",
      "│    282 │   │   │   │   flavor=flavor,                                       │\n",
      "│    283 │   │   │   │   component_type=component_type,                       │\n",
      "│                                                                             │\n",
      "│ C:\\Users\\gavar\\AppData\\Local\\Programs\\Python\\Python39\\lib\\site-packages\\zen │\n",
      "│ ml\\client_lazy_loader.py:198 in _inner                                      │\n",
      "│                                                                             │\n",
      "│   195 │   │   │   │   │   with contextlib.suppress(ValueError):             │\n",
      "│   196 │   │   │   │   │   │   kwargs[k] = ClientLazyLoader(**v).evaluate()  │\n",
      "│   197 │   │   │                                                             │\n",
      "│ > 198 │   │   │   return func(*args_, **kwargs)                             │\n",
      "│   199 │   │                                                                 │\n",
      "│   200 │   │   return _inner                                                 │\n",
      "│   201                                                                       │\n",
      "│                                                                             │\n",
      "│ C:\\Users\\gavar\\AppData\\Local\\Programs\\Python\\Python39\\lib\\site-packages\\zen │\n",
      "│ ml\\client.py:1990 in create_stack_component                                 │\n",
      "│                                                                             │\n",
      "│   1987 │   │   )                                                            │\n",
      "│   1988 │   │                                                                │\n",
      "│   1989 │   │   # Register the new model                                     │\n",
      "│ > 1990 │   │   return self.zen_store.create_stack_component(                │\n",
      "│   1991 │   │   │   component=create_component_model                         │\n",
      "│   1992 │   │   )                                                            │\n",
      "│   1993                                                                      │\n",
      "│                                                                             │\n",
      "│ C:\\Users\\gavar\\AppData\\Local\\Programs\\Python\\Python39\\lib\\site-packages\\zen │\n",
      "│ ml\\analytics\\utils.py:178 in inner_func                                     │\n",
      "│                                                                             │\n",
      "│   175 │   │   │   │   except Exception as e:                                │\n",
      "│   176 │   │   │   │   │   logger.debug(f\"Analytics tracking failure for {fu │\n",
      "│   177 │   │   │   │                                                         │\n",
      "│ > 178 │   │   │   │   result = func(*args, **kwargs)                        │\n",
      "│   179 │   │   │   │                                                         │\n",
      "│   180 │   │   │   │   try:                                                  │\n",
      "│   181 │   │   │   │   │   if isinstance(result, AnalyticsTrackedModelMixin) │\n",
      "│                                                                             │\n",
      "│ C:\\Users\\gavar\\AppData\\Local\\Programs\\Python\\Python39\\lib\\site-packages\\zen │\n",
      "│ ml\\zen_stores\\sql_zen_store.py:3099 in create_stack_component               │\n",
      "│                                                                             │\n",
      "│    3096 │   │   \"\"\"                                                         │\n",
      "│    3097 │   │   validate_name(component)                                    │\n",
      "│    3098 │   │   with Session(self.engine) as session:                       │\n",
      "│ >  3099 │   │   │   self._fail_if_component_with_name_type_exists(          │\n",
      "│    3100 │   │   │   │   name=component.name,                                │\n",
      "│    3101 │   │   │   │   component_type=component.type,                      │\n",
      "│    3102 │   │   │   │   workspace_id=component.workspace,                   │\n",
      "│                                                                             │\n",
      "│ C:\\Users\\gavar\\AppData\\Local\\Programs\\Python\\Python39\\lib\\site-packages\\zen │\n",
      "│ ml\\zen_stores\\sql_zen_store.py:3380 in                                      │\n",
      "│ _fail_if_component_with_name_type_exists                                    │\n",
      "│                                                                             │\n",
      "│    3377 │   │   │   .where(StackComponentSchema.type == component_type)     │\n",
      "│    3378 │   │   ).first()                                                   │\n",
      "│    3379 │   │   if existing_domain_component is not None:                   │\n",
      "│ >  3380 │   │   │   raise StackComponentExistsError(                        │\n",
      "│    3381 │   │   │   │   f\"Unable to register '{component_type}' component \" │\n",
      "│    3382 │   │   │   │   f\"with name '{name}': Found an existing \"           │\n",
      "│    3383 │   │   │   │   f\"component with the same name and type in the same │\n",
      "└─────────────────────────────────────────────────────────────────────────────┘\n",
      "StackComponentExistsError: Unable to register 'experiment_tracker' component \n",
      "with name 'wandb_experiment_tracker': Found an existing component with the same\n",
      "name and type in the same  workspace 'default'.\n"
     ]
    }
   ],
   "source": [
    "# Now we are going to register the MLFlow integration for the experiment tracker, which is the component that tracks the experiments and logs the results\n",
    "#!zenml experiment-tracker register mlflow_experiment_tracker --flavor=mlflow\n",
    "#api_key_wandb = \"c29a906eb81fb84dcd21e07090209c1ac6e7b6a4\"\n",
    "\n",
    "import os\n",
    "os.environ['WANDB_API_KEY']= \"c29a906eb81fb84dcd21e07090209c1ac6e7b6a4\"\n",
    "api_key_wandb = os.environ['WANDB_API_KEY']\n",
    "!zenml experiment-tracker register wandb_experiment_tracker --flavor=wandb --api_key=$api_key_wandb"
   ]
  },
  {
   "cell_type": "code",
   "execution_count": 5,
   "metadata": {},
   "outputs": [
    {
     "name": "stdout",
     "output_type": "stream",
     "text": [
      "⠋ Registering stack 'wandb_stack'...\n",
      "\n",
      "⠙ Registering stack 'wandb_stack'...\n",
      "\n",
      "⠸ Registering stack 'wandb_stack'...\n",
      "\n",
      "⠼ Registering stack 'wandb_stack'...\n",
      "\n",
      "⠴ Registering stack 'wandb_stack'...\n",
      "\n",
      "⠦ Registering stack 'wandb_stack'...\n",
      "\n",
      "⠇ Registering stack 'wandb_stack'...\n",
      "\n",
      "⠏ Registering stack 'wandb_stack'...\n",
      "\n",
      "⠋ Registering stack 'wandb_stack'...\n",
      "\n",
      "⠹ Registering stack 'wandb_stack'...\n",
      "\n",
      "⠸ Registering stack 'wandb_stack'...\n",
      "\n",
      "⠸ Registering stack 'wandb_stack'...\n",
      "\n",
      "\n"
     ]
    },
    {
     "name": "stderr",
     "output_type": "stream",
     "text": [
      "┌───────────────────── Traceback (most recent call last) ─────────────────────┐\n",
      "│ C:\\Users\\gavar\\AppData\\Local\\Programs\\Python\\Python39\\lib\\runpy.py:197 in   │\n",
      "│ _run_module_as_main                                                         │\n",
      "│                                                                             │\n",
      "│   194 │   main_globals = sys.modules[\"__main__\"].__dict__                   │\n",
      "│   195 │   if alter_argv:                                                    │\n",
      "│   196 │   │   sys.argv[0] = mod_spec.origin                                 │\n",
      "│ > 197 │   return _run_code(code, main_globals, None,                        │\n",
      "│   198 │   │   │   │   │    \"__main__\", mod_spec)                            │\n",
      "│   199                                                                       │\n",
      "│   200 def run_module(mod_name, init_globals=None,                           │\n",
      "│                                                                             │\n",
      "│ C:\\Users\\gavar\\AppData\\Local\\Programs\\Python\\Python39\\lib\\runpy.py:87 in    │\n",
      "│ _run_code                                                                   │\n",
      "│                                                                             │\n",
      "│    84 │   │   │   │   │      __loader__ = loader,                           │\n",
      "│    85 │   │   │   │   │      __package__ = pkg_name,                        │\n",
      "│    86 │   │   │   │   │      __spec__ = mod_spec)                           │\n",
      "│ >  87 │   exec(code, run_globals)                                           │\n",
      "│    88 │   return run_globals                                                │\n",
      "│    89                                                                       │\n",
      "│    90 def _run_module_code(code, init_globals=None,                         │\n",
      "│                                                                             │\n",
      "│ in <module>:7                                                               │\n",
      "│                                                                             │\n",
      "│ C:\\Users\\gavar\\AppData\\Local\\Programs\\Python\\Python39\\lib\\site-packages\\cli │\n",
      "│ ck\\core.py:1130 in __call__                                                 │\n",
      "│                                                                             │\n",
      "│   1127 │                                                                    │\n",
      "│   1128 │   def __call__(self, *args: t.Any, **kwargs: t.Any) -> t.Any:      │\n",
      "│   1129 │   │   \"\"\"Alias for :meth:`main`.\"\"\"                                │\n",
      "│ > 1130 │   │   return self.main(*args, **kwargs)                            │\n",
      "│   1131                                                                      │\n",
      "│   1132                                                                      │\n",
      "│   1133 class Command(BaseCommand):                                          │\n",
      "│                                                                             │\n",
      "│ C:\\Users\\gavar\\AppData\\Local\\Programs\\Python\\Python39\\lib\\site-packages\\cli │\n",
      "│ ck\\core.py:1055 in main                                                     │\n",
      "│                                                                             │\n",
      "│   1052 │   │   try:                                                         │\n",
      "│   1053 │   │   │   try:                                                     │\n",
      "│   1054 │   │   │   │   with self.make_context(prog_name, args, **extra) as  │\n",
      "│ > 1055 │   │   │   │   │   rv = self.invoke(ctx)                            │\n",
      "│   1056 │   │   │   │   │   if not standalone_mode:                          │\n",
      "│   1057 │   │   │   │   │   │   return rv                                    │\n",
      "│   1058 │   │   │   │   │   # it's not safe to `ctx.exit(rv)` here!          │\n",
      "│                                                                             │\n",
      "│ C:\\Users\\gavar\\AppData\\Local\\Programs\\Python\\Python39\\lib\\site-packages\\cli │\n",
      "│ ck\\core.py:1657 in invoke                                                   │\n",
      "│                                                                             │\n",
      "│   1654 │   │   │   │   super().invoke(ctx)                                  │\n",
      "│   1655 │   │   │   │   sub_ctx = cmd.make_context(cmd_name, args, parent=ct │\n",
      "│   1656 │   │   │   │   with sub_ctx:                                        │\n",
      "│ > 1657 │   │   │   │   │   return _process_result(sub_ctx.command.invoke(su │\n",
      "│   1658 │   │                                                                │\n",
      "│   1659 │   │   # In chain mode we create the contexts step by step, but aft │\n",
      "│   1660 │   │   # base command has been invoked.  Because at that point we d │\n",
      "│                                                                             │\n",
      "│ C:\\Users\\gavar\\AppData\\Local\\Programs\\Python\\Python39\\lib\\site-packages\\cli │\n",
      "│ ck\\core.py:1657 in invoke                                                   │\n",
      "│                                                                             │\n",
      "│   1654 │   │   │   │   super().invoke(ctx)                                  │\n",
      "│   1655 │   │   │   │   sub_ctx = cmd.make_context(cmd_name, args, parent=ct │\n",
      "│   1656 │   │   │   │   with sub_ctx:                                        │\n",
      "│ > 1657 │   │   │   │   │   return _process_result(sub_ctx.command.invoke(su │\n",
      "│   1658 │   │                                                                │\n",
      "│   1659 │   │   # In chain mode we create the contexts step by step, but aft │\n",
      "│   1660 │   │   # base command has been invoked.  Because at that point we d │\n",
      "│                                                                             │\n",
      "│ C:\\Users\\gavar\\AppData\\Local\\Programs\\Python\\Python39\\lib\\site-packages\\cli │\n",
      "│ ck\\core.py:1404 in invoke                                                   │\n",
      "│                                                                             │\n",
      "│   1401 │   │   │   echo(style(message, fg=\"red\"), err=True)                 │\n",
      "│   1402 │   │                                                                │\n",
      "│   1403 │   │   if self.callback is not None:                                │\n",
      "│ > 1404 │   │   │   return ctx.invoke(self.callback, **ctx.params)           │\n",
      "│   1405 │                                                                    │\n",
      "│   1406 │   def shell_complete(self, ctx: Context, incomplete: str) -> t.Lis │\n",
      "│   1407 │   │   \"\"\"Return a list of completions for the incomplete value. Lo │\n",
      "│                                                                             │\n",
      "│ C:\\Users\\gavar\\AppData\\Local\\Programs\\Python\\Python39\\lib\\site-packages\\cli │\n",
      "│ ck\\core.py:760 in invoke                                                    │\n",
      "│                                                                             │\n",
      "│    757 │   │                                                                │\n",
      "│    758 │   │   with augment_usage_errors(__self):                           │\n",
      "│    759 │   │   │   with ctx:                                                │\n",
      "│ >  760 │   │   │   │   return __callback(*args, **kwargs)                   │\n",
      "│    761 │                                                                    │\n",
      "│    762 │   def forward(                                                     │\n",
      "│    763 │   │   __self, __cmd: \"Command\", *args: t.Any, **kwargs: t.Any  # n │\n",
      "│                                                                             │\n",
      "│ C:\\Users\\gavar\\AppData\\Local\\Programs\\Python\\Python39\\lib\\site-packages\\zen │\n",
      "│ ml\\cli\\stack.py:261 in register_stack                                       │\n",
      "│                                                                             │\n",
      "│    258 │   │   │   )                                                        │\n",
      "│    259 │   │                                                                │\n",
      "│    260 │   │   try:                                                         │\n",
      "│ >  261 │   │   │   created_stack = client.create_stack(                     │\n",
      "│    262 │   │   │   │   name=stack_name,                                     │\n",
      "│    263 │   │   │   │   components=components,                               │\n",
      "│    264 │   │   │   )                                                        │\n",
      "│                                                                             │\n",
      "│ C:\\Users\\gavar\\AppData\\Local\\Programs\\Python\\Python39\\lib\\site-packages\\zen │\n",
      "│ ml\\client_lazy_loader.py:198 in _inner                                      │\n",
      "│                                                                             │\n",
      "│   195 │   │   │   │   │   with contextlib.suppress(ValueError):             │\n",
      "│   196 │   │   │   │   │   │   kwargs[k] = ClientLazyLoader(**v).evaluate()  │\n",
      "│   197 │   │   │                                                             │\n",
      "│ > 198 │   │   │   return func(*args_, **kwargs)                             │\n",
      "│   199 │   │                                                                 │\n",
      "│   200 │   │   return _inner                                                 │\n",
      "│   201                                                                       │\n",
      "│                                                                             │\n",
      "│ C:\\Users\\gavar\\AppData\\Local\\Programs\\Python\\Python39\\lib\\site-packages\\zen │\n",
      "│ ml\\client.py:1191 in create_stack                                           │\n",
      "│                                                                             │\n",
      "│   1188 │   │                                                                │\n",
      "│   1189 │   │   self._validate_stack_configuration(stack=stack)              │\n",
      "│   1190 │   │                                                                │\n",
      "│ > 1191 │   │   return self.zen_store.create_stack(stack=stack)              │\n",
      "│   1192 │                                                                    │\n",
      "│   1193 │   def get_stack(                                                   │\n",
      "│   1194 │   │   self,                                                        │\n",
      "│                                                                             │\n",
      "│ C:\\Users\\gavar\\AppData\\Local\\Programs\\Python\\Python39\\lib\\site-packages\\zen │\n",
      "│ ml\\analytics\\utils.py:178 in inner_func                                     │\n",
      "│                                                                             │\n",
      "│   175 │   │   │   │   except Exception as e:                                │\n",
      "│   176 │   │   │   │   │   logger.debug(f\"Analytics tracking failure for {fu │\n",
      "│   177 │   │   │   │                                                         │\n",
      "│ > 178 │   │   │   │   result = func(*args, **kwargs)                        │\n",
      "│   179 │   │   │   │                                                         │\n",
      "│   180 │   │   │   │   try:                                                  │\n",
      "│   181 │   │   │   │   │   if isinstance(result, AnalyticsTrackedModelMixin) │\n",
      "│                                                                             │\n",
      "│ C:\\Users\\gavar\\AppData\\Local\\Programs\\Python\\Python39\\lib\\site-packages\\zen │\n",
      "│ ml\\zen_stores\\sql_zen_store.py:6882 in create_stack                         │\n",
      "│                                                                             │\n",
      "│    6879 │   │   \"\"\"                                                         │\n",
      "│    6880 │   │   validate_name(stack)                                        │\n",
      "│    6881 │   │   with Session(self.engine) as session:                       │\n",
      "│ >  6882 │   │   │   self._fail_if_stack_with_name_exists(                   │\n",
      "│    6883 │   │   │   │   stack_name=stack.name,                              │\n",
      "│    6884 │   │   │   │   workspace_id=stack.workspace,                       │\n",
      "│    6885 │   │   │   │   session=session,                                    │\n",
      "│                                                                             │\n",
      "│ C:\\Users\\gavar\\AppData\\Local\\Programs\\Python\\Python39\\lib\\site-packages\\zen │\n",
      "│ ml\\zen_stores\\sql_zen_store.py:7106 in _fail_if_stack_with_name_exists      │\n",
      "│                                                                             │\n",
      "│    7103 │   │   │   workspace = self._get_workspace_schema(                 │\n",
      "│    7104 │   │   │   │   workspace_name_or_id=workspace_id, session=session  │\n",
      "│    7105 │   │   │   )                                                       │\n",
      "│ >  7106 │   │   │   raise StackExistsError(                                 │\n",
      "│    7107 │   │   │   │   f\"Unable to register stack with name \"              │\n",
      "│    7108 │   │   │   │   f\"'{stack_name}': Found an existing stack with the  │\n",
      "│    7109 │   │   │   │   f\"name in the active workspace, '{workspace.name}'. │\n",
      "└─────────────────────────────────────────────────────────────────────────────┘\n",
      "StackExistsError: Unable to register stack with name 'wandb_stack': Found an \n",
      "existing stack with the same name in the active workspace, 'default'.\n"
     ]
    }
   ],
   "source": [
    "!zenml stack register wandb_stack -a default -o default -e wandb_experiment_tracker"
   ]
  },
  {
   "cell_type": "code",
   "execution_count": 6,
   "metadata": {},
   "outputs": [],
   "source": [
    "# Now we are going to register the MLFlow integration for the model deployer, which is the component that deploys the models\n",
    "#!zenml model-deployer register mlflow_deployer --flavor=mlflow\n",
    "#!zenml model-deployer register wandb_deployer --flavor=wandb"
   ]
  },
  {
   "cell_type": "markdown",
   "metadata": {},
   "source": [
    "__Hint__: if the stack does not show the mlflow integration, check in the terminal if the mlflow is installed with  \n",
    "- zenml experiment-tracker list  \n",
    "- zenml model-deployer list  \n",
    "- zenml stack list  \n",
    "- activate the mlflow with: zenml stack set mlflow_stack  "
   ]
  },
  {
   "cell_type": "code",
   "execution_count": 7,
   "metadata": {},
   "outputs": [],
   "source": [
    "#!zenml stack register wandb_stack -e wandb_experiment_tracker -m wandb_deployer -a default -o default"
   ]
  },
  {
   "cell_type": "code",
   "execution_count": 8,
   "metadata": {},
   "outputs": [
    {
     "name": "stdout",
     "output_type": "stream",
     "text": [
      "Active repository stack set to: 'wandb_stack'\n",
      "⠋ Setting the repository active stack to 'wandb_stack'...\n",
      "⠋ Setting the repository active stack to 'wandb_stack'...\n",
      "\n"
     ]
    }
   ],
   "source": [
    "# change the stack to the mlflow stack\n",
    "#!zenml stack set mlflow_stack\n",
    "!zenml stack set wandb_stack"
   ]
  },
  {
   "cell_type": "code",
   "execution_count": 9,
   "metadata": {},
   "outputs": [
    {
     "name": "stdout",
     "output_type": "stream",
     "text": [
      "               Stack Configuration               \n",
      "┌────────────────────┬──────────────────────────┐\n",
      "│ COMPONENT_TYPE     │ COMPONENT_NAME           │\n",
      "├────────────────────┼──────────────────────────┤\n",
      "│ EXPERIMENT_TRACKER │ wandb_experiment_tracker │\n",
      "├────────────────────┼──────────────────────────┤\n",
      "│ ORCHESTRATOR       │ default                  │\n",
      "├────────────────────┼──────────────────────────┤\n",
      "│ ARTIFACT_STORE     │ default                  │\n",
      "└────────────────────┴──────────────────────────┘\n",
      "          'wandb_stack' stack (ACTIVE)           \n",
      "⠋ Describing the stack...\n",
      "\n",
      "Stack 'wandb_stack' with id '1eb125e5-6cf8-4ea3-a444-92563a981d7b' is owned by \n",
      "user default.\n",
      "⠋ Describing the stack...\n",
      "\n",
      "⠋ Describing the stack...\n",
      "\n",
      "\n",
      "You can display various ZenML entities including pipelines, runs, stacks and \n",
      "much more on the ZenML Dashboard. You can try it locally, by running `zenml \n",
      "up`, or remotely, by deploying ZenML on the infrastructure of your choice.\n"
     ]
    }
   ],
   "source": [
    "# At last we are going to check the status of the stack again\n",
    "#!zenml stack set mlflow_stack\n",
    "!zenml stack describe"
   ]
  },
  {
   "cell_type": "markdown",
   "metadata": {},
   "source": [
    "### Including wandb as alternative to mlflow_experiment_tracker"
   ]
  },
  {
   "cell_type": "code",
   "execution_count": 10,
   "metadata": {},
   "outputs": [],
   "source": [
    "#!zenml integration install wandb -y\n",
    "#!zenml experiment-tracker register wandb_experiment_tracker --flavor=wandb\n",
    "#!zenml stack update mlflow_stack -e wandb_experiment_tracker\n",
    "#!wandb login"
   ]
  },
  {
   "cell_type": "markdown",
   "metadata": {},
   "source": [
    "Modify your pipeline to use wandb for logging:\n",
    "In your ZenML pipeline, you need to ensure that wandb is used to log the models. Here is an example of how you can modify your pipeline:"
   ]
  },
  {
   "cell_type": "code",
   "execution_count": 11,
   "metadata": {},
   "outputs": [],
   "source": [
    "# from zenml.steps import step\n",
    "# import wandb\n",
    "\n",
    "# @step\n",
    "# def trainer_step(...) -> ...:\n",
    "#     ...\n",
    "#     # Initialize wandb\n",
    "#     wandb.init(project=\"my_project\", entity=\"my_entity\")\n",
    "    \n",
    "#     # Log model\n",
    "#     wandb.log({\"model\": model})\n",
    "\n",
    "#     # Save model artifact\n",
    "#     wandb.save(\"model.h5\")\n",
    "#     ..."
   ]
  },
  {
   "cell_type": "markdown",
   "metadata": {},
   "source": [
    "## Execute pipeline"
   ]
  },
  {
   "cell_type": "markdown",
   "metadata": {},
   "source": [
    "### Univaraint Models"
   ]
  },
  {
   "cell_type": "markdown",
   "metadata": {},
   "source": [
    "### Multivariant Models"
   ]
  },
  {
   "cell_type": "code",
   "execution_count": 12,
   "metadata": {},
   "outputs": [],
   "source": [
    "from run import run_pipelines"
   ]
  },
  {
   "cell_type": "code",
   "execution_count": 13,
   "metadata": {},
   "outputs": [
    {
     "name": "stdout",
     "output_type": "stream",
     "text": [
      "\u001b[1;35mStarting the feature engineering pipeline.\u001b[0m\n",
      "\u001b[1;35mStarting feature engineering pipeline...\u001b[0m\n",
      "\u001b[1;35mData updated.\u001b[0m\n",
      "\u001b[1;35mFeature engineering pipeline successfully completed.\u001b[0m\n",
      "\u001b[1;35mInitiating a new run for the pipeline: \u001b[0m\u001b[1;36mfeature_engineering_pipeline\u001b[1;35m.\u001b[0m\n",
      "\u001b[1;35mRegistered new version: \u001b[0m\u001b[1;36m(version 7)\u001b[1;35m.\u001b[0m\n",
      "\u001b[1;35mExecuting a new run.\u001b[0m\n",
      "\u001b[1;35mUsing user: \u001b[0m\u001b[1;36mdefault\u001b[1;35m\u001b[0m\n",
      "\u001b[1;35mUsing stack: \u001b[0m\u001b[1;36mwandb_stack\u001b[1;35m\u001b[0m\n",
      "\u001b[1;35m  experiment_tracker: \u001b[0m\u001b[1;36mwandb_experiment_tracker\u001b[1;35m\u001b[0m\n",
      "\u001b[1;35m  orchestrator: \u001b[0m\u001b[1;36mdefault\u001b[1;35m\u001b[0m\n",
      "\u001b[1;35m  artifact_store: \u001b[0m\u001b[1;36mdefault\u001b[1;35m\u001b[0m\n",
      "\u001b[1;35mYou can visualize your pipeline runs in the \u001b[0m\u001b[1;36mZenML Dashboard\u001b[1;35m. In order to try it locally, please run \u001b[0m\u001b[1;36mzenml up\u001b[1;35m.\u001b[0m\n",
      "\u001b[1;35mUsing cached version of \u001b[0m\u001b[1;36mupdate_data\u001b[1;35m.\u001b[0m\n",
      "\u001b[1;35mStep \u001b[0m\u001b[1;36mupdate_data\u001b[1;35m has started.\u001b[0m\n",
      "\u001b[1;35mUsing cached version of \u001b[0m\u001b[1;36mload_data\u001b[1;35m.\u001b[0m\n",
      "\u001b[1;35mStep \u001b[0m\u001b[1;36mload_data\u001b[1;35m has started.\u001b[0m\n",
      "\u001b[1;35mUsing cached version of \u001b[0m\u001b[1;36mcreate_derived_features\u001b[1;35m.\u001b[0m\n",
      "\u001b[1;35mStep \u001b[0m\u001b[1;36mcreate_derived_features\u001b[1;35m has started.\u001b[0m\n",
      "\u001b[1;35mStep \u001b[0m\u001b[1;36msplit_data\u001b[1;35m has started.\u001b[0m\n",
      "\u001b[1;35mStarting split_data step...\u001b[0m\n",
      "\u001b[1;35mSplit data step successfully completed.\u001b[0m\n",
      "\u001b[1;35mStep \u001b[0m\u001b[1;36msplit_data\u001b[1;35m has finished in \u001b[0m\u001b[1;36m9.104s\u001b[1;35m.\u001b[0m\n",
      "\u001b[1;35mStep \u001b[0m\u001b[1;36msplit_data\u001b[1;35m completed successfully.\u001b[0m\n",
      "\u001b[1;35mUsing cached version of \u001b[0m\u001b[1;36mcreate_preprocessing_pipeline\u001b[1;35m.\u001b[0m\n",
      "\u001b[1;35mStep \u001b[0m\u001b[1;36mcreate_preprocessing_pipeline\u001b[1;35m has started.\u001b[0m\n",
      "\u001b[1;35mStep \u001b[0m\u001b[1;36mfeature_preprocessor\u001b[1;35m has started.\u001b[0m\n",
      "\u001b[1;35mStarting feature_preprocessor step...\u001b[0m\n",
      "Feature preprocessed X:\n",
      "location_id: float64\n",
      "holiday: float64\n",
      "workday: float64\n",
      "green_market: float64\n",
      "specialities_market: float64\n",
      "event: float64\n",
      "temp: float64\n",
      "humidity: float64\n",
      "precip: float64\n",
      "pedestrians_count_lag_1: float64\n",
      "pedestrians_count_lag_2: float64\n",
      "pedestrians_count_lag_3: float64\n",
      "pedestrians_count_lag_4: float64\n",
      "pedestrians_count_lag_5: float64\n",
      "event_lag_1: float64\n",
      "holiday_lag_1: float64\n",
      "workday_lag_1: float64\n",
      "event_lag_2: float64\n",
      "holiday_lag_2: float64\n",
      "workday_lag_2: float64\n",
      "event_lag_3: float64\n",
      "holiday_lag_3: float64\n",
      "workday_lag_3: float64\n",
      "event_lag_4: float64\n",
      "holiday_lag_4: float64\n",
      "workday_lag_4: float64\n",
      "event_lag_5: float64\n",
      "holiday_lag_5: float64\n",
      "workday_lag_5: float64\n",
      "event_lead_1: float64\n",
      "holiday_lead_1: float64\n",
      "workday_lead_1: float64\n",
      "event_lead_2: float64\n",
      "holiday_lead_2: float64\n",
      "workday_lead_2: float64\n",
      "event_lead_3: float64\n",
      "holiday_lead_3: float64\n",
      "workday_lead_3: float64\n",
      "event_lead_4: float64\n",
      "holiday_lead_4: float64\n",
      "workday_lead_4: float64\n",
      "event_lead_5: float64\n",
      "holiday_lead_5: float64\n",
      "workday_lead_5: float64\n",
      "temp_lag_1: float64\n",
      "humidity_lag_1: float64\n",
      "precip_lag_1: float64\n",
      "temp_lag_2: float64\n",
      "humidity_lag_2: float64\n",
      "precip_lag_2: float64\n",
      "temp_lag_3: float64\n",
      "humidity_lag_3: float64\n",
      "precip_lag_3: float64\n",
      "temp_lag_4: float64\n",
      "humidity_lag_4: float64\n",
      "precip_lag_4: float64\n",
      "temp_lag_5: float64\n",
      "humidity_lag_5: float64\n",
      "precip_lag_5: float64\n",
      "year: float64\n",
      "month: float64\n",
      "day: float64\n",
      "hour: float64\n",
      "weekday_Friday: float64\n",
      "weekday_Monday: float64\n",
      "weekday_Saturday: float64\n",
      "weekday_Sunday: float64\n",
      "weekday_Thursday: float64\n",
      "weekday_Tuesday: float64\n",
      "weekday_Wednesday: float64\n",
      "\u001b[1;35mFeature preprocessor step successfully completed.\u001b[0m\n",
      "\u001b[1;35mStep \u001b[0m\u001b[1;36mfeature_preprocessor\u001b[1;35m has finished in \u001b[0m\u001b[1;36m3.640s\u001b[1;35m.\u001b[0m\n",
      "\u001b[1;35mStep \u001b[0m\u001b[1;36mfeature_preprocessor\u001b[1;35m completed successfully.\u001b[0m\n",
      "\u001b[1;35mStep \u001b[0m\u001b[1;36mcreate_eda_data\u001b[1;35m has started.\u001b[0m\n",
      "Starting create_eda_data step...\n",
      "X_train shape: (11117, 70)\n",
      "X_test shape: (2780, 70)\n",
      "y_train shape: (11117,)\n",
      "y_test shape: (2780,)\n",
      "X_train nan values: 0\n",
      "X_test nan values: 0\n",
      "y_train nan values: 0\n",
      "y_test nan values: 0\n",
      "X_train shape: (11117, 70)\n",
      "X_test shape: (2780, 70)\n",
      "eda_train shape: (11117, 71)\n",
      "eda_test shape: (2780, 71)\n",
      "eda_df shape: (13897, 71)\n",
      "EDA data saved successfully.\n",
      "\u001b[1;35mStep \u001b[0m\u001b[1;36mcreate_eda_data\u001b[1;35m has finished in \u001b[0m\u001b[1;36m1.574s\u001b[1;35m.\u001b[0m\n",
      "\u001b[1;35mStep \u001b[0m\u001b[1;36mcreate_eda_data\u001b[1;35m completed successfully.\u001b[0m\n",
      "\u001b[1;35mPipeline run has finished in \u001b[0m\u001b[1;36m15.426s\u001b[1;35m.\u001b[0m\n",
      "\u001b[1;35mFeature engineering pipeline completed.\u001b[0m\n",
      "\u001b[1;35mStarting the training pipeline.\u001b[0m\n",
      "\u001b[1;35mStarting training_pipeline...\u001b[0m\n",
      "\u001b[1;35mInitiating a new run for the pipeline: \u001b[0m\u001b[1;36mtraining_pipeline\u001b[1;35m.\u001b[0m\n"
     ]
    },
    {
     "name": "stderr",
     "output_type": "stream",
     "text": [
      "--- Logging error ---\n",
      "Traceback (most recent call last):\n",
      "  File \"d:\\Studium\\Master\\EnterpriseAI\\EAI-SS24-finalProject\\pipelines\\training_pipeline.py\", line 47, in training_pipeline\n",
      "    deploy, rmse, mse, r2, mae = evaluate_model(model,X_test,y_test, model_variant, model_type, trials, in_sample_rmse, best_parameters)\n",
      "  File \"c:\\Users\\gavar\\AppData\\Local\\Programs\\Python\\Python39\\lib\\site-packages\\zenml\\steps\\entrypoint_function_utils.py\", line 113, in __iter__\n",
      "    raise StepInterfaceError(\n",
      "zenml.exceptions.StepInterfaceError: Unable to unpack step artifact. This error is probably because you're trying to unpack the return value of your step but the step only returns a single artifact. For more information on how to add type annotations to your step to indicate multiple artifacts visit https://docs.zenml.io/how-to/build-pipelines/step-output-typing-and-annotation#type-annotations.\n",
      "\n",
      "During handling of the above exception, another exception occurred:\n",
      "\n",
      "Traceback (most recent call last):\n",
      "  File \"c:\\Users\\gavar\\AppData\\Local\\Programs\\Python\\Python39\\lib\\logging\\__init__.py\", line 1083, in emit\n",
      "    msg = self.format(record)\n",
      "  File \"c:\\Users\\gavar\\AppData\\Local\\Programs\\Python\\Python39\\lib\\logging\\__init__.py\", line 927, in format\n",
      "    return fmt.format(record)\n",
      "  File \"c:\\Users\\gavar\\AppData\\Local\\Programs\\Python\\Python39\\lib\\site-packages\\zenml\\logger.py\", line 87, in format\n",
      "    formatted_message = formatter.format(record)\n",
      "  File \"c:\\Users\\gavar\\AppData\\Local\\Programs\\Python\\Python39\\lib\\logging\\__init__.py\", line 663, in format\n",
      "    record.message = record.getMessage()\n",
      "  File \"c:\\Users\\gavar\\AppData\\Local\\Programs\\Python\\Python39\\lib\\logging\\__init__.py\", line 367, in getMessage\n",
      "    msg = msg % self.args\n",
      "TypeError: not all arguments converted during string formatting\n",
      "Call stack:\n",
      "  File \"c:\\Users\\gavar\\AppData\\Local\\Programs\\Python\\Python39\\lib\\runpy.py\", line 197, in _run_module_as_main\n",
      "    return _run_code(code, main_globals, None,\n",
      "  File \"c:\\Users\\gavar\\AppData\\Local\\Programs\\Python\\Python39\\lib\\runpy.py\", line 87, in _run_code\n",
      "    exec(code, run_globals)\n",
      "  File \"C:\\Users\\gavar\\AppData\\Roaming\\Python\\Python39\\site-packages\\ipykernel_launcher.py\", line 18, in <module>\n",
      "    app.launch_new_instance()\n",
      "  File \"c:\\Users\\gavar\\AppData\\Local\\Programs\\Python\\Python39\\lib\\site-packages\\traitlets\\config\\application.py\", line 1075, in launch_instance\n",
      "    app.start()\n",
      "  File \"C:\\Users\\gavar\\AppData\\Roaming\\Python\\Python39\\site-packages\\ipykernel\\kernelapp.py\", line 739, in start\n",
      "    self.io_loop.start()\n",
      "  File \"C:\\Users\\gavar\\AppData\\Roaming\\Python\\Python39\\site-packages\\tornado\\platform\\asyncio.py\", line 205, in start\n",
      "    self.asyncio_loop.run_forever()\n",
      "  File \"c:\\Users\\gavar\\AppData\\Local\\Programs\\Python\\Python39\\lib\\asyncio\\base_events.py\", line 601, in run_forever\n",
      "    self._run_once()\n",
      "  File \"c:\\Users\\gavar\\AppData\\Local\\Programs\\Python\\Python39\\lib\\asyncio\\base_events.py\", line 1905, in _run_once\n",
      "    handle._run()\n",
      "  File \"c:\\Users\\gavar\\AppData\\Local\\Programs\\Python\\Python39\\lib\\asyncio\\events.py\", line 80, in _run\n",
      "    self._context.run(self._callback, *self._args)\n",
      "  File \"C:\\Users\\gavar\\AppData\\Roaming\\Python\\Python39\\site-packages\\ipykernel\\kernelbase.py\", line 545, in dispatch_queue\n",
      "    await self.process_one()\n",
      "  File \"C:\\Users\\gavar\\AppData\\Roaming\\Python\\Python39\\site-packages\\ipykernel\\kernelbase.py\", line 534, in process_one\n",
      "    await dispatch(*args)\n",
      "  File \"C:\\Users\\gavar\\AppData\\Roaming\\Python\\Python39\\site-packages\\ipykernel\\kernelbase.py\", line 437, in dispatch_shell\n",
      "    await result\n",
      "  File \"C:\\Users\\gavar\\AppData\\Roaming\\Python\\Python39\\site-packages\\ipykernel\\ipkernel.py\", line 362, in execute_request\n",
      "    await super().execute_request(stream, ident, parent)\n",
      "  File \"C:\\Users\\gavar\\AppData\\Roaming\\Python\\Python39\\site-packages\\ipykernel\\kernelbase.py\", line 778, in execute_request\n",
      "    reply_content = await reply_content\n",
      "  File \"C:\\Users\\gavar\\AppData\\Roaming\\Python\\Python39\\site-packages\\ipykernel\\ipkernel.py\", line 449, in do_execute\n",
      "    res = shell.run_cell(\n",
      "  File \"C:\\Users\\gavar\\AppData\\Roaming\\Python\\Python39\\site-packages\\ipykernel\\zmqshell.py\", line 549, in run_cell\n",
      "    return super().run_cell(*args, **kwargs)\n",
      "  File \"c:\\Users\\gavar\\AppData\\Local\\Programs\\Python\\Python39\\lib\\site-packages\\IPython\\core\\interactiveshell.py\", line 3048, in run_cell\n",
      "    result = self._run_cell(\n",
      "  File \"c:\\Users\\gavar\\AppData\\Local\\Programs\\Python\\Python39\\lib\\site-packages\\IPython\\core\\interactiveshell.py\", line 3103, in _run_cell\n",
      "    result = runner(coro)\n",
      "  File \"c:\\Users\\gavar\\AppData\\Local\\Programs\\Python\\Python39\\lib\\site-packages\\IPython\\core\\async_helpers.py\", line 129, in _pseudo_sync_runner\n",
      "    coro.send(None)\n",
      "  File \"c:\\Users\\gavar\\AppData\\Local\\Programs\\Python\\Python39\\lib\\site-packages\\IPython\\core\\interactiveshell.py\", line 3308, in run_cell_async\n",
      "    has_raised = await self.run_ast_nodes(code_ast.body, cell_name,\n",
      "  File \"c:\\Users\\gavar\\AppData\\Local\\Programs\\Python\\Python39\\lib\\site-packages\\IPython\\core\\interactiveshell.py\", line 3490, in run_ast_nodes\n",
      "    if await self.run_code(code, result, async_=asy):\n",
      "  File \"c:\\Users\\gavar\\AppData\\Local\\Programs\\Python\\Python39\\lib\\site-packages\\IPython\\core\\interactiveshell.py\", line 3550, in run_code\n",
      "    exec(code_obj, self.user_global_ns, self.user_ns)\n",
      "  File \"C:\\Users\\gavar\\AppData\\Local\\Temp\\ipykernel_23396\\1154788817.py\", line 8, in <module>\n",
      "    run_pipelines(model_variant=m_variant, model_type=m_type)\n",
      "  File \"d:\\Studium\\Master\\EnterpriseAI\\EAI-SS24-finalProject\\run.py\", line 32, in run_pipelines\n",
      "    training_pipeline(model_variant=model_variant, model_type=model_type)\n",
      "  File \"c:\\Users\\gavar\\AppData\\Local\\Programs\\Python\\Python39\\lib\\site-packages\\zenml\\new\\pipelines\\pipeline.py\", line 1409, in __call__\n",
      "    self.prepare(*args, **kwargs)\n",
      "  File \"c:\\Users\\gavar\\AppData\\Local\\Programs\\Python\\Python39\\lib\\site-packages\\zenml\\new\\pipelines\\pipeline.py\", line 490, in prepare\n",
      "    self._call_entrypoint(*args, **kwargs)\n",
      "  File \"c:\\Users\\gavar\\AppData\\Local\\Programs\\Python\\Python39\\lib\\site-packages\\zenml\\new\\pipelines\\pipeline.py\", line 1438, in _call_entrypoint\n",
      "    self.entrypoint(**validated_args)\n",
      "  File \"d:\\Studium\\Master\\EnterpriseAI\\EAI-SS24-finalProject\\pipelines\\training_pipeline.py\", line 52, in training_pipeline\n",
      "    logger.error(\"Error in training_pipeline: \", e)\n",
      "Message: 'Error in training_pipeline: '\n",
      "Arguments: (StepInterfaceError(\"Unable to unpack step artifact. This error is probably because you're trying to unpack the return value of your step but the step only returns a single artifact. For more information on how to add type annotations to your step to indicate multiple artifacts visit https://docs.zenml.io/how-to/build-pipelines/step-output-typing-and-annotation#type-annotations.\"),)\n"
     ]
    },
    {
     "name": "stdout",
     "output_type": "stream",
     "text": [
      "\u001b[1;35mReusing registered pipeline version: \u001b[0m\u001b[1;36m(version: 2)\u001b[1;35m.\u001b[0m\n",
      "\u001b[1;35mExecuting a new run.\u001b[0m\n",
      "\u001b[1;35mUsing user: \u001b[0m\u001b[1;36mdefault\u001b[1;35m\u001b[0m\n",
      "\u001b[1;35mUsing stack: \u001b[0m\u001b[1;36mwandb_stack\u001b[1;35m\u001b[0m\n",
      "\u001b[1;35m  experiment_tracker: \u001b[0m\u001b[1;36mwandb_experiment_tracker\u001b[1;35m\u001b[0m\n",
      "\u001b[1;35m  orchestrator: \u001b[0m\u001b[1;36mdefault\u001b[1;35m\u001b[0m\n",
      "\u001b[1;35m  artifact_store: \u001b[0m\u001b[1;36mdefault\u001b[1;35m\u001b[0m\n",
      "\u001b[1;35mYou can visualize your pipeline runs in the \u001b[0m\u001b[1;36mZenML Dashboard\u001b[1;35m. In order to try it locally, please run \u001b[0m\u001b[1;36mzenml up\u001b[1;35m.\u001b[0m\n",
      "\u001b[1;35mStep \u001b[0m\u001b[1;36mhp_tuning\u001b[1;35m has started.\u001b[0m\n",
      "\u001b[1;35mStarting hp_tuning step...\u001b[0m\n",
      "\u001b[1;35mModelltyp: xgboost\u001b[0m\n",
      "\u001b[1;35mAnzahl der Trials: 5\u001b[0m\n",
      "\u001b[1;35mForm von X_train: (11117, 70)\u001b[0m\n",
      "\u001b[1;35mForm von y_train: (11117,)\u001b[0m\n",
      "\u001b[1;35mDatentyp von y_train ist int64\u001b[0m\n",
      "\u001b[1;35mDatentyp von y_train.iloc[0] ist 697\u001b[0m\n",
      "[I 2024-07-14 14:44:50,798] A new study created in memory with name: no-name-4df55659-2eed-4e40-978a-4000d23e0236\n",
      "c:\\Users\\gavar\\AppData\\Local\\Programs\\Python\\Python39\\lib\\site-packages\\sklearn\\metrics\\_regression.py:492: FutureWarning: 'squared' is deprecated in version 1.4 and will be removed in 1.6. To calculate the root mean squared error, use the function'root_mean_squared_error'.\n",
      "  warnings.warn(\n",
      "[I 2024-07-14 14:44:54,111] Trial 0 finished with value: 168.14304472069384 and parameters: {'n_estimators': 176, 'max_depth': 10, 'learning_rate': 0.18197952743325344, 'subsample': 0.7594794136916223, 'colsample_bytree': 0.8476003946515718}. Best is trial 0 with value: 168.14304472069384.\n",
      "c:\\Users\\gavar\\AppData\\Local\\Programs\\Python\\Python39\\lib\\site-packages\\sklearn\\metrics\\_regression.py:492: FutureWarning: 'squared' is deprecated in version 1.4 and will be removed in 1.6. To calculate the root mean squared error, use the function'root_mean_squared_error'.\n",
      "  warnings.warn(\n",
      "[I 2024-07-14 14:44:54,592] Trial 1 finished with value: 241.53193553303893 and parameters: {'n_estimators': 152, 'max_depth': 1, 'learning_rate': 0.10495837949245178, 'subsample': 0.9235029012305588, 'colsample_bytree': 0.6189190777909344}. Best is trial 0 with value: 168.14304472069384.\n",
      "c:\\Users\\gavar\\AppData\\Local\\Programs\\Python\\Python39\\lib\\site-packages\\sklearn\\metrics\\_regression.py:492: FutureWarning: 'squared' is deprecated in version 1.4 and will be removed in 1.6. To calculate the root mean squared error, use the function'root_mean_squared_error'.\n",
      "  warnings.warn(\n",
      "[I 2024-07-14 14:44:55,170] Trial 2 finished with value: 171.33789617446345 and parameters: {'n_estimators': 143, 'max_depth': 3, 'learning_rate': 0.20143452006367377, 'subsample': 0.8032834136109934, 'colsample_bytree': 0.719302703077434}. Best is trial 0 with value: 168.14304472069384.\n",
      "c:\\Users\\gavar\\AppData\\Local\\Programs\\Python\\Python39\\lib\\site-packages\\sklearn\\metrics\\_regression.py:492: FutureWarning: 'squared' is deprecated in version 1.4 and will be removed in 1.6. To calculate the root mean squared error, use the function'root_mean_squared_error'.\n",
      "  warnings.warn(\n",
      "[I 2024-07-14 14:44:57,247] Trial 3 finished with value: 161.3057296532597 and parameters: {'n_estimators': 142, 'max_depth': 8, 'learning_rate': 0.051735249823456904, 'subsample': 0.7232447166444724, 'colsample_bytree': 0.9201385282729118}. Best is trial 3 with value: 161.3057296532597.\n",
      "c:\\Users\\gavar\\AppData\\Local\\Programs\\Python\\Python39\\lib\\site-packages\\sklearn\\metrics\\_regression.py:492: FutureWarning: 'squared' is deprecated in version 1.4 and will be removed in 1.6. To calculate the root mean squared error, use the function'root_mean_squared_error'.\n",
      "  warnings.warn(\n",
      "[I 2024-07-14 14:44:57,722] Trial 4 finished with value: 189.00913470525072 and parameters: {'n_estimators': 126, 'max_depth': 2, 'learning_rate': 0.17344056594676982, 'subsample': 0.8489258180165984, 'colsample_bytree': 0.7264198202953835}. Best is trial 3 with value: 161.3057296532597.\n",
      "\u001b[1;35mBest Hyperparameters: {'n_estimators': 142, 'max_depth': 8, 'learning_rate': 0.051735249823456904, 'subsample': 0.7232447166444724, 'colsample_bytree': 0.9201385282729118}\u001b[0m\n",
      "\u001b[1;35mHp-Tuning step successfully completed.\u001b[0m\n",
      "\u001b[1;35mStep \u001b[0m\u001b[1;36mhp_tuning\u001b[1;35m has finished in \u001b[0m\u001b[1;36m7.103s\u001b[1;35m.\u001b[0m\n",
      "\u001b[1;35mStep \u001b[0m\u001b[1;36mhp_tuning\u001b[1;35m completed successfully.\u001b[0m\n",
      "\u001b[1;35mStep \u001b[0m\u001b[1;36mmodel_trainer\u001b[1;35m has started.\u001b[0m\n",
      "c:\\Users\\gavar\\AppData\\Local\\Programs\\Python\\Python39\\lib\\site-packages\\sklearn\\metrics\\_regression.py:492: FutureWarning: 'squared' is deprecated in version 1.4 and will be removed in 1.6. To calculate the root mean squared error, use the function'root_mean_squared_error'.\n",
      "  warnings.warn(\n",
      "\u001b[1;35mStep \u001b[0m\u001b[1;36mmodel_trainer\u001b[1;35m has finished in \u001b[0m\u001b[1;36m4.444s\u001b[1;35m.\u001b[0m\n",
      "\u001b[1;35mStep \u001b[0m\u001b[1;36mmodel_trainer\u001b[1;35m completed successfully.\u001b[0m\n",
      "\u001b[1;35mStep \u001b[0m\u001b[1;36mevaluate_model\u001b[1;35m has started.\u001b[0m\n",
      "\u001b[1;35mInitializing wandb with entity None, project name: None, run_name: training_pipeline-2024_07_14-12_44_50_664220_evaluate_model.\u001b[0m\n",
      "\u001b[31mFailed to detect the name of this notebook, you can set it manually with the WANDB_NOTEBOOK_NAME environment variable to enable code saving.\u001b[0m\n",
      "\u001b[34m\u001b[1mwandb\u001b[0m: Currently logged in as: \u001b[33mgavarina1\u001b[0m (\u001b[33mss24_eai\u001b[0m). Use \u001b[1m`wandb login --relogin`\u001b[0m to force relogin\n"
     ]
    },
    {
     "data": {
      "text/html": [
       "Tracking run with wandb version 0.17.4"
      ],
      "text/plain": [
       "<IPython.core.display.HTML object>"
      ]
     },
     "metadata": {},
     "output_type": "display_data"
    },
    {
     "data": {
      "text/html": [
       "Run data is saved locally in <code>d:\\Studium\\Master\\EnterpriseAI\\EAI-SS24-finalProject\\wandb\\run-20240714_144504-spwiewob</code>"
      ],
      "text/plain": [
       "<IPython.core.display.HTML object>"
      ]
     },
     "metadata": {},
     "output_type": "display_data"
    },
    {
     "data": {
      "text/html": [
       "Syncing run <strong><a href='https://wandb.ai/ss24_eai/EAI-SS24-finalProject/runs/spwiewob' target=\"_blank\">training_pipeline-2024_07_14-12_44_50_664220_evaluate_model</a></strong> to <a href='https://wandb.ai/ss24_eai/EAI-SS24-finalProject' target=\"_blank\">Weights & Biases</a> (<a href='https://wandb.me/run' target=\"_blank\">docs</a>)<br/>"
      ],
      "text/plain": [
       "<IPython.core.display.HTML object>"
      ]
     },
     "metadata": {},
     "output_type": "display_data"
    },
    {
     "data": {
      "text/html": [
       " View project at <a href='https://wandb.ai/ss24_eai/EAI-SS24-finalProject' target=\"_blank\">https://wandb.ai/ss24_eai/EAI-SS24-finalProject</a>"
      ],
      "text/plain": [
       "<IPython.core.display.HTML object>"
      ]
     },
     "metadata": {},
     "output_type": "display_data"
    },
    {
     "data": {
      "text/html": [
       " View run at <a href='https://wandb.ai/ss24_eai/EAI-SS24-finalProject/runs/spwiewob' target=\"_blank\">https://wandb.ai/ss24_eai/EAI-SS24-finalProject/runs/spwiewob</a>"
      ],
      "text/plain": [
       "<IPython.core.display.HTML object>"
      ]
     },
     "metadata": {},
     "output_type": "display_data"
    },
    {
     "name": "stdout",
     "output_type": "stream",
     "text": [
      "\u001b[1;35mStarting evaluate_model step...\u001b[0m\n",
      "c:\\Users\\gavar\\AppData\\Local\\Programs\\Python\\Python39\\lib\\site-packages\\sklearn\\metrics\\_regression.py:492: FutureWarning: 'squared' is deprecated in version 1.4 and will be removed in 1.6. To calculate the root mean squared error, use the function'root_mean_squared_error'.\n",
      "  warnings.warn(\n"
     ]
    },
    {
     "data": {
      "text/html": [
       "Finishing last run (ID:spwiewob) before initializing another..."
      ],
      "text/plain": [
       "<IPython.core.display.HTML object>"
      ]
     },
     "metadata": {},
     "output_type": "display_data"
    },
    {
     "data": {
      "application/vnd.jupyter.widget-view+json": {
       "model_id": "f94974eb7b0f4892a648c19021947439",
       "version_major": 2,
       "version_minor": 0
      },
      "text/plain": [
       "VBox(children=(Label(value='0.001 MB of 0.001 MB uploaded\\r'), FloatProgress(value=1.0, max=1.0)))"
      ]
     },
     "metadata": {},
     "output_type": "display_data"
    },
    {
     "data": {
      "text/html": [
       " View run <strong style=\"color:#cdcd00\">training_pipeline-2024_07_14-12_44_50_664220_evaluate_model</strong> at: <a href='https://wandb.ai/ss24_eai/EAI-SS24-finalProject/runs/spwiewob' target=\"_blank\">https://wandb.ai/ss24_eai/EAI-SS24-finalProject/runs/spwiewob</a><br/> View project at: <a href='https://wandb.ai/ss24_eai/EAI-SS24-finalProject' target=\"_blank\">https://wandb.ai/ss24_eai/EAI-SS24-finalProject</a><br/>Synced 5 W&B file(s), 0 media file(s), 0 artifact file(s) and 0 other file(s)"
      ],
      "text/plain": [
       "<IPython.core.display.HTML object>"
      ]
     },
     "metadata": {},
     "output_type": "display_data"
    },
    {
     "data": {
      "text/html": [
       "Find logs at: <code>.\\wandb\\run-20240714_144504-spwiewob\\logs</code>"
      ],
      "text/plain": [
       "<IPython.core.display.HTML object>"
      ]
     },
     "metadata": {},
     "output_type": "display_data"
    },
    {
     "data": {
      "text/html": [
       "The new W&B backend becomes opt-out in version 0.18.0; try it out with `wandb.require(\"core\")`! See https://wandb.me/wandb-core for more information."
      ],
      "text/plain": [
       "<IPython.core.display.HTML object>"
      ]
     },
     "metadata": {},
     "output_type": "display_data"
    },
    {
     "data": {
      "text/html": [
       "Successfully finished last run (ID:spwiewob). Initializing new run:<br/>"
      ],
      "text/plain": [
       "<IPython.core.display.HTML object>"
      ]
     },
     "metadata": {},
     "output_type": "display_data"
    },
    {
     "data": {
      "application/vnd.jupyter.widget-view+json": {
       "model_id": "cda3be6f63b84fbcb72693125bf56b98",
       "version_major": 2,
       "version_minor": 0
      },
      "text/plain": [
       "VBox(children=(Label(value='Waiting for wandb.init()...\\r'), FloatProgress(value=0.011288888888925108, max=1.0…"
      ]
     },
     "metadata": {},
     "output_type": "display_data"
    },
    {
     "data": {
      "text/html": [
       "Tracking run with wandb version 0.17.4"
      ],
      "text/plain": [
       "<IPython.core.display.HTML object>"
      ]
     },
     "metadata": {},
     "output_type": "display_data"
    },
    {
     "data": {
      "text/html": [
       "Run data is saved locally in <code>d:\\Studium\\Master\\EnterpriseAI\\EAI-SS24-finalProject\\wandb\\run-20240714_144505-rylnoico</code>"
      ],
      "text/plain": [
       "<IPython.core.display.HTML object>"
      ]
     },
     "metadata": {},
     "output_type": "display_data"
    },
    {
     "data": {
      "text/html": [
       "Syncing run <strong><a href='https://wandb.ai/ss24_eai/forcasting_model_multivariant/runs/rylnoico' target=\"_blank\">multi_xgboost_5_trials</a></strong> to <a href='https://wandb.ai/ss24_eai/forcasting_model_multivariant' target=\"_blank\">Weights & Biases</a> (<a href='https://wandb.me/run' target=\"_blank\">docs</a>)<br/>"
      ],
      "text/plain": [
       "<IPython.core.display.HTML object>"
      ]
     },
     "metadata": {},
     "output_type": "display_data"
    },
    {
     "data": {
      "text/html": [
       " View project at <a href='https://wandb.ai/ss24_eai/forcasting_model_multivariant' target=\"_blank\">https://wandb.ai/ss24_eai/forcasting_model_multivariant</a>"
      ],
      "text/plain": [
       "<IPython.core.display.HTML object>"
      ]
     },
     "metadata": {},
     "output_type": "display_data"
    },
    {
     "data": {
      "text/html": [
       " View run at <a href='https://wandb.ai/ss24_eai/forcasting_model_multivariant/runs/rylnoico' target=\"_blank\">https://wandb.ai/ss24_eai/forcasting_model_multivariant/runs/rylnoico</a>"
      ],
      "text/plain": [
       "<IPython.core.display.HTML object>"
      ]
     },
     "metadata": {},
     "output_type": "display_data"
    },
    {
     "name": "stdout",
     "output_type": "stream",
     "text": [
      "\u001b[1;35mDeployment decision: False\u001b[0m\n",
      "\u001b[1;35mFinished evaluate_model step.\u001b[0m\n"
     ]
    },
    {
     "data": {
      "application/vnd.jupyter.widget-view+json": {
       "model_id": "693d862bb3ab45b19b5b89481686053e",
       "version_major": 2,
       "version_minor": 0
      },
      "text/plain": [
       "VBox(children=(Label(value='0.001 MB of 0.001 MB uploaded\\r'), FloatProgress(value=1.0, max=1.0)))"
      ]
     },
     "metadata": {},
     "output_type": "display_data"
    },
    {
     "data": {
      "text/html": [
       "<style>\n",
       "    table.wandb td:nth-child(1) { padding: 0 10px; text-align: left ; width: auto;} td:nth-child(2) {text-align: left ; width: 100%}\n",
       "    .wandb-row { display: flex; flex-direction: row; flex-wrap: wrap; justify-content: flex-start; width: 100% }\n",
       "    .wandb-col { display: flex; flex-direction: column; flex-basis: 100%; flex: 1; padding: 10px; }\n",
       "    </style>\n",
       "<div class=\"wandb-row\"><div class=\"wandb-col\"><h3>Run history:</h3><br/><table class=\"wandb\"><tr><td>colsample_bytree</td><td>▁</td></tr><tr><td>deployment_decision</td><td>▁</td></tr><tr><td>in_sample_rmse</td><td>▁</td></tr><tr><td>learning_rate</td><td>▁</td></tr><tr><td>mae</td><td>▁</td></tr><tr><td>max_depth</td><td>▁</td></tr><tr><td>mse</td><td>▁</td></tr><tr><td>n_estimators</td><td>▁</td></tr><tr><td>r2</td><td>▁</td></tr><tr><td>rmse</td><td>▁</td></tr><tr><td>subsample</td><td>▁</td></tr><tr><td>trials</td><td>▁</td></tr></table><br/></div><div class=\"wandb-col\"><h3>Run summary:</h3><br/><table class=\"wandb\"><tr><td>colsample_bytree</td><td>0.92014</td></tr><tr><td>deployment_decision</td><td>False</td></tr><tr><td>in_sample_rmse</td><td>59.08441</td></tr><tr><td>learning_rate</td><td>0.05174</td></tr><tr><td>mae</td><td>73.3559</td></tr><tr><td>max_depth</td><td>8</td></tr><tr><td>model_type</td><td>xgboost</td></tr><tr><td>model_variant</td><td>multi</td></tr><tr><td>mse</td><td>20977.29559</td></tr><tr><td>n_estimators</td><td>142</td></tr><tr><td>r2</td><td>0.97323</td></tr><tr><td>rmse</td><td>144.83541</td></tr><tr><td>subsample</td><td>0.72324</td></tr><tr><td>trials</td><td>5</td></tr></table><br/></div></div>"
      ],
      "text/plain": [
       "<IPython.core.display.HTML object>"
      ]
     },
     "metadata": {},
     "output_type": "display_data"
    },
    {
     "data": {
      "text/html": [
       " View run <strong style=\"color:#cdcd00\">multi_xgboost_5_trials</strong> at: <a href='https://wandb.ai/ss24_eai/forcasting_model_multivariant/runs/rylnoico' target=\"_blank\">https://wandb.ai/ss24_eai/forcasting_model_multivariant/runs/rylnoico</a><br/> View project at: <a href='https://wandb.ai/ss24_eai/forcasting_model_multivariant' target=\"_blank\">https://wandb.ai/ss24_eai/forcasting_model_multivariant</a><br/>Synced 5 W&B file(s), 0 media file(s), 0 artifact file(s) and 0 other file(s)"
      ],
      "text/plain": [
       "<IPython.core.display.HTML object>"
      ]
     },
     "metadata": {},
     "output_type": "display_data"
    },
    {
     "data": {
      "text/html": [
       "Find logs at: <code>.\\wandb\\run-20240714_144505-rylnoico\\logs</code>"
      ],
      "text/plain": [
       "<IPython.core.display.HTML object>"
      ]
     },
     "metadata": {},
     "output_type": "display_data"
    },
    {
     "data": {
      "text/html": [
       "The new W&B backend becomes opt-out in version 0.18.0; try it out with `wandb.require(\"core\")`! See https://wandb.me/wandb-core for more information."
      ],
      "text/plain": [
       "<IPython.core.display.HTML object>"
      ]
     },
     "metadata": {},
     "output_type": "display_data"
    },
    {
     "name": "stdout",
     "output_type": "stream",
     "text": [
      "\u001b[1;35mStep \u001b[0m\u001b[1;36mevaluate_model\u001b[1;35m has finished in \u001b[0m\u001b[1;36m18.126s\u001b[1;35m.\u001b[0m\n",
      "\u001b[1;35mStep \u001b[0m\u001b[1;36mevaluate_model\u001b[1;35m completed successfully.\u001b[0m\n",
      "\u001b[1;35mPipeline run has finished in \u001b[0m\u001b[1;36m30.063s\u001b[1;35m.\u001b[0m\n",
      "\u001b[1;35mTraining pipeline completed.\u001b[0m\n"
     ]
    }
   ],
   "source": [
    "# Set the model variant and type\n",
    "#m_variant = \"uni\"\n",
    "m_variant = \"multi\"\n",
    "m_type = \"xgboost\"\n",
    "#m_type = \"random_forest\"\n",
    "#lags = 5\n",
    "\n",
    "run_pipelines(model_variant=m_variant, model_type=m_type)"
   ]
  },
  {
   "cell_type": "code",
   "execution_count": 14,
   "metadata": {},
   "outputs": [],
   "source": [
    "#OLD !python run.py\n",
    "\n",
    "#import subprocess\n",
    "\n",
    "# Define the parameters\n",
    "#model_variant = \"multi\"  # Replace with \"multi\" or \"uni\"\n",
    "#model_type = \"xgb\"  # Replace with \"xgb\" or \"arima\"\n",
    "\n",
    "# Call run.py with parameters using subprocess\n",
    "#subprocess.run(['python', 'run.py', '--model_variant', model_variant, '--model_type', model_type])\n"
   ]
  },
  {
   "cell_type": "markdown",
   "metadata": {},
   "source": [
    "## Dashboard"
   ]
  },
  {
   "cell_type": "code",
   "execution_count": 15,
   "metadata": {},
   "outputs": [],
   "source": [
    "# from IPython.display import display, HTML\n",
    "# from zenml.client import Client\n",
    "\n",
    "# client = Client()\n",
    "# #mit \n",
    "# report = client.get_artifact_version(\"\").load()\n",
    "\n",
    "# display(HTML(report))"
   ]
  },
  {
   "cell_type": "markdown",
   "metadata": {},
   "source": [
    "## Nun erst die inference = Using the best model????"
   ]
  }
 ],
 "metadata": {
  "kernelspec": {
   "display_name": "Python 3",
   "language": "python",
   "name": "python3"
  },
  "language_info": {
   "codemirror_mode": {
    "name": "ipython",
    "version": 3
   },
   "file_extension": ".py",
   "mimetype": "text/x-python",
   "name": "python",
   "nbconvert_exporter": "python",
   "pygments_lexer": "ipython3",
   "version": "3.9.13"
  }
 },
 "nbformat": 4,
 "nbformat_minor": 2
}
