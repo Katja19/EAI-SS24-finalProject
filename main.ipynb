{
 "cells": [
  {
   "cell_type": "markdown",
   "metadata": {},
   "source": [
    "# EAI Final Project"
   ]
  },
  {
   "cell_type": "markdown",
   "metadata": {},
   "source": [
    "## Setup of zenML"
   ]
  },
  {
   "cell_type": "code",
   "execution_count": 1,
   "metadata": {},
   "outputs": [
    {
     "name": "stdout",
     "output_type": "stream",
     "text": [
      "⠋ Initializing ZenML repository at \n",
      "c:\\Users\\User\\VSCProjects\\EAI_SS24\\EAI-SS24-finalProject.\n",
      "\n",
      "⠙ Initializing ZenML repository at \n",
      "c:\\Users\\User\\VSCProjects\\EAI_SS24\\EAI-SS24-finalProject.\n",
      "\u001b[1;35mSetting the repo active workspace to 'default'.\u001b[0m\n",
      "\u001b[33mSetting the repo active stack to default.\u001b[0m\n",
      "\n",
      "ZenML repository initialized at \n",
      "c:\\Users\\User\\VSCProjects\\EAI_SS24\\EAI-SS24-finalProject.\n",
      "⠸ Initializing ZenML repository at \n",
      "c:\\Users\\User\\VSCProjects\\EAI_SS24\\EAI-SS24-finalProject.\n",
      "\n",
      "⠸ Initializing ZenML repository at \n",
      "c:\\Users\\User\\VSCProjects\\EAI_SS24\\EAI-SS24-finalProject.\n",
      "\n",
      "\n",
      "The local active stack was initialized to 'default'. This local configuration \n",
      "will only take effect when you're running ZenML from the initialized repository\n",
      "root, or from a subdirectory. For more information on repositories and \n",
      "configurations, please visit \n",
      "https://docs.zenml.io/user-guide/starter-guide/understand-stacks.\n",
      "⠋ Installing integrations...\n",
      "⠙ Installing integrations...\n",
      "⠹ Installing integrations...\n",
      "⠸ Installing integrations...\n",
      "⠼ Installing integrations...\n",
      "⠴ Installing integrations...\n",
      "⠦ Installing integrations...\n",
      "⠧ Installing integrations...\n",
      "⠇ Installing integrations...\n",
      "⠏ Installing integrations...\n",
      "⠋ Installing integrations...\n",
      "⠙ Installing integrations...\n",
      "⠸ Installing integrations...\n",
      "⠼ Installing integrations...\n",
      "⠴ Installing integrations...\n",
      "⠦ Installing integrations...\n",
      "⠧ Installing integrations...\n",
      "\n"
     ]
    }
   ],
   "source": [
    "# Here we are going to create a new ZenML project\n",
    "#!rm -rf .zen # don't work under windows, cause it's a unix-command\n",
    "!rmdir /S /Q .zen\n",
    "!zenml init\n",
    "!zenml integration install sklearn -y"
   ]
  },
  {
   "cell_type": "code",
   "execution_count": 2,
   "metadata": {},
   "outputs": [
    {
     "name": "stdout",
     "output_type": "stream",
     "text": [
      "        Stack Configuration        \n",
      "┌────────────────┬────────────────┐\n",
      "│ COMPONENT_TYPE │ COMPONENT_NAME │\n",
      "├────────────────┼────────────────┤\n",
      "│ ARTIFACT_STORE │ default        │\n",
      "├────────────────┼────────────────┤\n",
      "│ ORCHESTRATOR   │ default        │\n",
      "└────────────────┴────────────────┘\n",
      "     'default' stack (ACTIVE)      \n",
      "⠋ Describing the stack...\n",
      "\n",
      "No labels are set for this stack.\n",
      "⠋ Describing the stack...\n",
      "\n",
      "Stack 'default' with id '55222316-9ac8-47bc-97de-829f73a8a621' is unowned.\n",
      "⠋ Describing the stack...\n",
      "\n",
      "⠋ Describing the stack...\n",
      "\n",
      "\n",
      "You can display various ZenML entities including pipelines, runs, stacks and \n",
      "much more on the ZenML Dashboard. You can try it locally, by running `zenml \n",
      "up`, or remotely, by deploying ZenML on the infrastructure of your choice.\n"
     ]
    }
   ],
   "source": [
    "# First we are checking the status of the stack\n",
    "!zenml stack describe"
   ]
  },
  {
   "cell_type": "code",
   "execution_count": 3,
   "metadata": {},
   "outputs": [
    {
     "name": "stdout",
     "output_type": "stream",
     "text": [
      "⠋ Installing integrations...\n",
      "⠙ Installing integrations...\n",
      "⠹ Installing integrations...\n",
      "⠸ Installing integrations...\n",
      "⠼ Installing integrations...\n",
      "⠴ Installing integrations...\n",
      "⠦ Installing integrations...\n",
      "⠇ Installing integrations...\n",
      "⠇ Installing integrations...\n",
      "⠋ Installing integrations...\n",
      "⠙ Installing integrations...\n",
      "⠹ Installing integrations...\n",
      "⠸ Installing integrations...\n",
      "⠼ Installing integrations...\n",
      "⠦ Installing integrations...\n",
      "⠦ Installing integrations...\n",
      "⠇ Installing integrations...\n",
      "⠇ Installing integrations...\n",
      "\n"
     ]
    }
   ],
   "source": [
    "# Now we are going to install the MLFlow integration, which is a very popular open-source platform for managing the end-to-end machine learning lifecycle\n",
    "#!zenml integration install mlflow -y\n",
    "!zenml integration install wandb -y"
   ]
  },
  {
   "cell_type": "code",
   "execution_count": 4,
   "metadata": {},
   "outputs": [
    {
     "name": "stdout",
     "output_type": "stream",
     "text": [
      "⠋ Registering experiment tracker 'wandb_experiment_tracker'...\n",
      "\n",
      "⠋ Registering experiment tracker 'wandb_experiment_tracker'...\n",
      "\n",
      "⠹ Registering experiment tracker 'wandb_experiment_tracker'...\n",
      "\n",
      "⠸ Registering experiment tracker 'wandb_experiment_tracker'...\n",
      "\n",
      "⠼ Registering experiment tracker 'wandb_experiment_tracker'...\n",
      "\n",
      "⠴ Registering experiment tracker 'wandb_experiment_tracker'...\n",
      "\n",
      "⠦ Registering experiment tracker 'wandb_experiment_tracker'...\n",
      "\n",
      "⠧ Registering experiment tracker 'wandb_experiment_tracker'...\n",
      "\n",
      "⠇ Registering experiment tracker 'wandb_experiment_tracker'...\n",
      "\n",
      "⠇ Registering experiment tracker 'wandb_experiment_tracker'...\n",
      "\n",
      "\n"
     ]
    },
    {
     "name": "stderr",
     "output_type": "stream",
     "text": [
      "┌───────────────────── Traceback (most recent call last) ─────────────────────┐\n",
      "│ in _run_module_as_main:198                                                  │\n",
      "│ in _run_code:88                                                             │\n",
      "│                                                                             │\n",
      "│ in <module>:7                                                               │\n",
      "│                                                                             │\n",
      "│ C:\\Users\\User\\AppData\\Roaming\\Python\\Python311\\site-packages\\click\\core.py: │\n",
      "│ 1130 in __call__                                                            │\n",
      "│                                                                             │\n",
      "│   1127 │                                                                    │\n",
      "│   1128 │   def __call__(self, *args: t.Any, **kwargs: t.Any) -> t.Any:      │\n",
      "│   1129 │   │   \"\"\"Alias for :meth:`main`.\"\"\"                                │\n",
      "│ > 1130 │   │   return self.main(*args, **kwargs)                            │\n",
      "│   1131                                                                      │\n",
      "│   1132                                                                      │\n",
      "│   1133 class Command(BaseCommand):                                          │\n",
      "│                                                                             │\n",
      "│ C:\\Users\\User\\AppData\\Roaming\\Python\\Python311\\site-packages\\click\\core.py: │\n",
      "│ 1055 in main                                                                │\n",
      "│                                                                             │\n",
      "│   1052 │   │   try:                                                         │\n",
      "│   1053 │   │   │   try:                                                     │\n",
      "│   1054 │   │   │   │   with self.make_context(prog_name, args, **extra) as  │\n",
      "│ > 1055 │   │   │   │   │   rv = self.invoke(ctx)                            │\n",
      "│   1056 │   │   │   │   │   if not standalone_mode:                          │\n",
      "│   1057 │   │   │   │   │   │   return rv                                    │\n",
      "│   1058 │   │   │   │   │   # it's not safe to `ctx.exit(rv)` here!          │\n",
      "│                                                                             │\n",
      "│ C:\\Users\\User\\AppData\\Roaming\\Python\\Python311\\site-packages\\click\\core.py: │\n",
      "│ 1657 in invoke                                                              │\n",
      "│                                                                             │\n",
      "│   1654 │   │   │   │   super().invoke(ctx)                                  │\n",
      "│   1655 │   │   │   │   sub_ctx = cmd.make_context(cmd_name, args, parent=ct │\n",
      "│   1656 │   │   │   │   with sub_ctx:                                        │\n",
      "│ > 1657 │   │   │   │   │   return _process_result(sub_ctx.command.invoke(su │\n",
      "│   1658 │   │                                                                │\n",
      "│   1659 │   │   # In chain mode we create the contexts step by step, but aft │\n",
      "│   1660 │   │   # base command has been invoked.  Because at that point we d │\n",
      "│                                                                             │\n",
      "│ C:\\Users\\User\\AppData\\Roaming\\Python\\Python311\\site-packages\\click\\core.py: │\n",
      "│ 1657 in invoke                                                              │\n",
      "│                                                                             │\n",
      "│   1654 │   │   │   │   super().invoke(ctx)                                  │\n",
      "│   1655 │   │   │   │   sub_ctx = cmd.make_context(cmd_name, args, parent=ct │\n",
      "│   1656 │   │   │   │   with sub_ctx:                                        │\n",
      "│ > 1657 │   │   │   │   │   return _process_result(sub_ctx.command.invoke(su │\n",
      "│   1658 │   │                                                                │\n",
      "│   1659 │   │   # In chain mode we create the contexts step by step, but aft │\n",
      "│   1660 │   │   # base command has been invoked.  Because at that point we d │\n",
      "│                                                                             │\n",
      "│ C:\\Users\\User\\AppData\\Roaming\\Python\\Python311\\site-packages\\click\\core.py: │\n",
      "│ 1404 in invoke                                                              │\n",
      "│                                                                             │\n",
      "│   1401 │   │   │   echo(style(message, fg=\"red\"), err=True)                 │\n",
      "│   1402 │   │                                                                │\n",
      "│   1403 │   │   if self.callback is not None:                                │\n",
      "│ > 1404 │   │   │   return ctx.invoke(self.callback, **ctx.params)           │\n",
      "│   1405 │                                                                    │\n",
      "│   1406 │   def shell_complete(self, ctx: Context, incomplete: str) -> t.Lis │\n",
      "│   1407 │   │   \"\"\"Return a list of completions for the incomplete value. Lo │\n",
      "│                                                                             │\n",
      "│ C:\\Users\\User\\AppData\\Roaming\\Python\\Python311\\site-packages\\click\\core.py: │\n",
      "│ 760 in invoke                                                               │\n",
      "│                                                                             │\n",
      "│    757 │   │                                                                │\n",
      "│    758 │   │   with augment_usage_errors(__self):                           │\n",
      "│    759 │   │   │   with ctx:                                                │\n",
      "│ >  760 │   │   │   │   return __callback(*args, **kwargs)                   │\n",
      "│    761 │                                                                    │\n",
      "│    762 │   def forward(                                                     │\n",
      "│    763 │   │   __self, __cmd: \"Command\", *args: t.Any, **kwargs: t.Any  # n │\n",
      "│                                                                             │\n",
      "│ C:\\Users\\User\\AppData\\Roaming\\Python\\Python311\\site-packages\\zenml\\cli\\stac │\n",
      "│ k_components.py:287 in register_stack_component_command                     │\n",
      "│                                                                             │\n",
      "│    284 │   │                                                                │\n",
      "│    285 │   │   with console.status(f\"Registering {display_name} '{name}'... │\n",
      "│    286 │   │   │   # Create a new stack component model                     │\n",
      "│ >  287 │   │   │   component = client.create_stack_component(               │\n",
      "│    288 │   │   │   │   name=name,                                           │\n",
      "│    289 │   │   │   │   flavor=flavor,                                       │\n",
      "│    290 │   │   │   │   component_type=component_type,                       │\n",
      "│                                                                             │\n",
      "│ C:\\Users\\User\\AppData\\Roaming\\Python\\Python311\\site-packages\\zenml\\client_l │\n",
      "│ azy_loader.py:198 in _inner                                                 │\n",
      "│                                                                             │\n",
      "│   195 │   │   │   │   │   with contextlib.suppress(ValueError):             │\n",
      "│   196 │   │   │   │   │   │   kwargs[k] = ClientLazyLoader(**v).evaluate()  │\n",
      "│   197 │   │   │                                                             │\n",
      "│ > 198 │   │   │   return func(*args_, **kwargs)                             │\n",
      "│   199 │   │                                                                 │\n",
      "│   200 │   │   return _inner                                                 │\n",
      "│   201                                                                       │\n",
      "│                                                                             │\n",
      "│ C:\\Users\\User\\AppData\\Roaming\\Python\\Python311\\site-packages\\zenml\\client.p │\n",
      "│ y:2003 in create_stack_component                                            │\n",
      "│                                                                             │\n",
      "│   2000 │   │   )                                                            │\n",
      "│   2001 │   │                                                                │\n",
      "│   2002 │   │   # Register the new model                                     │\n",
      "│ > 2003 │   │   return self.zen_store.create_stack_component(                │\n",
      "│   2004 │   │   │   component=create_component_model                         │\n",
      "│   2005 │   │   )                                                            │\n",
      "│   2006                                                                      │\n",
      "│                                                                             │\n",
      "│ C:\\Users\\User\\AppData\\Roaming\\Python\\Python311\\site-packages\\zenml\\analytic │\n",
      "│ s\\utils.py:178 in inner_func                                                │\n",
      "│                                                                             │\n",
      "│   175 │   │   │   │   except Exception as e:                                │\n",
      "│   176 │   │   │   │   │   logger.debug(f\"Analytics tracking failure for {fu │\n",
      "│   177 │   │   │   │                                                         │\n",
      "│ > 178 │   │   │   │   result = func(*args, **kwargs)                        │\n",
      "│   179 │   │   │   │                                                         │\n",
      "│   180 │   │   │   │   try:                                                  │\n",
      "│   181 │   │   │   │   │   if isinstance(result, AnalyticsTrackedModelMixin) │\n",
      "│                                                                             │\n",
      "│ C:\\Users\\User\\AppData\\Roaming\\Python\\Python311\\site-packages\\zenml\\zen_stor │\n",
      "│ es\\sql_zen_store.py:3103 in create_stack_component                          │\n",
      "│                                                                             │\n",
      "│    3100 │   │   \"\"\"                                                         │\n",
      "│    3101 │   │   validate_name(component)                                    │\n",
      "│    3102 │   │   with Session(self.engine) as session:                       │\n",
      "│ >  3103 │   │   │   self._fail_if_component_with_name_type_exists(          │\n",
      "│    3104 │   │   │   │   name=component.name,                                │\n",
      "│    3105 │   │   │   │   component_type=component.type,                      │\n",
      "│    3106 │   │   │   │   workspace_id=component.workspace,                   │\n",
      "│                                                                             │\n",
      "│ C:\\Users\\User\\AppData\\Roaming\\Python\\Python311\\site-packages\\zenml\\zen_stor │\n",
      "│ es\\sql_zen_store.py:3384 in _fail_if_component_with_name_type_exists        │\n",
      "│                                                                             │\n",
      "│    3381 │   │   │   .where(StackComponentSchema.type == component_type)     │\n",
      "│    3382 │   │   ).first()                                                   │\n",
      "│    3383 │   │   if existing_domain_component is not None:                   │\n",
      "│ >  3384 │   │   │   raise StackComponentExistsError(                        │\n",
      "│    3385 │   │   │   │   f\"Unable to register '{component_type}' component \" │\n",
      "│    3386 │   │   │   │   f\"with name '{name}': Found an existing \"           │\n",
      "│    3387 │   │   │   │   f\"component with the same name and type in the same │\n",
      "└─────────────────────────────────────────────────────────────────────────────┘\n",
      "StackComponentExistsError: Unable to register 'experiment_tracker' component \n",
      "with name 'wandb_experiment_tracker': Found an existing component with the same\n",
      "name and type in the same  workspace 'default'.\n"
     ]
    }
   ],
   "source": [
    "# Now we are going to register the MLFlow integration for the experiment tracker, which is the component that tracks the experiments and logs the results\n",
    "import os\n",
    "api_key_wandb = os.environ['WANDB_API_KEY']\n",
    "!zenml experiment-tracker register wandb_experiment_tracker --flavor=wandb --api_key=$api_key_wandb"
   ]
  },
  {
   "cell_type": "code",
   "execution_count": 5,
   "metadata": {},
   "outputs": [
    {
     "name": "stderr",
     "output_type": "stream",
     "text": [
      "Error: A stack with name `wandb_stack` already exists, please use a different name.\n"
     ]
    }
   ],
   "source": [
    "!zenml stack register wandb_stack -a default -o default -e wandb_experiment_tracker"
   ]
  },
  {
   "cell_type": "markdown",
   "metadata": {},
   "source": [
    "__Hint__: if the stack does not show the mlflow integration, check in the terminal if the mlflow is installed with  \n",
    "- zenml experiment-tracker list  \n",
    "- zenml model-deployer list  \n",
    "- zenml stack list  \n",
    "- activate the mlflow with: zenml stack set mlflow_stack  "
   ]
  },
  {
   "cell_type": "code",
   "execution_count": 6,
   "metadata": {},
   "outputs": [
    {
     "name": "stdout",
     "output_type": "stream",
     "text": [
      "Active repository stack set to: 'wandb_stack'\n",
      "⠋ Setting the repository active stack to 'wandb_stack'...\n",
      "⠋ Setting the repository active stack to 'wandb_stack'...\n",
      "\n"
     ]
    }
   ],
   "source": [
    "# change the stack to the mlflow stack\n",
    "!zenml stack set wandb_stack"
   ]
  },
  {
   "cell_type": "code",
   "execution_count": 7,
   "metadata": {},
   "outputs": [
    {
     "name": "stdout",
     "output_type": "stream",
     "text": [
      "               Stack Configuration               \n",
      "┌────────────────────┬──────────────────────────┐\n",
      "│ COMPONENT_TYPE     │ COMPONENT_NAME           │\n",
      "├────────────────────┼──────────────────────────┤\n",
      "│ ARTIFACT_STORE     │ default                  │\n",
      "├────────────────────┼──────────────────────────┤\n",
      "│ EXPERIMENT_TRACKER │ wandb_experiment_tracker │\n",
      "├────────────────────┼──────────────────────────┤\n",
      "│ ORCHESTRATOR       │ default                  │\n",
      "└────────────────────┴──────────────────────────┘\n",
      "          'wandb_stack' stack (ACTIVE)           \n",
      "⠋ Describing the stack...\n",
      "\n",
      "           Labels           \n",
      "┌──────────────────┬───────┐\n",
      "│ LABEL            │ VALUE │\n",
      "├──────────────────┼───────┤\n",
      "│ zenml:full_stack │ True  │\n",
      "└──────────────────┴───────┘\n",
      "⠋ Describing the stack...\n",
      "\n",
      "Stack 'wandb_stack' with id '10466513-5196-4c4e-9403-e0334a3670a0' is owned by \n",
      "user default.\n",
      "⠋ Describing the stack...\n",
      "\n",
      "⠋ Describing the stack...\n",
      "\n",
      "\n",
      "You can display various ZenML entities including pipelines, runs, stacks and \n",
      "much more on the ZenML Dashboard. You can try it locally, by running `zenml \n",
      "up`, or remotely, by deploying ZenML on the infrastructure of your choice.\n"
     ]
    }
   ],
   "source": [
    "# At last we are going to check the status of the stack again\n",
    "!zenml stack describe"
   ]
  },
  {
   "cell_type": "markdown",
   "metadata": {},
   "source": [
    "## Execute pipeline"
   ]
  },
  {
   "cell_type": "code",
   "execution_count": 8,
   "metadata": {},
   "outputs": [],
   "source": [
    "from run import run_pipelines"
   ]
  },
  {
   "cell_type": "code",
   "execution_count": 9,
   "metadata": {},
   "outputs": [
    {
     "name": "stdout",
     "output_type": "stream",
     "text": [
      "\u001b[1;35mStarting the feature engineering pipeline.\u001b[0m\n",
      "\u001b[1;35mStarting feature engineering pipeline...\u001b[0m\n",
      "\u001b[1;35mData updated.\u001b[0m\n",
      "Target variable scaled.\n",
      "\u001b[1;35mFeature engineering pipeline successfully completed.\u001b[0m\n",
      "\u001b[1;35mInitiating a new run for the pipeline: \u001b[0m\u001b[1;36mfeature_engineering_pipeline\u001b[1;35m.\u001b[0m\n",
      "\u001b[1;35mReusing registered pipeline version: \u001b[0m\u001b[1;36m(version: 102)\u001b[1;35m.\u001b[0m\n",
      "\u001b[1;35mExecuting a new run.\u001b[0m\n",
      "\u001b[1;35mUsing user: \u001b[0m\u001b[1;36mdefault\u001b[1;35m\u001b[0m\n",
      "\u001b[1;35mUsing stack: \u001b[0m\u001b[1;36mwandb_stack\u001b[1;35m\u001b[0m\n",
      "\u001b[1;35m  artifact_store: \u001b[0m\u001b[1;36mdefault\u001b[1;35m\u001b[0m\n",
      "\u001b[1;35m  experiment_tracker: \u001b[0m\u001b[1;36mwandb_experiment_tracker\u001b[1;35m\u001b[0m\n",
      "\u001b[1;35m  orchestrator: \u001b[0m\u001b[1;36mdefault\u001b[1;35m\u001b[0m\n",
      "\u001b[1;35mYou can visualize your pipeline runs in the \u001b[0m\u001b[1;36mZenML Dashboard\u001b[1;35m. In order to try it locally, please run \u001b[0m\u001b[1;36mzenml up\u001b[1;35m.\u001b[0m\n",
      "\u001b[1;35mUsing cached version of \u001b[0m\u001b[1;36mupdate_data\u001b[1;35m.\u001b[0m\n",
      "\u001b[1;35mStep \u001b[0m\u001b[1;36mupdate_data\u001b[1;35m has started.\u001b[0m\n",
      "\u001b[1;35mUsing cached version of \u001b[0m\u001b[1;36mload_data\u001b[1;35m.\u001b[0m\n",
      "\u001b[1;35mStep \u001b[0m\u001b[1;36mload_data\u001b[1;35m has started.\u001b[0m\n",
      "\u001b[1;35mUsing cached version of \u001b[0m\u001b[1;36mcreate_derived_features\u001b[1;35m.\u001b[0m\n",
      "\u001b[1;35mStep \u001b[0m\u001b[1;36mcreate_derived_features\u001b[1;35m has started.\u001b[0m\n",
      "\u001b[1;35mUsing cached version of \u001b[0m\u001b[1;36msplit_data\u001b[1;35m.\u001b[0m\n",
      "\u001b[1;35mStep \u001b[0m\u001b[1;36msplit_data\u001b[1;35m has started.\u001b[0m\n",
      "\u001b[1;35mUsing cached version of \u001b[0m\u001b[1;36mcreate_preprocessing_pipeline\u001b[1;35m.\u001b[0m\n",
      "\u001b[1;35mStep \u001b[0m\u001b[1;36mcreate_preprocessing_pipeline\u001b[1;35m has started.\u001b[0m\n",
      "\u001b[1;35mUsing cached version of \u001b[0m\u001b[1;36mscale_target_variable\u001b[1;35m.\u001b[0m\n",
      "\u001b[1;35mStep \u001b[0m\u001b[1;36mscale_target_variable\u001b[1;35m has started.\u001b[0m\n",
      "\u001b[1;35mUsing cached version of \u001b[0m\u001b[1;36mfeature_preprocessor\u001b[1;35m.\u001b[0m\n",
      "\u001b[1;35mStep \u001b[0m\u001b[1;36mfeature_preprocessor\u001b[1;35m has started.\u001b[0m\n",
      "\u001b[1;35mUsing cached version of \u001b[0m\u001b[1;36mcreate_eda_data\u001b[1;35m.\u001b[0m\n",
      "\u001b[1;35mStep \u001b[0m\u001b[1;36mcreate_eda_data\u001b[1;35m has started.\u001b[0m\n",
      "\u001b[1;35mPipeline run has finished in \u001b[0m\u001b[1;36m3.011s\u001b[1;35m.\u001b[0m\n",
      "\u001b[1;35mFeature engineering pipeline completed.\u001b[0m\n",
      "\u001b[1;35mStarting the training pipeline.\u001b[0m\n",
      "\u001b[1;35mStarting training_pipeline...\u001b[0m\n",
      "\u001b[1;35mFinished training_pipeline.\u001b[0m\n",
      "\u001b[1;35mInitiating a new run for the pipeline: \u001b[0m\u001b[1;36mtraining_pipeline\u001b[1;35m.\u001b[0m\n",
      "\u001b[1;35mReusing registered pipeline version: \u001b[0m\u001b[1;36m(version: 83)\u001b[1;35m.\u001b[0m\n",
      "\u001b[1;35mExecuting a new run.\u001b[0m\n",
      "\u001b[1;35mUsing user: \u001b[0m\u001b[1;36mdefault\u001b[1;35m\u001b[0m\n",
      "\u001b[1;35mUsing stack: \u001b[0m\u001b[1;36mwandb_stack\u001b[1;35m\u001b[0m\n",
      "\u001b[1;35m  artifact_store: \u001b[0m\u001b[1;36mdefault\u001b[1;35m\u001b[0m\n",
      "\u001b[1;35m  experiment_tracker: \u001b[0m\u001b[1;36mwandb_experiment_tracker\u001b[1;35m\u001b[0m\n",
      "\u001b[1;35m  orchestrator: \u001b[0m\u001b[1;36mdefault\u001b[1;35m\u001b[0m\n",
      "\u001b[1;35mYou can visualize your pipeline runs in the \u001b[0m\u001b[1;36mZenML Dashboard\u001b[1;35m. In order to try it locally, please run \u001b[0m\u001b[1;36mzenml up\u001b[1;35m.\u001b[0m\n",
      "\u001b[1;35mUsing cached version of \u001b[0m\u001b[1;36mhp_tuning\u001b[1;35m.\u001b[0m\n",
      "\u001b[1;35mStep \u001b[0m\u001b[1;36mhp_tuning\u001b[1;35m has started.\u001b[0m\n",
      "\u001b[1;35mUsing cached version of \u001b[0m\u001b[1;36mmodel_trainer\u001b[1;35m.\u001b[0m\n",
      "\u001b[1;35mStep \u001b[0m\u001b[1;36mmodel_trainer\u001b[1;35m has started.\u001b[0m\n",
      "\u001b[1;35mUsing cached version of \u001b[0m\u001b[1;36mevaluate_model\u001b[1;35m.\u001b[0m\n",
      "\u001b[1;35mStep \u001b[0m\u001b[1;36mevaluate_model\u001b[1;35m has started.\u001b[0m\n",
      "\u001b[1;35mPipeline run has finished in \u001b[0m\u001b[1;36m0.912s\u001b[1;35m.\u001b[0m\n",
      "\u001b[1;35mTraining pipeline completed.\u001b[0m\n",
      "\u001b[1;35mInitiating a new run for the pipeline: \u001b[0m\u001b[1;36minference_pipeline\u001b[1;35m.\u001b[0m\n",
      "\u001b[1;35mRegistered new version: \u001b[0m\u001b[1;36m(version 41)\u001b[1;35m.\u001b[0m\n",
      "\u001b[1;35mExecuting a new run.\u001b[0m\n",
      "\u001b[1;35mCaching is disabled by default for \u001b[0m\u001b[1;36minference_pipeline\u001b[1;35m.\u001b[0m\n",
      "\u001b[1;35mUsing user: \u001b[0m\u001b[1;36mdefault\u001b[1;35m\u001b[0m\n",
      "\u001b[1;35mUsing stack: \u001b[0m\u001b[1;36mwandb_stack\u001b[1;35m\u001b[0m\n",
      "\u001b[1;35m  artifact_store: \u001b[0m\u001b[1;36mdefault\u001b[1;35m\u001b[0m\n",
      "\u001b[1;35m  experiment_tracker: \u001b[0m\u001b[1;36mwandb_experiment_tracker\u001b[1;35m\u001b[0m\n",
      "\u001b[1;35m  orchestrator: \u001b[0m\u001b[1;36mdefault\u001b[1;35m\u001b[0m\n",
      "\u001b[1;35mYou can visualize your pipeline runs in the \u001b[0m\u001b[1;36mZenML Dashboard\u001b[1;35m. In order to try it locally, please run \u001b[0m\u001b[1;36mzenml up\u001b[1;35m.\u001b[0m\n",
      "\u001b[1;35mStep \u001b[0m\u001b[1;36mupdate_data\u001b[1;35m has started.\u001b[0m\n",
      "\u001b[1;35mStarting update_data step...\u001b[0m\n",
      "Connection to SQLite DB successful\n",
      "dataset.shape:  (14032, 11)\n",
      "existing_data.shape:  (14032, 7)\n",
      "Data successfully updated.\n",
      "url:  https://weather.visualcrossing.com/VisualCrossingWebServices/rest/services/timeline/w%C3%BCrzburg/2024-07-15/2024-07-15\n",
      "response.status_code:  200\n",
      "Weather data successfully updated.\n",
      "\u001b[1;35mUpdate data step successfully completed.\u001b[0m\n",
      "\u001b[1;35mStep \u001b[0m\u001b[1;36mupdate_data\u001b[1;35m has finished in \u001b[0m\u001b[1;36m13.246s\u001b[1;35m.\u001b[0m\n",
      "\u001b[1;35mStep \u001b[0m\u001b[1;36mupdate_data\u001b[1;35m completed successfully.\u001b[0m\n",
      "\u001b[1;35mStep \u001b[0m\u001b[1;36mload_data_inference\u001b[1;35m has started.\u001b[0m\n",
      "\u001b[1;35mStep \u001b[0m\u001b[1;36mload_data_inference\u001b[1;35m has finished in \u001b[0m\u001b[1;36m4.869s\u001b[1;35m.\u001b[0m\n",
      "\u001b[1;35mStep \u001b[0m\u001b[1;36mload_data_inference\u001b[1;35m completed successfully.\u001b[0m\n",
      "\u001b[1;35mStep \u001b[0m\u001b[1;36mcreate_derived_features_inference\u001b[1;35m has started.\u001b[0m\n",
      "\u001b[1;35mStarting create_derived_features step...\u001b[0m\n",
      "timestamp\n",
      "date\n",
      "datetime\n",
      "weekday\n",
      "\u001b[1;35mCreate derived features step successfully completed.\u001b[0m\n",
      "\u001b[1;35mStep \u001b[0m\u001b[1;36mcreate_derived_features_inference\u001b[1;35m has finished in \u001b[0m\u001b[1;36m4.706s\u001b[1;35m.\u001b[0m\n",
      "\u001b[1;35mStep \u001b[0m\u001b[1;36mcreate_derived_features_inference\u001b[1;35m completed successfully.\u001b[0m\n",
      "\u001b[1;35mStep \u001b[0m\u001b[1;36mcreate_inference_data\u001b[1;35m has started.\u001b[0m\n",
      "\u001b[1;35mStep \u001b[0m\u001b[1;36mcreate_inference_data\u001b[1;35m has finished in \u001b[0m\u001b[1;36m3.313s\u001b[1;35m.\u001b[0m\n",
      "\u001b[1;35mStep \u001b[0m\u001b[1;36mcreate_inference_data\u001b[1;35m completed successfully.\u001b[0m\n",
      "\u001b[1;35mStep \u001b[0m\u001b[1;36mget_model_and_preprocessing_pipeline\u001b[1;35m has started.\u001b[0m\n",
      "\u001b[31mFailed to detect the name of this notebook, you can set it manually with the WANDB_NOTEBOOK_NAME environment variable to enable code saving.\u001b[0m\n",
      "\u001b[34m\u001b[1mwandb\u001b[0m: Currently logged in as: \u001b[33mkatja-gegg\u001b[0m (\u001b[33mss24_eai\u001b[0m). Use \u001b[1m`wandb login --relogin`\u001b[0m to force relogin\n"
     ]
    },
    {
     "data": {
      "text/html": [
       "Tracking run with wandb version 0.17.4"
      ],
      "text/plain": [
       "<IPython.core.display.HTML object>"
      ]
     },
     "metadata": {},
     "output_type": "display_data"
    },
    {
     "data": {
      "text/html": [
       "Run data is saved locally in <code>c:\\Users\\User\\VSCProjects\\EAI_SS24\\EAI-SS24-finalProject\\wandb\\run-20240715_115613-2rq7zxtm</code>"
      ],
      "text/plain": [
       "<IPython.core.display.HTML object>"
      ]
     },
     "metadata": {},
     "output_type": "display_data"
    },
    {
     "data": {
      "text/html": [
       "Syncing run <strong><a href='https://wandb.ai/ss24_eai/forecasting_model_multivariant/runs/2rq7zxtm' target=\"_blank\">vibrant-sound-65</a></strong> to <a href='https://wandb.ai/ss24_eai/forecasting_model_multivariant' target=\"_blank\">Weights & Biases</a> (<a href='https://wandb.me/run' target=\"_blank\">docs</a>)<br/>"
      ],
      "text/plain": [
       "<IPython.core.display.HTML object>"
      ]
     },
     "metadata": {},
     "output_type": "display_data"
    },
    {
     "data": {
      "text/html": [
       " View project at <a href='https://wandb.ai/ss24_eai/forecasting_model_multivariant' target=\"_blank\">https://wandb.ai/ss24_eai/forecasting_model_multivariant</a>"
      ],
      "text/plain": [
       "<IPython.core.display.HTML object>"
      ]
     },
     "metadata": {},
     "output_type": "display_data"
    },
    {
     "data": {
      "text/html": [
       " View run at <a href='https://wandb.ai/ss24_eai/forecasting_model_multivariant/runs/2rq7zxtm' target=\"_blank\">https://wandb.ai/ss24_eai/forecasting_model_multivariant/runs/2rq7zxtm</a>"
      ],
      "text/plain": [
       "<IPython.core.display.HTML object>"
      ]
     },
     "metadata": {},
     "output_type": "display_data"
    },
    {
     "name": "stdout",
     "output_type": "stream",
     "text": [
      "\u001b[34m\u001b[1mwandb\u001b[0m:   1 of 1 files downloaded.  \n",
      "[11:56:17] WARNING: C:\\buildkite-agent\\builds\\buildkite-windows-cpu-autoscaling-group-i-0fdc6d574b9c0d168-1\\xgboost\\xgboost-ci-windows\\src\\learner.cc:553: \n",
      "  If you are loading a serialized model (like pickle in Python, RDS in R) generated by\n",
      "  older XGBoost, please export the model by calling `Booster.save_model` from that version\n",
      "  first, then load it back in current version. See:\n",
      "\n",
      "    https://xgboost.readthedocs.io/en/latest/tutorials/saving_model.html\n",
      "\n",
      "  for more details about differences between saving model and serializing.\n",
      "\n",
      "\u001b[33mNo materializer is registered for type \u001b[0m\u001b[1;36m<class 'xgboost.sklearn.XGBRegressor'>\u001b[33m, so the default Pickle materializer was used. Pickle is not production ready and should only be used for prototyping as the artifacts cannot be loaded when running with a different Python version. Please consider implementing a custom materializer for type \u001b[0m\u001b[1;36m<class 'xgboost.sklearn.XGBRegressor'>\u001b[33m according to the instructions at https://docs.zenml.io/how-to/handle-data-artifacts/handle-custom-data-types\u001b[0m\n",
      "\u001b[33mNo materializer is registered for type \u001b[0m\u001b[1;36m<class 'dict'>\u001b[33m, so the default Pickle materializer was used. Pickle is not production ready and should only be used for prototyping as the artifacts cannot be loaded when running with a different Python version. Please consider implementing a custom materializer for type \u001b[0m\u001b[1;36m<class 'dict'>\u001b[33m according to the instructions at https://docs.zenml.io/how-to/handle-data-artifacts/handle-custom-data-types\u001b[0m\n",
      "\u001b[1;35mStep \u001b[0m\u001b[1;36mget_model_and_preprocessing_pipeline\u001b[1;35m has finished in \u001b[0m\u001b[1;36m8.390s\u001b[1;35m.\u001b[0m\n",
      "\u001b[1;35mStep \u001b[0m\u001b[1;36mget_model_and_preprocessing_pipeline\u001b[1;35m completed successfully.\u001b[0m\n",
      "\u001b[1;35mStep \u001b[0m\u001b[1;36mpredictor\u001b[1;35m has started.\u001b[0m\n"
     ]
    },
    {
     "data": {
      "text/html": [
       "Finishing last run (ID:2rq7zxtm) before initializing another..."
      ],
      "text/plain": [
       "<IPython.core.display.HTML object>"
      ]
     },
     "metadata": {},
     "output_type": "display_data"
    },
    {
     "data": {
      "application/vnd.jupyter.widget-view+json": {
       "model_id": "d0763346de2f4d8381f0e3ed7e59fdf0",
       "version_major": 2,
       "version_minor": 0
      },
      "text/plain": [
       "VBox(children=(Label(value='0.001 MB of 0.001 MB uploaded\\r'), FloatProgress(value=1.0, max=1.0)))"
      ]
     },
     "metadata": {},
     "output_type": "display_data"
    },
    {
     "data": {
      "text/html": [
       " View run <strong style=\"color:#cdcd00\">vibrant-sound-65</strong> at: <a href='https://wandb.ai/ss24_eai/forecasting_model_multivariant/runs/2rq7zxtm' target=\"_blank\">https://wandb.ai/ss24_eai/forecasting_model_multivariant/runs/2rq7zxtm</a><br/> View project at: <a href='https://wandb.ai/ss24_eai/forecasting_model_multivariant' target=\"_blank\">https://wandb.ai/ss24_eai/forecasting_model_multivariant</a><br/>Synced 5 W&B file(s), 0 media file(s), 0 artifact file(s) and 0 other file(s)"
      ],
      "text/plain": [
       "<IPython.core.display.HTML object>"
      ]
     },
     "metadata": {},
     "output_type": "display_data"
    },
    {
     "data": {
      "text/html": [
       "Find logs at: <code>.\\wandb\\run-20240715_115613-2rq7zxtm\\logs</code>"
      ],
      "text/plain": [
       "<IPython.core.display.HTML object>"
      ]
     },
     "metadata": {},
     "output_type": "display_data"
    },
    {
     "data": {
      "text/html": [
       "The new W&B backend becomes opt-out in version 0.18.0; try it out with `wandb.require(\"core\")`! See https://wandb.me/wandb-core for more information."
      ],
      "text/plain": [
       "<IPython.core.display.HTML object>"
      ]
     },
     "metadata": {},
     "output_type": "display_data"
    },
    {
     "data": {
      "text/html": [
       "Successfully finished last run (ID:2rq7zxtm). Initializing new run:<br/>"
      ],
      "text/plain": [
       "<IPython.core.display.HTML object>"
      ]
     },
     "metadata": {},
     "output_type": "display_data"
    },
    {
     "data": {
      "text/html": [
       "Tracking run with wandb version 0.17.4"
      ],
      "text/plain": [
       "<IPython.core.display.HTML object>"
      ]
     },
     "metadata": {},
     "output_type": "display_data"
    },
    {
     "data": {
      "text/html": [
       "Run data is saved locally in <code>c:\\Users\\User\\VSCProjects\\EAI_SS24\\EAI-SS24-finalProject\\wandb\\run-20240715_115620-zm6fmi37</code>"
      ],
      "text/plain": [
       "<IPython.core.display.HTML object>"
      ]
     },
     "metadata": {},
     "output_type": "display_data"
    },
    {
     "data": {
      "text/html": [
       "Syncing run <strong><a href='https://wandb.ai/ss24_eai/forecasting_model_multivariant/runs/zm6fmi37' target=\"_blank\">decent-snow-66</a></strong> to <a href='https://wandb.ai/ss24_eai/forecasting_model_multivariant' target=\"_blank\">Weights & Biases</a> (<a href='https://wandb.me/run' target=\"_blank\">docs</a>)<br/>"
      ],
      "text/plain": [
       "<IPython.core.display.HTML object>"
      ]
     },
     "metadata": {},
     "output_type": "display_data"
    },
    {
     "data": {
      "text/html": [
       " View project at <a href='https://wandb.ai/ss24_eai/forecasting_model_multivariant' target=\"_blank\">https://wandb.ai/ss24_eai/forecasting_model_multivariant</a>"
      ],
      "text/plain": [
       "<IPython.core.display.HTML object>"
      ]
     },
     "metadata": {},
     "output_type": "display_data"
    },
    {
     "data": {
      "text/html": [
       " View run at <a href='https://wandb.ai/ss24_eai/forecasting_model_multivariant/runs/zm6fmi37' target=\"_blank\">https://wandb.ai/ss24_eai/forecasting_model_multivariant/runs/zm6fmi37</a>"
      ],
      "text/plain": [
       "<IPython.core.display.HTML object>"
      ]
     },
     "metadata": {},
     "output_type": "display_data"
    },
    {
     "name": "stdout",
     "output_type": "stream",
     "text": [
      "\u001b[34m\u001b[1mwandb\u001b[0m:   1 of 1 files downloaded.  \n",
      "[11:56:27] WARNING: C:\\buildkite-agent\\builds\\buildkite-windows-cpu-autoscaling-group-i-0fdc6d574b9c0d168-1\\xgboost\\xgboost-ci-windows\\src\\learner.cc:553: \n",
      "  If you are loading a serialized model (like pickle in Python, RDS in R) generated by\n",
      "  older XGBoost, please export the model by calling `Booster.save_model` from that version\n",
      "  first, then load it back in current version. See:\n",
      "\n",
      "    https://xgboost.readthedocs.io/en/latest/tutorials/saving_model.html\n",
      "\n",
      "  for more details about differences between saving model and serializing.\n",
      "\n",
      "MODEL_TYPE:  <class 'xgboost.sklearn.XGBRegressor'>\n",
      "\n",
      "Iteration 0\n",
      "Error during preprocessing at index 0: 'dict' object has no attribute 'transform'\n",
      "\n",
      "Iteration 1\n",
      "Warning: There are 1 NaN values in the inference data at index 1.\n",
      "\n",
      "Iteration 2\n",
      "Warning: There are 2 NaN values in the inference data at index 2.\n",
      "\n",
      "Iteration 3\n",
      "Warning: There are 3 NaN values in the inference data at index 3.\n",
      "\n",
      "Iteration 4\n",
      "Warning: There are 4 NaN values in the inference data at index 4.\n",
      "\n",
      "Iteration 5\n",
      "Warning: There are 5 NaN values in the inference data at index 5.\n",
      "\n",
      "Iteration 6\n",
      "Warning: There are 6 NaN values in the inference data at index 6.\n",
      "\n",
      "Iteration 7\n",
      "Warning: There are 7 NaN values in the inference data at index 7.\n",
      "\n",
      "Iteration 8\n",
      "Warning: There are 8 NaN values in the inference data at index 8.\n",
      "\n",
      "Iteration 9\n",
      "Warning: There are 9 NaN values in the inference data at index 9.\n",
      "\n",
      "Iteration 10\n",
      "Warning: There are 10 NaN values in the inference data at index 10.\n",
      "\n",
      "Iteration 11\n",
      "Warning: There are 10 NaN values in the inference data at index 11.\n",
      "\n",
      "Iteration 12\n",
      "Warning: There are 10 NaN values in the inference data at index 12.\n",
      "\n",
      "Iteration 13\n",
      "Warning: There are 10 NaN values in the inference data at index 13.\n",
      "\n",
      "Iteration 14\n",
      "Warning: There are 10 NaN values in the inference data at index 14.\n",
      "\n",
      "Iteration 15\n",
      "Warning: There are 10 NaN values in the inference data at index 15.\n",
      "\n",
      "Iteration 16\n",
      "Warning: There are 10 NaN values in the inference data at index 16.\n",
      "\n",
      "Iteration 17\n",
      "Warning: There are 10 NaN values in the inference data at index 17.\n",
      "\n",
      "Iteration 18\n",
      "Warning: There are 10 NaN values in the inference data at index 18.\n",
      "\n",
      "Iteration 19\n",
      "Warning: There are 10 NaN values in the inference data at index 19.\n",
      "\n",
      "Iteration 20\n",
      "Warning: There are 10 NaN values in the inference data at index 20.\n",
      "\n",
      "Iteration 21\n",
      "Warning: There are 10 NaN values in the inference data at index 21.\n",
      "\n",
      "Iteration 22\n",
      "Warning: There are 10 NaN values in the inference data at index 22.\n",
      "\n",
      "Iteration 23\n",
      "Warning: There are 10 NaN values in the inference data at index 23.\n",
      "Predictions saved to predictions.csv\n",
      "\u001b[1;35mStep \u001b[0m\u001b[1;36mpredictor\u001b[1;35m has finished in \u001b[0m\u001b[1;36m7.324s\u001b[1;35m.\u001b[0m\n",
      "\u001b[1;35mStep \u001b[0m\u001b[1;36mpredictor\u001b[1;35m completed successfully.\u001b[0m\n",
      "\u001b[1;35mPipeline run has finished in \u001b[0m\u001b[1;36m42.699s\u001b[1;35m.\u001b[0m\n"
     ]
    }
   ],
   "source": [
    "# Set the model variant and type\n",
    "m_variant = \"multi\"\n",
    "m_type = \"xgboost\"\n",
    "#m_type = \"random_forest\"\n",
    "lags = 10\n",
    "tials = 20\n",
    "\n",
    "run_pipelines(model_variant=m_variant, model_type=m_type, lags=lags, trials=tials)"
   ]
  },
  {
   "cell_type": "markdown",
   "metadata": {},
   "source": [
    "## Dashboard"
   ]
  },
  {
   "cell_type": "markdown",
   "metadata": {},
   "source": [
    "For the experimentlal tracking we used weights & biases  \n",
    "\n",
    "https://wandb.ai/ss24_eai "
   ]
  },
  {
   "cell_type": "markdown",
   "metadata": {},
   "source": [
    "# Plot the final prediction"
   ]
  },
  {
   "cell_type": "code",
   "execution_count": 11,
   "metadata": {},
   "outputs": [],
   "source": [
    "import plotly.express as px\n",
    "import sqlite3\n",
    "import pandas as pd\n",
    "import numpy as np"
   ]
  },
  {
   "cell_type": "code",
   "execution_count": 12,
   "metadata": {},
   "outputs": [],
   "source": [
    "# get the data for the plot from the database\n",
    "import sqlite3\n",
    "\n",
    "# connect to the database\n",
    "conn = sqlite3.connect('data.db')\n",
    "\n",
    "# get the data from the database\n",
    "wue_data = pd.read_sql('SELECT location_id, pedestrians_count, timestamp FROM data ORDER BY timestamp', conn)\n",
    "wue_data['date'] = wue_data['timestamp'].str.extract(r'(\\d{4}-\\d{2}-\\d{2})')\n",
    "wue_data['datetime'] = wue_data['timestamp'].str.split('+').str[0]\n",
    "\n",
    "conn.close()"
   ]
  },
  {
   "cell_type": "code",
   "execution_count": 13,
   "metadata": {},
   "outputs": [
    {
     "data": {
      "text/html": [
       "<div>\n",
       "<style scoped>\n",
       "    .dataframe tbody tr th:only-of-type {\n",
       "        vertical-align: middle;\n",
       "    }\n",
       "\n",
       "    .dataframe tbody tr th {\n",
       "        vertical-align: top;\n",
       "    }\n",
       "\n",
       "    .dataframe thead th {\n",
       "        text-align: right;\n",
       "    }\n",
       "</style>\n",
       "<table border=\"1\" class=\"dataframe\">\n",
       "  <thead>\n",
       "    <tr style=\"text-align: right;\">\n",
       "      <th></th>\n",
       "      <th>location_id</th>\n",
       "      <th>pedestrians_count</th>\n",
       "      <th>timestamp</th>\n",
       "      <th>date</th>\n",
       "      <th>datetime</th>\n",
       "    </tr>\n",
       "  </thead>\n",
       "  <tbody>\n",
       "    <tr>\n",
       "      <th>0</th>\n",
       "      <td>135.0</td>\n",
       "      <td>1346</td>\n",
       "      <td>2024-01-01T00:00:00+01:00</td>\n",
       "      <td>2024-01-01</td>\n",
       "      <td>2024-01-01T00:00:00</td>\n",
       "    </tr>\n",
       "    <tr>\n",
       "      <th>1</th>\n",
       "      <td>470.0</td>\n",
       "      <td>388</td>\n",
       "      <td>2024-01-01T00:00:00+01:00</td>\n",
       "      <td>2024-01-01</td>\n",
       "      <td>2024-01-01T00:00:00</td>\n",
       "    </tr>\n",
       "    <tr>\n",
       "      <th>2</th>\n",
       "      <td>476.0</td>\n",
       "      <td>1197</td>\n",
       "      <td>2024-01-01T00:00:00+01:00</td>\n",
       "      <td>2024-01-01</td>\n",
       "      <td>2024-01-01T00:00:00</td>\n",
       "    </tr>\n",
       "    <tr>\n",
       "      <th>3</th>\n",
       "      <td>135.0</td>\n",
       "      <td>772</td>\n",
       "      <td>2024-01-01T01:00:00+01:00</td>\n",
       "      <td>2024-01-01</td>\n",
       "      <td>2024-01-01T01:00:00</td>\n",
       "    </tr>\n",
       "    <tr>\n",
       "      <th>4</th>\n",
       "      <td>470.0</td>\n",
       "      <td>161</td>\n",
       "      <td>2024-01-01T01:00:00+01:00</td>\n",
       "      <td>2024-01-01</td>\n",
       "      <td>2024-01-01T01:00:00</td>\n",
       "    </tr>\n",
       "  </tbody>\n",
       "</table>\n",
       "</div>"
      ],
      "text/plain": [
       "   location_id  pedestrians_count                  timestamp        date  \\\n",
       "0        135.0               1346  2024-01-01T00:00:00+01:00  2024-01-01   \n",
       "1        470.0                388  2024-01-01T00:00:00+01:00  2024-01-01   \n",
       "2        476.0               1197  2024-01-01T00:00:00+01:00  2024-01-01   \n",
       "3        135.0                772  2024-01-01T01:00:00+01:00  2024-01-01   \n",
       "4        470.0                161  2024-01-01T01:00:00+01:00  2024-01-01   \n",
       "\n",
       "              datetime  \n",
       "0  2024-01-01T00:00:00  \n",
       "1  2024-01-01T00:00:00  \n",
       "2  2024-01-01T00:00:00  \n",
       "3  2024-01-01T01:00:00  \n",
       "4  2024-01-01T01:00:00  "
      ]
     },
     "execution_count": 13,
     "metadata": {},
     "output_type": "execute_result"
    }
   ],
   "source": [
    "wue_data.head()"
   ]
  },
  {
   "cell_type": "code",
   "execution_count": 14,
   "metadata": {},
   "outputs": [
    {
     "data": {
      "text/html": [
       "<div>\n",
       "<style scoped>\n",
       "    .dataframe tbody tr th:only-of-type {\n",
       "        vertical-align: middle;\n",
       "    }\n",
       "\n",
       "    .dataframe tbody tr th {\n",
       "        vertical-align: top;\n",
       "    }\n",
       "\n",
       "    .dataframe thead th {\n",
       "        text-align: right;\n",
       "    }\n",
       "</style>\n",
       "<table border=\"1\" class=\"dataframe\">\n",
       "  <thead>\n",
       "    <tr style=\"text-align: right;\">\n",
       "      <th></th>\n",
       "      <th>location_id</th>\n",
       "      <th>datetime</th>\n",
       "      <th>pedestrians_count</th>\n",
       "      <th>date</th>\n",
       "    </tr>\n",
       "  </thead>\n",
       "  <tbody>\n",
       "    <tr>\n",
       "      <th>4662</th>\n",
       "      <td>135.0</td>\n",
       "      <td>2024-07-15T00:00:00</td>\n",
       "      <td>54</td>\n",
       "      <td>2024-07-15</td>\n",
       "    </tr>\n",
       "    <tr>\n",
       "      <th>9340</th>\n",
       "      <td>470.0</td>\n",
       "      <td>2024-07-15T00:00:00</td>\n",
       "      <td>42</td>\n",
       "      <td>2024-07-15</td>\n",
       "    </tr>\n",
       "    <tr>\n",
       "      <th>14024</th>\n",
       "      <td>476.0</td>\n",
       "      <td>2024-07-15T00:00:00</td>\n",
       "      <td>59</td>\n",
       "      <td>2024-07-15</td>\n",
       "    </tr>\n",
       "    <tr>\n",
       "      <th>4663</th>\n",
       "      <td>135.0</td>\n",
       "      <td>2024-07-15T01:00:00</td>\n",
       "      <td>21</td>\n",
       "      <td>2024-07-15</td>\n",
       "    </tr>\n",
       "    <tr>\n",
       "      <th>9341</th>\n",
       "      <td>470.0</td>\n",
       "      <td>2024-07-15T01:00:00</td>\n",
       "      <td>17</td>\n",
       "      <td>2024-07-15</td>\n",
       "    </tr>\n",
       "    <tr>\n",
       "      <th>14025</th>\n",
       "      <td>476.0</td>\n",
       "      <td>2024-07-15T01:00:00</td>\n",
       "      <td>35</td>\n",
       "      <td>2024-07-15</td>\n",
       "    </tr>\n",
       "    <tr>\n",
       "      <th>4664</th>\n",
       "      <td>135.0</td>\n",
       "      <td>2024-07-15T02:00:00</td>\n",
       "      <td>3</td>\n",
       "      <td>2024-07-15</td>\n",
       "    </tr>\n",
       "    <tr>\n",
       "      <th>9342</th>\n",
       "      <td>470.0</td>\n",
       "      <td>2024-07-15T02:00:00</td>\n",
       "      <td>4</td>\n",
       "      <td>2024-07-15</td>\n",
       "    </tr>\n",
       "    <tr>\n",
       "      <th>14026</th>\n",
       "      <td>476.0</td>\n",
       "      <td>2024-07-15T02:00:00</td>\n",
       "      <td>17</td>\n",
       "      <td>2024-07-15</td>\n",
       "    </tr>\n",
       "    <tr>\n",
       "      <th>4665</th>\n",
       "      <td>135.0</td>\n",
       "      <td>2024-07-15T03:00:00</td>\n",
       "      <td>9</td>\n",
       "      <td>2024-07-15</td>\n",
       "    </tr>\n",
       "    <tr>\n",
       "      <th>9343</th>\n",
       "      <td>470.0</td>\n",
       "      <td>2024-07-15T03:00:00</td>\n",
       "      <td>5</td>\n",
       "      <td>2024-07-15</td>\n",
       "    </tr>\n",
       "    <tr>\n",
       "      <th>14027</th>\n",
       "      <td>476.0</td>\n",
       "      <td>2024-07-15T03:00:00</td>\n",
       "      <td>13</td>\n",
       "      <td>2024-07-15</td>\n",
       "    </tr>\n",
       "    <tr>\n",
       "      <th>4666</th>\n",
       "      <td>135.0</td>\n",
       "      <td>2024-07-15T04:00:00</td>\n",
       "      <td>7</td>\n",
       "      <td>2024-07-15</td>\n",
       "    </tr>\n",
       "    <tr>\n",
       "      <th>9344</th>\n",
       "      <td>470.0</td>\n",
       "      <td>2024-07-15T04:00:00</td>\n",
       "      <td>12</td>\n",
       "      <td>2024-07-15</td>\n",
       "    </tr>\n",
       "    <tr>\n",
       "      <th>14028</th>\n",
       "      <td>476.0</td>\n",
       "      <td>2024-07-15T04:00:00</td>\n",
       "      <td>15</td>\n",
       "      <td>2024-07-15</td>\n",
       "    </tr>\n",
       "    <tr>\n",
       "      <th>4667</th>\n",
       "      <td>135.0</td>\n",
       "      <td>2024-07-15T05:00:00</td>\n",
       "      <td>20</td>\n",
       "      <td>2024-07-15</td>\n",
       "    </tr>\n",
       "    <tr>\n",
       "      <th>9345</th>\n",
       "      <td>470.0</td>\n",
       "      <td>2024-07-15T05:00:00</td>\n",
       "      <td>63</td>\n",
       "      <td>2024-07-15</td>\n",
       "    </tr>\n",
       "    <tr>\n",
       "      <th>14029</th>\n",
       "      <td>476.0</td>\n",
       "      <td>2024-07-15T05:00:00</td>\n",
       "      <td>69</td>\n",
       "      <td>2024-07-15</td>\n",
       "    </tr>\n",
       "    <tr>\n",
       "      <th>4668</th>\n",
       "      <td>135.0</td>\n",
       "      <td>2024-07-15T06:00:00</td>\n",
       "      <td>81</td>\n",
       "      <td>2024-07-15</td>\n",
       "    </tr>\n",
       "    <tr>\n",
       "      <th>9346</th>\n",
       "      <td>470.0</td>\n",
       "      <td>2024-07-15T06:00:00</td>\n",
       "      <td>127</td>\n",
       "      <td>2024-07-15</td>\n",
       "    </tr>\n",
       "    <tr>\n",
       "      <th>14030</th>\n",
       "      <td>476.0</td>\n",
       "      <td>2024-07-15T06:00:00</td>\n",
       "      <td>199</td>\n",
       "      <td>2024-07-15</td>\n",
       "    </tr>\n",
       "    <tr>\n",
       "      <th>4669</th>\n",
       "      <td>135.0</td>\n",
       "      <td>2024-07-15T07:00:00</td>\n",
       "      <td>346</td>\n",
       "      <td>2024-07-15</td>\n",
       "    </tr>\n",
       "    <tr>\n",
       "      <th>9347</th>\n",
       "      <td>470.0</td>\n",
       "      <td>2024-07-15T07:00:00</td>\n",
       "      <td>358</td>\n",
       "      <td>2024-07-15</td>\n",
       "    </tr>\n",
       "    <tr>\n",
       "      <th>14031</th>\n",
       "      <td>476.0</td>\n",
       "      <td>2024-07-15T07:00:00</td>\n",
       "      <td>621</td>\n",
       "      <td>2024-07-15</td>\n",
       "    </tr>\n",
       "  </tbody>\n",
       "</table>\n",
       "</div>"
      ],
      "text/plain": [
       "       location_id             datetime  pedestrians_count        date\n",
       "4662         135.0  2024-07-15T00:00:00                 54  2024-07-15\n",
       "9340         470.0  2024-07-15T00:00:00                 42  2024-07-15\n",
       "14024        476.0  2024-07-15T00:00:00                 59  2024-07-15\n",
       "4663         135.0  2024-07-15T01:00:00                 21  2024-07-15\n",
       "9341         470.0  2024-07-15T01:00:00                 17  2024-07-15\n",
       "14025        476.0  2024-07-15T01:00:00                 35  2024-07-15\n",
       "4664         135.0  2024-07-15T02:00:00                  3  2024-07-15\n",
       "9342         470.0  2024-07-15T02:00:00                  4  2024-07-15\n",
       "14026        476.0  2024-07-15T02:00:00                 17  2024-07-15\n",
       "4665         135.0  2024-07-15T03:00:00                  9  2024-07-15\n",
       "9343         470.0  2024-07-15T03:00:00                  5  2024-07-15\n",
       "14027        476.0  2024-07-15T03:00:00                 13  2024-07-15\n",
       "4666         135.0  2024-07-15T04:00:00                  7  2024-07-15\n",
       "9344         470.0  2024-07-15T04:00:00                 12  2024-07-15\n",
       "14028        476.0  2024-07-15T04:00:00                 15  2024-07-15\n",
       "4667         135.0  2024-07-15T05:00:00                 20  2024-07-15\n",
       "9345         470.0  2024-07-15T05:00:00                 63  2024-07-15\n",
       "14029        476.0  2024-07-15T05:00:00                 69  2024-07-15\n",
       "4668         135.0  2024-07-15T06:00:00                 81  2024-07-15\n",
       "9346         470.0  2024-07-15T06:00:00                127  2024-07-15\n",
       "14030        476.0  2024-07-15T06:00:00                199  2024-07-15\n",
       "4669         135.0  2024-07-15T07:00:00                346  2024-07-15\n",
       "9347         470.0  2024-07-15T07:00:00                358  2024-07-15\n",
       "14031        476.0  2024-07-15T07:00:00                621  2024-07-15"
      ]
     },
     "execution_count": 14,
     "metadata": {},
     "output_type": "execute_result"
    }
   ],
   "source": [
    "wue_data_agg = wue_data.groupby(['location_id', 'datetime']).agg({'pedestrians_count': 'sum'}).reset_index()\n",
    "wue_data_agg = wue_data_agg.merge(wue_data[['location_id', 'datetime', 'date']], on=['location_id', 'datetime'], how='left')\n",
    "wue_data_agg.sort_values(by=['datetime', 'location_id'], inplace=True)\n",
    "wue_data_agg.tail(24)"
   ]
  },
  {
   "cell_type": "code",
   "execution_count": 15,
   "metadata": {},
   "outputs": [
    {
     "name": "stderr",
     "output_type": "stream",
     "text": [
      "C:\\Users\\User\\AppData\\Roaming\\Python\\Python311\\site-packages\\plotly\\express\\_core.py:2065: FutureWarning: When grouping with a length-1 list-like, you will need to pass a length-1 tuple to get_group in a future version of pandas. Pass `(name,)` instead of `name` to silence this warning.\n",
      "  sf: grouped.get_group(s if len(s) > 1 else s[0])\n"
     ]
    },
    {
     "data": {
      "application/vnd.plotly.v1+json": {
       "config": {
        "plotlyServerURL": "https://plot.ly"
       },
       "data": [
        {
         "hovertemplate": "location_id=135.0<br>datetime=%{x}<br>pedestrians_count=%{y}<extra></extra>",
         "legendgroup": "135.0",
         "line": {
          "color": "#636efa",
          "dash": "solid"
         },
         "marker": {
          "symbol": "circle"
         },
         "mode": "lines",
         "name": "135.0",
         "orientation": "v",
         "showlegend": true,
         "type": "scatter",
         "x": [
          "2024-07-13T00:00:00",
          "2024-07-13T01:00:00",
          "2024-07-13T02:00:00",
          "2024-07-13T03:00:00",
          "2024-07-13T04:00:00",
          "2024-07-13T05:00:00",
          "2024-07-13T06:00:00",
          "2024-07-13T07:00:00",
          "2024-07-13T08:00:00",
          "2024-07-13T09:00:00",
          "2024-07-13T10:00:00",
          "2024-07-13T11:00:00",
          "2024-07-13T12:00:00",
          "2024-07-13T13:00:00",
          "2024-07-13T14:00:00",
          "2024-07-13T15:00:00",
          "2024-07-13T16:00:00",
          "2024-07-13T17:00:00",
          "2024-07-13T18:00:00",
          "2024-07-13T19:00:00",
          "2024-07-13T20:00:00",
          "2024-07-13T21:00:00",
          "2024-07-13T23:00:00",
          "2024-07-14T00:00:00",
          "2024-07-14T01:00:00",
          "2024-07-14T02:00:00",
          "2024-07-14T03:00:00",
          "2024-07-14T04:00:00",
          "2024-07-14T05:00:00",
          "2024-07-14T06:00:00",
          "2024-07-14T07:00:00",
          "2024-07-14T08:00:00",
          "2024-07-14T09:00:00",
          "2024-07-14T10:00:00",
          "2024-07-14T11:00:00",
          "2024-07-14T12:00:00",
          "2024-07-14T13:00:00",
          "2024-07-14T14:00:00",
          "2024-07-14T15:00:00",
          "2024-07-14T16:00:00",
          "2024-07-14T17:00:00",
          "2024-07-14T18:00:00",
          "2024-07-14T19:00:00",
          "2024-07-14T20:00:00",
          "2024-07-14T21:00:00",
          "2024-07-14T23:00:00",
          "2024-07-15T00:00:00",
          "2024-07-15T01:00:00",
          "2024-07-15T02:00:00",
          "2024-07-15T03:00:00",
          "2024-07-15T04:00:00",
          "2024-07-15T05:00:00",
          "2024-07-15T06:00:00",
          "2024-07-15T07:00:00"
         ],
         "xaxis": "x",
         "y": [
          266,
          190,
          65,
          53,
          43,
          33,
          43,
          58,
          223,
          928,
          1856,
          3309,
          4245,
          4385,
          4647,
          4894,
          4831,
          4254,
          3527,
          2574,
          1266,
          710,
          56,
          334,
          238,
          0,
          0,
          0,
          0,
          31,
          52,
          96,
          315,
          381,
          621,
          679,
          687,
          765,
          799,
          944,
          902,
          648,
          570,
          480,
          308,
          16,
          54,
          21,
          3,
          9,
          7,
          20,
          81,
          346
         ],
         "yaxis": "y"
        },
        {
         "hovertemplate": "location_id=470.0<br>datetime=%{x}<br>pedestrians_count=%{y}<extra></extra>",
         "legendgroup": "470.0",
         "line": {
          "color": "#EF553B",
          "dash": "solid"
         },
         "marker": {
          "symbol": "circle"
         },
         "mode": "lines",
         "name": "470.0",
         "orientation": "v",
         "showlegend": true,
         "type": "scatter",
         "x": [
          "2024-07-13T00:00:00",
          "2024-07-13T01:00:00",
          "2024-07-13T02:00:00",
          "2024-07-13T03:00:00",
          "2024-07-13T04:00:00",
          "2024-07-13T05:00:00",
          "2024-07-13T06:00:00",
          "2024-07-13T07:00:00",
          "2024-07-13T08:00:00",
          "2024-07-13T09:00:00",
          "2024-07-13T10:00:00",
          "2024-07-13T11:00:00",
          "2024-07-13T12:00:00",
          "2024-07-13T13:00:00",
          "2024-07-13T14:00:00",
          "2024-07-13T15:00:00",
          "2024-07-13T16:00:00",
          "2024-07-13T17:00:00",
          "2024-07-13T18:00:00",
          "2024-07-13T19:00:00",
          "2024-07-13T20:00:00",
          "2024-07-13T21:00:00",
          "2024-07-13T23:00:00",
          "2024-07-14T00:00:00",
          "2024-07-14T01:00:00",
          "2024-07-14T02:00:00",
          "2024-07-14T03:00:00",
          "2024-07-14T04:00:00",
          "2024-07-14T05:00:00",
          "2024-07-14T06:00:00",
          "2024-07-14T07:00:00",
          "2024-07-14T08:00:00",
          "2024-07-14T09:00:00",
          "2024-07-14T10:00:00",
          "2024-07-14T11:00:00",
          "2024-07-14T12:00:00",
          "2024-07-14T13:00:00",
          "2024-07-14T14:00:00",
          "2024-07-14T15:00:00",
          "2024-07-14T16:00:00",
          "2024-07-14T17:00:00",
          "2024-07-14T18:00:00",
          "2024-07-14T19:00:00",
          "2024-07-14T20:00:00",
          "2024-07-14T21:00:00",
          "2024-07-14T23:00:00",
          "2024-07-15T00:00:00",
          "2024-07-15T01:00:00",
          "2024-07-15T02:00:00",
          "2024-07-15T03:00:00",
          "2024-07-15T04:00:00",
          "2024-07-15T05:00:00",
          "2024-07-15T06:00:00",
          "2024-07-15T07:00:00"
         ],
         "xaxis": "x",
         "y": [
          149,
          66,
          35,
          11,
          14,
          31,
          71,
          75,
          208,
          513,
          1027,
          1400,
          1636,
          1663,
          1738,
          1712,
          1496,
          1493,
          1329,
          1200,
          754,
          510,
          22,
          125,
          44,
          0,
          0,
          0,
          0,
          34,
          38,
          94,
          196,
          358,
          529,
          659,
          725,
          678,
          756,
          779,
          636,
          627,
          556,
          500,
          236,
          0,
          42,
          17,
          4,
          5,
          12,
          63,
          127,
          358
         ],
         "yaxis": "y"
        },
        {
         "hovertemplate": "location_id=476.0<br>datetime=%{x}<br>pedestrians_count=%{y}<extra></extra>",
         "legendgroup": "476.0",
         "line": {
          "color": "#00cc96",
          "dash": "solid"
         },
         "marker": {
          "symbol": "circle"
         },
         "mode": "lines",
         "name": "476.0",
         "orientation": "v",
         "showlegend": true,
         "type": "scatter",
         "x": [
          "2024-07-13T00:00:00",
          "2024-07-13T01:00:00",
          "2024-07-13T02:00:00",
          "2024-07-13T03:00:00",
          "2024-07-13T04:00:00",
          "2024-07-13T05:00:00",
          "2024-07-13T06:00:00",
          "2024-07-13T07:00:00",
          "2024-07-13T08:00:00",
          "2024-07-13T09:00:00",
          "2024-07-13T10:00:00",
          "2024-07-13T11:00:00",
          "2024-07-13T12:00:00",
          "2024-07-13T13:00:00",
          "2024-07-13T14:00:00",
          "2024-07-13T15:00:00",
          "2024-07-13T16:00:00",
          "2024-07-13T17:00:00",
          "2024-07-13T18:00:00",
          "2024-07-13T19:00:00",
          "2024-07-13T20:00:00",
          "2024-07-13T21:00:00",
          "2024-07-13T22:00:00",
          "2024-07-13T23:00:00",
          "2024-07-14T00:00:00",
          "2024-07-14T01:00:00",
          "2024-07-14T02:00:00",
          "2024-07-14T03:00:00",
          "2024-07-14T04:00:00",
          "2024-07-14T05:00:00",
          "2024-07-14T06:00:00",
          "2024-07-14T07:00:00",
          "2024-07-14T08:00:00",
          "2024-07-14T09:00:00",
          "2024-07-14T10:00:00",
          "2024-07-14T11:00:00",
          "2024-07-14T12:00:00",
          "2024-07-14T13:00:00",
          "2024-07-14T14:00:00",
          "2024-07-14T15:00:00",
          "2024-07-14T16:00:00",
          "2024-07-14T17:00:00",
          "2024-07-14T18:00:00",
          "2024-07-14T19:00:00",
          "2024-07-14T20:00:00",
          "2024-07-14T21:00:00",
          "2024-07-14T22:00:00",
          "2024-07-14T23:00:00",
          "2024-07-15T00:00:00",
          "2024-07-15T01:00:00",
          "2024-07-15T02:00:00",
          "2024-07-15T03:00:00",
          "2024-07-15T04:00:00",
          "2024-07-15T05:00:00",
          "2024-07-15T06:00:00",
          "2024-07-15T07:00:00"
         ],
         "xaxis": "x",
         "y": [
          276,
          173,
          61,
          30,
          56,
          49,
          114,
          139,
          375,
          756,
          1287,
          2020,
          2235,
          2489,
          2580,
          2574,
          2601,
          2570,
          2382,
          2126,
          951,
          656,
          592,
          45,
          378,
          211,
          0,
          0,
          0,
          0,
          58,
          70,
          131,
          281,
          434,
          709,
          663,
          695,
          620,
          664,
          869,
          812,
          608,
          578,
          478,
          407,
          322,
          0,
          59,
          35,
          17,
          13,
          15,
          69,
          199,
          621
         ],
         "yaxis": "y"
        },
        {
         "mode": "lines",
         "name": "Sum",
         "type": "scatter",
         "x": [
          "2024-07-13T00:00:00",
          "2024-07-13T01:00:00",
          "2024-07-13T02:00:00",
          "2024-07-13T03:00:00",
          "2024-07-13T04:00:00",
          "2024-07-13T05:00:00",
          "2024-07-13T06:00:00",
          "2024-07-13T07:00:00",
          "2024-07-13T08:00:00",
          "2024-07-13T09:00:00",
          "2024-07-13T10:00:00",
          "2024-07-13T11:00:00",
          "2024-07-13T12:00:00",
          "2024-07-13T13:00:00",
          "2024-07-13T14:00:00",
          "2024-07-13T15:00:00",
          "2024-07-13T16:00:00",
          "2024-07-13T17:00:00",
          "2024-07-13T18:00:00",
          "2024-07-13T19:00:00",
          "2024-07-13T20:00:00",
          "2024-07-13T21:00:00",
          "2024-07-13T22:00:00",
          "2024-07-13T23:00:00",
          "2024-07-14T00:00:00",
          "2024-07-14T01:00:00",
          "2024-07-14T02:00:00",
          "2024-07-14T03:00:00",
          "2024-07-14T04:00:00",
          "2024-07-14T05:00:00",
          "2024-07-14T06:00:00",
          "2024-07-14T07:00:00",
          "2024-07-14T08:00:00",
          "2024-07-14T09:00:00",
          "2024-07-14T10:00:00",
          "2024-07-14T11:00:00",
          "2024-07-14T12:00:00",
          "2024-07-14T13:00:00",
          "2024-07-14T14:00:00",
          "2024-07-14T15:00:00",
          "2024-07-14T16:00:00",
          "2024-07-14T17:00:00",
          "2024-07-14T18:00:00",
          "2024-07-14T19:00:00",
          "2024-07-14T20:00:00",
          "2024-07-14T21:00:00",
          "2024-07-14T22:00:00",
          "2024-07-14T23:00:00",
          "2024-07-15T00:00:00",
          "2024-07-15T01:00:00",
          "2024-07-15T02:00:00",
          "2024-07-15T03:00:00",
          "2024-07-15T04:00:00",
          "2024-07-15T05:00:00",
          "2024-07-15T06:00:00",
          "2024-07-15T07:00:00"
         ],
         "y": [
          691,
          429,
          161,
          94,
          113,
          113,
          228,
          272,
          806,
          2197,
          4170,
          6729,
          8116,
          8537,
          8965,
          9180,
          8928,
          8317,
          7238,
          5900,
          2971,
          1876,
          592,
          123,
          837,
          493,
          0,
          0,
          0,
          0,
          123,
          160,
          321,
          792,
          1173,
          1859,
          2001,
          2107,
          2063,
          2219,
          2592,
          2350,
          1883,
          1704,
          1458,
          951,
          322,
          16,
          155,
          73,
          24,
          27,
          34,
          152,
          407,
          1325
         ]
        }
       ],
       "layout": {
        "legend": {
         "title": {
          "text": "location_id"
         },
         "tracegroupgap": 0
        },
        "template": {
         "data": {
          "bar": [
           {
            "error_x": {
             "color": "#2a3f5f"
            },
            "error_y": {
             "color": "#2a3f5f"
            },
            "marker": {
             "line": {
              "color": "#E5ECF6",
              "width": 0.5
             },
             "pattern": {
              "fillmode": "overlay",
              "size": 10,
              "solidity": 0.2
             }
            },
            "type": "bar"
           }
          ],
          "barpolar": [
           {
            "marker": {
             "line": {
              "color": "#E5ECF6",
              "width": 0.5
             },
             "pattern": {
              "fillmode": "overlay",
              "size": 10,
              "solidity": 0.2
             }
            },
            "type": "barpolar"
           }
          ],
          "carpet": [
           {
            "aaxis": {
             "endlinecolor": "#2a3f5f",
             "gridcolor": "white",
             "linecolor": "white",
             "minorgridcolor": "white",
             "startlinecolor": "#2a3f5f"
            },
            "baxis": {
             "endlinecolor": "#2a3f5f",
             "gridcolor": "white",
             "linecolor": "white",
             "minorgridcolor": "white",
             "startlinecolor": "#2a3f5f"
            },
            "type": "carpet"
           }
          ],
          "choropleth": [
           {
            "colorbar": {
             "outlinewidth": 0,
             "ticks": ""
            },
            "type": "choropleth"
           }
          ],
          "contour": [
           {
            "colorbar": {
             "outlinewidth": 0,
             "ticks": ""
            },
            "colorscale": [
             [
              0,
              "#0d0887"
             ],
             [
              0.1111111111111111,
              "#46039f"
             ],
             [
              0.2222222222222222,
              "#7201a8"
             ],
             [
              0.3333333333333333,
              "#9c179e"
             ],
             [
              0.4444444444444444,
              "#bd3786"
             ],
             [
              0.5555555555555556,
              "#d8576b"
             ],
             [
              0.6666666666666666,
              "#ed7953"
             ],
             [
              0.7777777777777778,
              "#fb9f3a"
             ],
             [
              0.8888888888888888,
              "#fdca26"
             ],
             [
              1,
              "#f0f921"
             ]
            ],
            "type": "contour"
           }
          ],
          "contourcarpet": [
           {
            "colorbar": {
             "outlinewidth": 0,
             "ticks": ""
            },
            "type": "contourcarpet"
           }
          ],
          "heatmap": [
           {
            "colorbar": {
             "outlinewidth": 0,
             "ticks": ""
            },
            "colorscale": [
             [
              0,
              "#0d0887"
             ],
             [
              0.1111111111111111,
              "#46039f"
             ],
             [
              0.2222222222222222,
              "#7201a8"
             ],
             [
              0.3333333333333333,
              "#9c179e"
             ],
             [
              0.4444444444444444,
              "#bd3786"
             ],
             [
              0.5555555555555556,
              "#d8576b"
             ],
             [
              0.6666666666666666,
              "#ed7953"
             ],
             [
              0.7777777777777778,
              "#fb9f3a"
             ],
             [
              0.8888888888888888,
              "#fdca26"
             ],
             [
              1,
              "#f0f921"
             ]
            ],
            "type": "heatmap"
           }
          ],
          "heatmapgl": [
           {
            "colorbar": {
             "outlinewidth": 0,
             "ticks": ""
            },
            "colorscale": [
             [
              0,
              "#0d0887"
             ],
             [
              0.1111111111111111,
              "#46039f"
             ],
             [
              0.2222222222222222,
              "#7201a8"
             ],
             [
              0.3333333333333333,
              "#9c179e"
             ],
             [
              0.4444444444444444,
              "#bd3786"
             ],
             [
              0.5555555555555556,
              "#d8576b"
             ],
             [
              0.6666666666666666,
              "#ed7953"
             ],
             [
              0.7777777777777778,
              "#fb9f3a"
             ],
             [
              0.8888888888888888,
              "#fdca26"
             ],
             [
              1,
              "#f0f921"
             ]
            ],
            "type": "heatmapgl"
           }
          ],
          "histogram": [
           {
            "marker": {
             "pattern": {
              "fillmode": "overlay",
              "size": 10,
              "solidity": 0.2
             }
            },
            "type": "histogram"
           }
          ],
          "histogram2d": [
           {
            "colorbar": {
             "outlinewidth": 0,
             "ticks": ""
            },
            "colorscale": [
             [
              0,
              "#0d0887"
             ],
             [
              0.1111111111111111,
              "#46039f"
             ],
             [
              0.2222222222222222,
              "#7201a8"
             ],
             [
              0.3333333333333333,
              "#9c179e"
             ],
             [
              0.4444444444444444,
              "#bd3786"
             ],
             [
              0.5555555555555556,
              "#d8576b"
             ],
             [
              0.6666666666666666,
              "#ed7953"
             ],
             [
              0.7777777777777778,
              "#fb9f3a"
             ],
             [
              0.8888888888888888,
              "#fdca26"
             ],
             [
              1,
              "#f0f921"
             ]
            ],
            "type": "histogram2d"
           }
          ],
          "histogram2dcontour": [
           {
            "colorbar": {
             "outlinewidth": 0,
             "ticks": ""
            },
            "colorscale": [
             [
              0,
              "#0d0887"
             ],
             [
              0.1111111111111111,
              "#46039f"
             ],
             [
              0.2222222222222222,
              "#7201a8"
             ],
             [
              0.3333333333333333,
              "#9c179e"
             ],
             [
              0.4444444444444444,
              "#bd3786"
             ],
             [
              0.5555555555555556,
              "#d8576b"
             ],
             [
              0.6666666666666666,
              "#ed7953"
             ],
             [
              0.7777777777777778,
              "#fb9f3a"
             ],
             [
              0.8888888888888888,
              "#fdca26"
             ],
             [
              1,
              "#f0f921"
             ]
            ],
            "type": "histogram2dcontour"
           }
          ],
          "mesh3d": [
           {
            "colorbar": {
             "outlinewidth": 0,
             "ticks": ""
            },
            "type": "mesh3d"
           }
          ],
          "parcoords": [
           {
            "line": {
             "colorbar": {
              "outlinewidth": 0,
              "ticks": ""
             }
            },
            "type": "parcoords"
           }
          ],
          "pie": [
           {
            "automargin": true,
            "type": "pie"
           }
          ],
          "scatter": [
           {
            "fillpattern": {
             "fillmode": "overlay",
             "size": 10,
             "solidity": 0.2
            },
            "type": "scatter"
           }
          ],
          "scatter3d": [
           {
            "line": {
             "colorbar": {
              "outlinewidth": 0,
              "ticks": ""
             }
            },
            "marker": {
             "colorbar": {
              "outlinewidth": 0,
              "ticks": ""
             }
            },
            "type": "scatter3d"
           }
          ],
          "scattercarpet": [
           {
            "marker": {
             "colorbar": {
              "outlinewidth": 0,
              "ticks": ""
             }
            },
            "type": "scattercarpet"
           }
          ],
          "scattergeo": [
           {
            "marker": {
             "colorbar": {
              "outlinewidth": 0,
              "ticks": ""
             }
            },
            "type": "scattergeo"
           }
          ],
          "scattergl": [
           {
            "marker": {
             "colorbar": {
              "outlinewidth": 0,
              "ticks": ""
             }
            },
            "type": "scattergl"
           }
          ],
          "scattermapbox": [
           {
            "marker": {
             "colorbar": {
              "outlinewidth": 0,
              "ticks": ""
             }
            },
            "type": "scattermapbox"
           }
          ],
          "scatterpolar": [
           {
            "marker": {
             "colorbar": {
              "outlinewidth": 0,
              "ticks": ""
             }
            },
            "type": "scatterpolar"
           }
          ],
          "scatterpolargl": [
           {
            "marker": {
             "colorbar": {
              "outlinewidth": 0,
              "ticks": ""
             }
            },
            "type": "scatterpolargl"
           }
          ],
          "scatterternary": [
           {
            "marker": {
             "colorbar": {
              "outlinewidth": 0,
              "ticks": ""
             }
            },
            "type": "scatterternary"
           }
          ],
          "surface": [
           {
            "colorbar": {
             "outlinewidth": 0,
             "ticks": ""
            },
            "colorscale": [
             [
              0,
              "#0d0887"
             ],
             [
              0.1111111111111111,
              "#46039f"
             ],
             [
              0.2222222222222222,
              "#7201a8"
             ],
             [
              0.3333333333333333,
              "#9c179e"
             ],
             [
              0.4444444444444444,
              "#bd3786"
             ],
             [
              0.5555555555555556,
              "#d8576b"
             ],
             [
              0.6666666666666666,
              "#ed7953"
             ],
             [
              0.7777777777777778,
              "#fb9f3a"
             ],
             [
              0.8888888888888888,
              "#fdca26"
             ],
             [
              1,
              "#f0f921"
             ]
            ],
            "type": "surface"
           }
          ],
          "table": [
           {
            "cells": {
             "fill": {
              "color": "#EBF0F8"
             },
             "line": {
              "color": "white"
             }
            },
            "header": {
             "fill": {
              "color": "#C8D4E3"
             },
             "line": {
              "color": "white"
             }
            },
            "type": "table"
           }
          ]
         },
         "layout": {
          "annotationdefaults": {
           "arrowcolor": "#2a3f5f",
           "arrowhead": 0,
           "arrowwidth": 1
          },
          "autotypenumbers": "strict",
          "coloraxis": {
           "colorbar": {
            "outlinewidth": 0,
            "ticks": ""
           }
          },
          "colorscale": {
           "diverging": [
            [
             0,
             "#8e0152"
            ],
            [
             0.1,
             "#c51b7d"
            ],
            [
             0.2,
             "#de77ae"
            ],
            [
             0.3,
             "#f1b6da"
            ],
            [
             0.4,
             "#fde0ef"
            ],
            [
             0.5,
             "#f7f7f7"
            ],
            [
             0.6,
             "#e6f5d0"
            ],
            [
             0.7,
             "#b8e186"
            ],
            [
             0.8,
             "#7fbc41"
            ],
            [
             0.9,
             "#4d9221"
            ],
            [
             1,
             "#276419"
            ]
           ],
           "sequential": [
            [
             0,
             "#0d0887"
            ],
            [
             0.1111111111111111,
             "#46039f"
            ],
            [
             0.2222222222222222,
             "#7201a8"
            ],
            [
             0.3333333333333333,
             "#9c179e"
            ],
            [
             0.4444444444444444,
             "#bd3786"
            ],
            [
             0.5555555555555556,
             "#d8576b"
            ],
            [
             0.6666666666666666,
             "#ed7953"
            ],
            [
             0.7777777777777778,
             "#fb9f3a"
            ],
            [
             0.8888888888888888,
             "#fdca26"
            ],
            [
             1,
             "#f0f921"
            ]
           ],
           "sequentialminus": [
            [
             0,
             "#0d0887"
            ],
            [
             0.1111111111111111,
             "#46039f"
            ],
            [
             0.2222222222222222,
             "#7201a8"
            ],
            [
             0.3333333333333333,
             "#9c179e"
            ],
            [
             0.4444444444444444,
             "#bd3786"
            ],
            [
             0.5555555555555556,
             "#d8576b"
            ],
            [
             0.6666666666666666,
             "#ed7953"
            ],
            [
             0.7777777777777778,
             "#fb9f3a"
            ],
            [
             0.8888888888888888,
             "#fdca26"
            ],
            [
             1,
             "#f0f921"
            ]
           ]
          },
          "colorway": [
           "#636efa",
           "#EF553B",
           "#00cc96",
           "#ab63fa",
           "#FFA15A",
           "#19d3f3",
           "#FF6692",
           "#B6E880",
           "#FF97FF",
           "#FECB52"
          ],
          "font": {
           "color": "#2a3f5f"
          },
          "geo": {
           "bgcolor": "white",
           "lakecolor": "white",
           "landcolor": "#E5ECF6",
           "showlakes": true,
           "showland": true,
           "subunitcolor": "white"
          },
          "hoverlabel": {
           "align": "left"
          },
          "hovermode": "closest",
          "mapbox": {
           "style": "light"
          },
          "paper_bgcolor": "white",
          "plot_bgcolor": "#E5ECF6",
          "polar": {
           "angularaxis": {
            "gridcolor": "white",
            "linecolor": "white",
            "ticks": ""
           },
           "bgcolor": "#E5ECF6",
           "radialaxis": {
            "gridcolor": "white",
            "linecolor": "white",
            "ticks": ""
           }
          },
          "scene": {
           "xaxis": {
            "backgroundcolor": "#E5ECF6",
            "gridcolor": "white",
            "gridwidth": 2,
            "linecolor": "white",
            "showbackground": true,
            "ticks": "",
            "zerolinecolor": "white"
           },
           "yaxis": {
            "backgroundcolor": "#E5ECF6",
            "gridcolor": "white",
            "gridwidth": 2,
            "linecolor": "white",
            "showbackground": true,
            "ticks": "",
            "zerolinecolor": "white"
           },
           "zaxis": {
            "backgroundcolor": "#E5ECF6",
            "gridcolor": "white",
            "gridwidth": 2,
            "linecolor": "white",
            "showbackground": true,
            "ticks": "",
            "zerolinecolor": "white"
           }
          },
          "shapedefaults": {
           "line": {
            "color": "#2a3f5f"
           }
          },
          "ternary": {
           "aaxis": {
            "gridcolor": "white",
            "linecolor": "white",
            "ticks": ""
           },
           "baxis": {
            "gridcolor": "white",
            "linecolor": "white",
            "ticks": ""
           },
           "bgcolor": "#E5ECF6",
           "caxis": {
            "gridcolor": "white",
            "linecolor": "white",
            "ticks": ""
           }
          },
          "title": {
           "x": 0.05
          },
          "xaxis": {
           "automargin": true,
           "gridcolor": "white",
           "linecolor": "white",
           "ticks": "",
           "title": {
            "standoff": 15
           },
           "zerolinecolor": "white",
           "zerolinewidth": 2
          },
          "yaxis": {
           "automargin": true,
           "gridcolor": "white",
           "linecolor": "white",
           "ticks": "",
           "title": {
            "standoff": 15
           },
           "zerolinecolor": "white",
           "zerolinewidth": 2
          }
         }
        },
        "title": {
         "text": "Pedestrians count for the last 3 days"
        },
        "xaxis": {
         "anchor": "y",
         "domain": [
          0,
          1
         ],
         "title": {
          "text": "datetime"
         }
        },
        "yaxis": {
         "anchor": "x",
         "domain": [
          0,
          1
         ],
         "title": {
          "text": "pedestrians_count"
         }
        }
       }
      }
     },
     "metadata": {},
     "output_type": "display_data"
    }
   ],
   "source": [
    "# create a line plotly express plot with the data for the last 3 days in the wue_data_agg dataframe\n",
    "# get the last 3 days values from the wue_data_agg dataframe in the column date\n",
    "last_3_days = wue_data_agg['date'].unique()[-3:]\n",
    "# filter the data to get the data for the last 3 days\n",
    "wue_data_agg_3_days = wue_data_agg[wue_data_agg['date'].isin(last_3_days)]\n",
    "# create the plot\n",
    "fig = px.line(wue_data_agg_3_days, x='datetime', y='pedestrians_count', color='location_id', title='Pedestrians count for the last 3 days')\n",
    "# add a line to the plot for the sum data of the different locations in wue_data_agg_3_days\n",
    "sum_data = wue_data_agg_3_days.groupby('datetime').agg({'pedestrians_count': 'sum'}).reset_index()\n",
    "fig.add_scatter(x=sum_data['datetime'], y=sum_data['pedestrians_count'], mode='lines', name='Sum')\n",
    "# show the plot\n",
    "\n",
    "fig.show()"
   ]
  },
  {
   "cell_type": "code",
   "execution_count": null,
   "metadata": {},
   "outputs": [],
   "source": [
    "# get final predictions from the csv\n",
    "final_predictions = pd.read_csv('predictions.csv')\n",
    "\n",
    "# make a plotly express plot with the final predictions\n",
    "fig = px.line(final_predictions, x='datetime', y='pedestrians_count', color='location_id', title='Final predictions for the next 24 hours')\n",
    "# add a line to the plot for the sum data of the different locations in final_predictions\n",
    "sum_data = final_predictions.groupby('datetime').agg({'pedestrians_count': 'sum'}).reset_index()\n",
    "fig.add_scatter(x=sum_data['datetime'], y=sum_data['pedestrians_count'], mode='lines', name='Sum')\n",
    "# show the plot\n",
    "fig.show()"
   ]
  }
 ],
 "metadata": {
  "kernelspec": {
   "display_name": "Python 3",
   "language": "python",
   "name": "python3"
  },
  "language_info": {
   "codemirror_mode": {
    "name": "ipython",
    "version": 3
   },
   "file_extension": ".py",
   "mimetype": "text/x-python",
   "name": "python",
   "nbconvert_exporter": "python",
   "pygments_lexer": "ipython3",
   "version": "3.11.3"
  }
 },
 "nbformat": 4,
 "nbformat_minor": 2
}
