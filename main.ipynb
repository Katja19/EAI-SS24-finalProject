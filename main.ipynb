{
 "cells": [
  {
   "cell_type": "markdown",
   "metadata": {},
   "source": [
    "# EAI Final Project"
   ]
  },
  {
   "cell_type": "markdown",
   "metadata": {},
   "source": [
    "## Setup of zenML"
   ]
  },
  {
   "cell_type": "code",
   "execution_count": 1,
   "metadata": {},
   "outputs": [
    {
     "name": "stdout",
     "output_type": "stream",
     "text": [
      "⠋ Initializing ZenML repository at \n",
      "c:\\Users\\User\\VSCProjects\\EAI_SS24\\EAI-SS24-finalProject.\n",
      "\n",
      "⠙ Initializing ZenML repository at \n",
      "c:\\Users\\User\\VSCProjects\\EAI_SS24\\EAI-SS24-finalProject.\n",
      "\n",
      "⠹ Initializing ZenML repository at \n",
      "c:\\Users\\User\\VSCProjects\\EAI_SS24\\EAI-SS24-finalProject.\n",
      "\n",
      "⠸ Initializing ZenML repository at \n",
      "c:\\Users\\User\\VSCProjects\\EAI_SS24\\EAI-SS24-finalProject.\n",
      "\n",
      "⠦ Initializing ZenML repository at \n",
      "c:\\Users\\User\\VSCProjects\\EAI_SS24\\EAI-SS24-finalProject.\n",
      "\u001b[1;35mSetting the repo active workspace to 'default'.\u001b[0m\n",
      "\u001b[33mSetting the repo active stack to default.\u001b[0m\n",
      "\n",
      "ZenML repository initialized at \n",
      "c:\\Users\\User\\VSCProjects\\EAI_SS24\\EAI-SS24-finalProject.\n",
      "⠧ Initializing ZenML repository at \n",
      "c:\\Users\\User\\VSCProjects\\EAI_SS24\\EAI-SS24-finalProject.\n",
      "\n",
      "⠧ Initializing ZenML repository at \n",
      "c:\\Users\\User\\VSCProjects\\EAI_SS24\\EAI-SS24-finalProject.\n",
      "\n",
      "\n",
      "The local active stack was initialized to 'default'. This local configuration \n",
      "will only take effect when you're running ZenML from the initialized repository\n",
      "root, or from a subdirectory. For more information on repositories and \n",
      "configurations, please visit \n",
      "https://docs.zenml.io/user-guide/starter-guide/understand-stacks.\n",
      "⠋ Installing integrations...\n",
      "⠙ Installing integrations...\n",
      "⠹ Installing integrations...\n",
      "⠸ Installing integrations...\n",
      "⠼ Installing integrations...\n",
      "⠦ Installing integrations...\n",
      "⠧ Installing integrations...\n",
      "⠇ Installing integrations...\n",
      "⠏ Installing integrations...\n",
      "⠋ Installing integrations...\n",
      "⠙ Installing integrations...\n",
      "⠸ Installing integrations...\n",
      "⠼ Installing integrations...\n",
      "⠴ Installing integrations...\n",
      "⠦ Installing integrations...\n",
      "⠧ Installing integrations...\n",
      "\n"
     ]
    }
   ],
   "source": [
    "# Here we are going to create a new ZenML project\n",
    "#!rm -rf .zen # don't work under windows, cause it's a unix-command\n",
    "!rmdir /S /Q .zen\n",
    "!zenml init\n",
    "!zenml integration install sklearn -y"
   ]
  },
  {
   "cell_type": "code",
   "execution_count": 2,
   "metadata": {},
   "outputs": [
    {
     "name": "stdout",
     "output_type": "stream",
     "text": [
      "        Stack Configuration        \n",
      "┌────────────────┬────────────────┐\n",
      "│ COMPONENT_TYPE │ COMPONENT_NAME │\n",
      "├────────────────┼────────────────┤\n",
      "│ ARTIFACT_STORE │ default        │\n",
      "├────────────────┼────────────────┤\n",
      "│ ORCHESTRATOR   │ default        │\n",
      "└────────────────┴────────────────┘\n",
      "     'default' stack (ACTIVE)      \n",
      "⠋ Describing the stack...\n",
      "\n",
      "No labels are set for this stack.\n",
      "⠋ Describing the stack...\n",
      "\n",
      "Stack 'default' with id '55222316-9ac8-47bc-97de-829f73a8a621' is unowned.\n",
      "⠋ Describing the stack...\n",
      "\n",
      "⠋ Describing the stack...\n",
      "\n",
      "\n",
      "You can display various ZenML entities including pipelines, runs, stacks and \n",
      "much more on the ZenML Dashboard. You can try it locally, by running `zenml \n",
      "up`, or remotely, by deploying ZenML on the infrastructure of your choice.\n"
     ]
    }
   ],
   "source": [
    "# First we are checking the status of the stack\n",
    "!zenml stack describe"
   ]
  },
  {
   "cell_type": "code",
   "execution_count": 3,
   "metadata": {},
   "outputs": [
    {
     "name": "stdout",
     "output_type": "stream",
     "text": [
      "⠋ Installing integrations...\n",
      "⠙ Installing integrations...\n",
      "⠹ Installing integrations...\n",
      "⠸ Installing integrations...\n",
      "⠼ Installing integrations...\n",
      "⠴ Installing integrations...\n",
      "⠧ Installing integrations...\n",
      "⠇ Installing integrations...\n",
      "⠏ Installing integrations...\n",
      "⠋ Installing integrations...\n",
      "⠙ Installing integrations...\n",
      "⠸ Installing integrations...\n",
      "⠼ Installing integrations...\n",
      "⠴ Installing integrations...\n",
      "⠦ Installing integrations...\n",
      "⠧ Installing integrations...\n",
      "\n"
     ]
    }
   ],
   "source": [
    "# Now we are going to install the MLFlow integration, which is a very popular open-source platform for managing the end-to-end machine learning lifecycle\n",
    "#!zenml integration install mlflow -y\n",
    "!zenml integration install wandb -y"
   ]
  },
  {
   "cell_type": "code",
   "execution_count": 4,
   "metadata": {},
   "outputs": [
    {
     "name": "stdout",
     "output_type": "stream",
     "text": [
      "⠋ Registering experiment tracker 'wandb_experiment_tracker'...\n",
      "\n",
      "⠙ Registering experiment tracker 'wandb_experiment_tracker'...\n",
      "\n",
      "⠹ Registering experiment tracker 'wandb_experiment_tracker'...\n",
      "\n",
      "⠸ Registering experiment tracker 'wandb_experiment_tracker'...\n",
      "\n",
      "⠼ Registering experiment tracker 'wandb_experiment_tracker'...\n",
      "\n",
      "⠴ Registering experiment tracker 'wandb_experiment_tracker'...\n",
      "\n",
      "⠦ Registering experiment tracker 'wandb_experiment_tracker'...\n",
      "\n",
      "⠇ Registering experiment tracker 'wandb_experiment_tracker'...\n",
      "\n",
      "⠏ Registering experiment tracker 'wandb_experiment_tracker'...\n",
      "\n",
      "⠋ Registering experiment tracker 'wandb_experiment_tracker'...\n",
      "\n",
      "⠙ Registering experiment tracker 'wandb_experiment_tracker'...\n",
      "\n",
      "⠹ Registering experiment tracker 'wandb_experiment_tracker'...\n",
      "\n",
      "\n"
     ]
    },
    {
     "name": "stderr",
     "output_type": "stream",
     "text": [
      "┌───────────────────── Traceback (most recent call last) ─────────────────────┐\n",
      "│ in _run_module_as_main:198                                                  │\n",
      "│ in _run_code:88                                                             │\n",
      "│                                                                             │\n",
      "│ in <module>:7                                                               │\n",
      "│                                                                             │\n",
      "│ C:\\Users\\User\\AppData\\Roaming\\Python\\Python311\\site-packages\\click\\core.py: │\n",
      "│ 1130 in __call__                                                            │\n",
      "│                                                                             │\n",
      "│   1127 │                                                                    │\n",
      "│   1128 │   def __call__(self, *args: t.Any, **kwargs: t.Any) -> t.Any:      │\n",
      "│   1129 │   │   \"\"\"Alias for :meth:`main`.\"\"\"                                │\n",
      "│ > 1130 │   │   return self.main(*args, **kwargs)                            │\n",
      "│   1131                                                                      │\n",
      "│   1132                                                                      │\n",
      "│   1133 class Command(BaseCommand):                                          │\n",
      "│                                                                             │\n",
      "│ C:\\Users\\User\\AppData\\Roaming\\Python\\Python311\\site-packages\\click\\core.py: │\n",
      "│ 1055 in main                                                                │\n",
      "│                                                                             │\n",
      "│   1052 │   │   try:                                                         │\n",
      "│   1053 │   │   │   try:                                                     │\n",
      "│   1054 │   │   │   │   with self.make_context(prog_name, args, **extra) as  │\n",
      "│ > 1055 │   │   │   │   │   rv = self.invoke(ctx)                            │\n",
      "│   1056 │   │   │   │   │   if not standalone_mode:                          │\n",
      "│   1057 │   │   │   │   │   │   return rv                                    │\n",
      "│   1058 │   │   │   │   │   # it's not safe to `ctx.exit(rv)` here!          │\n",
      "│                                                                             │\n",
      "│ C:\\Users\\User\\AppData\\Roaming\\Python\\Python311\\site-packages\\click\\core.py: │\n",
      "│ 1657 in invoke                                                              │\n",
      "│                                                                             │\n",
      "│   1654 │   │   │   │   super().invoke(ctx)                                  │\n",
      "│   1655 │   │   │   │   sub_ctx = cmd.make_context(cmd_name, args, parent=ct │\n",
      "│   1656 │   │   │   │   with sub_ctx:                                        │\n",
      "│ > 1657 │   │   │   │   │   return _process_result(sub_ctx.command.invoke(su │\n",
      "│   1658 │   │                                                                │\n",
      "│   1659 │   │   # In chain mode we create the contexts step by step, but aft │\n",
      "│   1660 │   │   # base command has been invoked.  Because at that point we d │\n",
      "│                                                                             │\n",
      "│ C:\\Users\\User\\AppData\\Roaming\\Python\\Python311\\site-packages\\click\\core.py: │\n",
      "│ 1657 in invoke                                                              │\n",
      "│                                                                             │\n",
      "│   1654 │   │   │   │   super().invoke(ctx)                                  │\n",
      "│   1655 │   │   │   │   sub_ctx = cmd.make_context(cmd_name, args, parent=ct │\n",
      "│   1656 │   │   │   │   with sub_ctx:                                        │\n",
      "│ > 1657 │   │   │   │   │   return _process_result(sub_ctx.command.invoke(su │\n",
      "│   1658 │   │                                                                │\n",
      "│   1659 │   │   # In chain mode we create the contexts step by step, but aft │\n",
      "│   1660 │   │   # base command has been invoked.  Because at that point we d │\n",
      "│                                                                             │\n",
      "│ C:\\Users\\User\\AppData\\Roaming\\Python\\Python311\\site-packages\\click\\core.py: │\n",
      "│ 1404 in invoke                                                              │\n",
      "│                                                                             │\n",
      "│   1401 │   │   │   echo(style(message, fg=\"red\"), err=True)                 │\n",
      "│   1402 │   │                                                                │\n",
      "│   1403 │   │   if self.callback is not None:                                │\n",
      "│ > 1404 │   │   │   return ctx.invoke(self.callback, **ctx.params)           │\n",
      "│   1405 │                                                                    │\n",
      "│   1406 │   def shell_complete(self, ctx: Context, incomplete: str) -> t.Lis │\n",
      "│   1407 │   │   \"\"\"Return a list of completions for the incomplete value. Lo │\n",
      "│                                                                             │\n",
      "│ C:\\Users\\User\\AppData\\Roaming\\Python\\Python311\\site-packages\\click\\core.py: │\n",
      "│ 760 in invoke                                                               │\n",
      "│                                                                             │\n",
      "│    757 │   │                                                                │\n",
      "│    758 │   │   with augment_usage_errors(__self):                           │\n",
      "│    759 │   │   │   with ctx:                                                │\n",
      "│ >  760 │   │   │   │   return __callback(*args, **kwargs)                   │\n",
      "│    761 │                                                                    │\n",
      "│    762 │   def forward(                                                     │\n",
      "│    763 │   │   __self, __cmd: \"Command\", *args: t.Any, **kwargs: t.Any  # n │\n",
      "│                                                                             │\n",
      "│ C:\\Users\\User\\AppData\\Roaming\\Python\\Python311\\site-packages\\zenml\\cli\\stac │\n",
      "│ k_components.py:287 in register_stack_component_command                     │\n",
      "│                                                                             │\n",
      "│    284 │   │                                                                │\n",
      "│    285 │   │   with console.status(f\"Registering {display_name} '{name}'... │\n",
      "│    286 │   │   │   # Create a new stack component model                     │\n",
      "│ >  287 │   │   │   component = client.create_stack_component(               │\n",
      "│    288 │   │   │   │   name=name,                                           │\n",
      "│    289 │   │   │   │   flavor=flavor,                                       │\n",
      "│    290 │   │   │   │   component_type=component_type,                       │\n",
      "│                                                                             │\n",
      "│ C:\\Users\\User\\AppData\\Roaming\\Python\\Python311\\site-packages\\zenml\\client_l │\n",
      "│ azy_loader.py:198 in _inner                                                 │\n",
      "│                                                                             │\n",
      "│   195 │   │   │   │   │   with contextlib.suppress(ValueError):             │\n",
      "│   196 │   │   │   │   │   │   kwargs[k] = ClientLazyLoader(**v).evaluate()  │\n",
      "│   197 │   │   │                                                             │\n",
      "│ > 198 │   │   │   return func(*args_, **kwargs)                             │\n",
      "│   199 │   │                                                                 │\n",
      "│   200 │   │   return _inner                                                 │\n",
      "│   201                                                                       │\n",
      "│                                                                             │\n",
      "│ C:\\Users\\User\\AppData\\Roaming\\Python\\Python311\\site-packages\\zenml\\client.p │\n",
      "│ y:2003 in create_stack_component                                            │\n",
      "│                                                                             │\n",
      "│   2000 │   │   )                                                            │\n",
      "│   2001 │   │                                                                │\n",
      "│   2002 │   │   # Register the new model                                     │\n",
      "│ > 2003 │   │   return self.zen_store.create_stack_component(                │\n",
      "│   2004 │   │   │   component=create_component_model                         │\n",
      "│   2005 │   │   )                                                            │\n",
      "│   2006                                                                      │\n",
      "│                                                                             │\n",
      "│ C:\\Users\\User\\AppData\\Roaming\\Python\\Python311\\site-packages\\zenml\\analytic │\n",
      "│ s\\utils.py:178 in inner_func                                                │\n",
      "│                                                                             │\n",
      "│   175 │   │   │   │   except Exception as e:                                │\n",
      "│   176 │   │   │   │   │   logger.debug(f\"Analytics tracking failure for {fu │\n",
      "│   177 │   │   │   │                                                         │\n",
      "│ > 178 │   │   │   │   result = func(*args, **kwargs)                        │\n",
      "│   179 │   │   │   │                                                         │\n",
      "│   180 │   │   │   │   try:                                                  │\n",
      "│   181 │   │   │   │   │   if isinstance(result, AnalyticsTrackedModelMixin) │\n",
      "│                                                                             │\n",
      "│ C:\\Users\\User\\AppData\\Roaming\\Python\\Python311\\site-packages\\zenml\\zen_stor │\n",
      "│ es\\sql_zen_store.py:3103 in create_stack_component                          │\n",
      "│                                                                             │\n",
      "│    3100 │   │   \"\"\"                                                         │\n",
      "│    3101 │   │   validate_name(component)                                    │\n",
      "│    3102 │   │   with Session(self.engine) as session:                       │\n",
      "│ >  3103 │   │   │   self._fail_if_component_with_name_type_exists(          │\n",
      "│    3104 │   │   │   │   name=component.name,                                │\n",
      "│    3105 │   │   │   │   component_type=component.type,                      │\n",
      "│    3106 │   │   │   │   workspace_id=component.workspace,                   │\n",
      "│                                                                             │\n",
      "│ C:\\Users\\User\\AppData\\Roaming\\Python\\Python311\\site-packages\\zenml\\zen_stor │\n",
      "│ es\\sql_zen_store.py:3384 in _fail_if_component_with_name_type_exists        │\n",
      "│                                                                             │\n",
      "│    3381 │   │   │   .where(StackComponentSchema.type == component_type)     │\n",
      "│    3382 │   │   ).first()                                                   │\n",
      "│    3383 │   │   if existing_domain_component is not None:                   │\n",
      "│ >  3384 │   │   │   raise StackComponentExistsError(                        │\n",
      "│    3385 │   │   │   │   f\"Unable to register '{component_type}' component \" │\n",
      "│    3386 │   │   │   │   f\"with name '{name}': Found an existing \"           │\n",
      "│    3387 │   │   │   │   f\"component with the same name and type in the same │\n",
      "└─────────────────────────────────────────────────────────────────────────────┘\n",
      "StackComponentExistsError: Unable to register 'experiment_tracker' component \n",
      "with name 'wandb_experiment_tracker': Found an existing component with the same\n",
      "name and type in the same  workspace 'default'.\n"
     ]
    }
   ],
   "source": [
    "# Now we are going to register the MLFlow integration for the experiment tracker, which is the component that tracks the experiments and logs the results\n",
    "import os\n",
    "api_key_wandb = os.environ['WANDB_API_KEY']\n",
    "!zenml experiment-tracker register wandb_experiment_tracker --flavor=wandb --api_key=$api_key_wandb"
   ]
  },
  {
   "cell_type": "code",
   "execution_count": 5,
   "metadata": {},
   "outputs": [
    {
     "name": "stderr",
     "output_type": "stream",
     "text": [
      "Error: A stack with name `wandb_stack` already exists, please use a different name.\n"
     ]
    }
   ],
   "source": [
    "!zenml stack register wandb_stack -a default -o default -e wandb_experiment_tracker"
   ]
  },
  {
   "cell_type": "markdown",
   "metadata": {},
   "source": [
    "__Hint__: if the stack does not show the mlflow integration, check in the terminal if the mlflow is installed with  \n",
    "- zenml experiment-tracker list  \n",
    "- zenml model-deployer list  \n",
    "- zenml stack list  \n",
    "- activate the mlflow with: zenml stack set mlflow_stack  "
   ]
  },
  {
   "cell_type": "code",
   "execution_count": 6,
   "metadata": {},
   "outputs": [
    {
     "name": "stdout",
     "output_type": "stream",
     "text": [
      "Active repository stack set to: 'wandb_stack'\n",
      "⠋ Setting the repository active stack to 'wandb_stack'...\n",
      "⠋ Setting the repository active stack to 'wandb_stack'...\n",
      "\n"
     ]
    }
   ],
   "source": [
    "# change the stack to the mlflow stack\n",
    "!zenml stack set wandb_stack"
   ]
  },
  {
   "cell_type": "code",
   "execution_count": 7,
   "metadata": {},
   "outputs": [
    {
     "name": "stdout",
     "output_type": "stream",
     "text": [
      "               Stack Configuration               \n",
      "┌────────────────────┬──────────────────────────┐\n",
      "│ COMPONENT_TYPE     │ COMPONENT_NAME           │\n",
      "├────────────────────┼──────────────────────────┤\n",
      "│ ARTIFACT_STORE     │ default                  │\n",
      "├────────────────────┼──────────────────────────┤\n",
      "│ EXPERIMENT_TRACKER │ wandb_experiment_tracker │\n",
      "├────────────────────┼──────────────────────────┤\n",
      "│ ORCHESTRATOR       │ default                  │\n",
      "└────────────────────┴──────────────────────────┘\n",
      "          'wandb_stack' stack (ACTIVE)           \n",
      "⠋ Describing the stack...\n",
      "\n",
      "           Labels           \n",
      "┌──────────────────┬───────┐\n",
      "│ LABEL            │ VALUE │\n",
      "├──────────────────┼───────┤\n",
      "│ zenml:full_stack │ True  │\n",
      "└──────────────────┴───────┘\n",
      "⠋ Describing the stack...\n",
      "\n",
      "Stack 'wandb_stack' with id '10466513-5196-4c4e-9403-e0334a3670a0' is owned by \n",
      "user default.\n",
      "⠋ Describing the stack...\n",
      "\n",
      "⠋ Describing the stack...\n",
      "\n",
      "\n",
      "You can display various ZenML entities including pipelines, runs, stacks and \n",
      "much more on the ZenML Dashboard. You can try it locally, by running `zenml \n",
      "up`, or remotely, by deploying ZenML on the infrastructure of your choice.\n"
     ]
    }
   ],
   "source": [
    "# At last we are going to check the status of the stack again\n",
    "!zenml stack describe"
   ]
  },
  {
   "cell_type": "markdown",
   "metadata": {},
   "source": [
    "## Execute pipeline"
   ]
  },
  {
   "cell_type": "code",
   "execution_count": 8,
   "metadata": {},
   "outputs": [],
   "source": [
    "from run import run_pipelines"
   ]
  },
  {
   "cell_type": "code",
   "execution_count": 9,
   "metadata": {},
   "outputs": [
    {
     "name": "stdout",
     "output_type": "stream",
     "text": [
      "\u001b[1;35mStarting the feature engineering pipeline.\u001b[0m\n",
      "\u001b[1;35mStarting feature engineering pipeline...\u001b[0m\n",
      "\u001b[1;35mData updated.\u001b[0m\n",
      "Target variable scaled.\n",
      "\u001b[1;35mFeature engineering pipeline successfully completed.\u001b[0m\n",
      "\u001b[1;35mInitiating a new run for the pipeline: \u001b[0m\u001b[1;36mfeature_engineering_pipeline\u001b[1;35m.\u001b[0m\n",
      "\u001b[1;35mRegistered new version: \u001b[0m\u001b[1;36m(version 95)\u001b[1;35m.\u001b[0m\n",
      "\u001b[1;35mExecuting a new run.\u001b[0m\n",
      "\u001b[1;35mUsing user: \u001b[0m\u001b[1;36mdefault\u001b[1;35m\u001b[0m\n",
      "\u001b[1;35mUsing stack: \u001b[0m\u001b[1;36mwandb_stack\u001b[1;35m\u001b[0m\n",
      "\u001b[1;35m  artifact_store: \u001b[0m\u001b[1;36mdefault\u001b[1;35m\u001b[0m\n",
      "\u001b[1;35m  experiment_tracker: \u001b[0m\u001b[1;36mwandb_experiment_tracker\u001b[1;35m\u001b[0m\n",
      "\u001b[1;35m  orchestrator: \u001b[0m\u001b[1;36mdefault\u001b[1;35m\u001b[0m\n",
      "\u001b[1;35mYou can visualize your pipeline runs in the \u001b[0m\u001b[1;36mZenML Dashboard\u001b[1;35m. In order to try it locally, please run \u001b[0m\u001b[1;36mzenml up\u001b[1;35m.\u001b[0m\n",
      "\u001b[1;35mUsing cached version of \u001b[0m\u001b[1;36mupdate_data\u001b[1;35m.\u001b[0m\n",
      "\u001b[1;35mStep \u001b[0m\u001b[1;36mupdate_data\u001b[1;35m has started.\u001b[0m\n",
      "\u001b[1;35mUsing cached version of \u001b[0m\u001b[1;36mload_data\u001b[1;35m.\u001b[0m\n",
      "\u001b[1;35mStep \u001b[0m\u001b[1;36mload_data\u001b[1;35m has started.\u001b[0m\n",
      "\u001b[1;35mStep \u001b[0m\u001b[1;36mcreate_derived_features\u001b[1;35m has started.\u001b[0m\n",
      "\u001b[1;35mStarting create_derived_features step...\u001b[0m\n",
      "weekday\n",
      "\u001b[1;35mCreate derived features step successfully completed.\u001b[0m\n",
      "\u001b[1;35mStep \u001b[0m\u001b[1;36mcreate_derived_features\u001b[1;35m has finished in \u001b[0m\u001b[1;36m6.167s\u001b[1;35m.\u001b[0m\n",
      "\u001b[1;35mStep \u001b[0m\u001b[1;36mcreate_derived_features\u001b[1;35m completed successfully.\u001b[0m\n",
      "\u001b[1;35mStep \u001b[0m\u001b[1;36msplit_data\u001b[1;35m has started.\u001b[0m\n",
      "\u001b[1;35mStarting split_data step...\u001b[0m\n",
      "Shapes of the training and testing data:\n",
      "X_train: (11108, 64)\n",
      "X_test: (2777, 64)\n",
      "y_train: (11108,)\n",
      "y_test: (2777,)\n",
      "\u001b[1;35mSplit data step successfully completed.\u001b[0m\n",
      "Shapes of the eda date infos data:\n",
      "X_train_eda_date_infos: (11108, 7)\n",
      "X_test_eda_date_infos: (2777, 7)\n",
      "\u001b[1;35mStep \u001b[0m\u001b[1;36msplit_data\u001b[1;35m has finished in \u001b[0m\u001b[1;36m46.864s\u001b[1;35m.\u001b[0m\n",
      "\u001b[1;35mStep \u001b[0m\u001b[1;36msplit_data\u001b[1;35m completed successfully.\u001b[0m\n",
      "\u001b[1;35mStep \u001b[0m\u001b[1;36mcreate_preprocessing_pipeline\u001b[1;35m has started.\u001b[0m\n",
      "\u001b[1;35mStarting create_preprocessing_pipeline step...\u001b[0m\n",
      "\u001b[1;35mPreprocessing pipeline step successfully completed.\u001b[0m\n",
      "\u001b[1;35mStep \u001b[0m\u001b[1;36mcreate_preprocessing_pipeline\u001b[1;35m has finished in \u001b[0m\u001b[1;36m5.948s\u001b[1;35m.\u001b[0m\n",
      "\u001b[1;35mStep \u001b[0m\u001b[1;36mcreate_preprocessing_pipeline\u001b[1;35m completed successfully.\u001b[0m\n",
      "\u001b[1;35mStep \u001b[0m\u001b[1;36mscale_target_variable\u001b[1;35m has started.\u001b[0m\n",
      "\u001b[1;35mStep \u001b[0m\u001b[1;36mscale_target_variable\u001b[1;35m has finished in \u001b[0m\u001b[1;36m12.276s\u001b[1;35m.\u001b[0m\n",
      "\u001b[1;35mStep \u001b[0m\u001b[1;36mscale_target_variable\u001b[1;35m completed successfully.\u001b[0m\n",
      "\u001b[1;35mStep \u001b[0m\u001b[1;36mfeature_preprocessor\u001b[1;35m has started.\u001b[0m\n",
      "\u001b[1;35mInitializing wandb with entity None, project name: None, run_name: feature_engineering_pipeline-2024_07_15-00_42_00_518697_feature_preprocessor.\u001b[0m\n",
      "\u001b[31mFailed to detect the name of this notebook, you can set it manually with the WANDB_NOTEBOOK_NAME environment variable to enable code saving.\u001b[0m\n",
      "\u001b[34m\u001b[1mwandb\u001b[0m: Currently logged in as: \u001b[33mkatja-gegg\u001b[0m (\u001b[33mss24_eai\u001b[0m). Use \u001b[1m`wandb login --relogin`\u001b[0m to force relogin\n"
     ]
    },
    {
     "data": {
      "text/html": [
       "wandb version 0.17.4 is available!  To upgrade, please run:\n",
       " $ pip install wandb --upgrade"
      ],
      "text/plain": [
       "<IPython.core.display.HTML object>"
      ]
     },
     "metadata": {},
     "output_type": "display_data"
    },
    {
     "data": {
      "text/html": [
       "Tracking run with wandb version 0.15.10"
      ],
      "text/plain": [
       "<IPython.core.display.HTML object>"
      ]
     },
     "metadata": {},
     "output_type": "display_data"
    },
    {
     "data": {
      "text/html": [
       "Run data is saved locally in <code>c:\\Users\\User\\VSCProjects\\EAI_SS24\\EAI-SS24-finalProject\\wandb\\run-20240715_024316-pbdb7kml</code>"
      ],
      "text/plain": [
       "<IPython.core.display.HTML object>"
      ]
     },
     "metadata": {},
     "output_type": "display_data"
    },
    {
     "data": {
      "text/html": [
       "Syncing run <strong><a href='https://wandb.ai/ss24_eai/EAI-SS24-finalProject/runs/pbdb7kml' target=\"_blank\">feature_engineering_pipeline-2024_07_15-00_42_00_518697_feature_preprocessor</a></strong> to <a href='https://wandb.ai/ss24_eai/EAI-SS24-finalProject' target=\"_blank\">Weights & Biases</a> (<a href='https://wandb.me/run' target=\"_blank\">docs</a>)<br/>"
      ],
      "text/plain": [
       "<IPython.core.display.HTML object>"
      ]
     },
     "metadata": {},
     "output_type": "display_data"
    },
    {
     "data": {
      "text/html": [
       " View project at <a href='https://wandb.ai/ss24_eai/EAI-SS24-finalProject' target=\"_blank\">https://wandb.ai/ss24_eai/EAI-SS24-finalProject</a>"
      ],
      "text/plain": [
       "<IPython.core.display.HTML object>"
      ]
     },
     "metadata": {},
     "output_type": "display_data"
    },
    {
     "data": {
      "text/html": [
       " View run at <a href='https://wandb.ai/ss24_eai/EAI-SS24-finalProject/runs/pbdb7kml' target=\"_blank\">https://wandb.ai/ss24_eai/EAI-SS24-finalProject/runs/pbdb7kml</a>"
      ],
      "text/plain": [
       "<IPython.core.display.HTML object>"
      ]
     },
     "metadata": {},
     "output_type": "display_data"
    },
    {
     "name": "stdout",
     "output_type": "stream",
     "text": [
      "\u001b[1;35mStarting feature_preprocessor step...\u001b[0m\n",
      "\u001b[1;35mFeature preprocessor step successfully completed.\u001b[0m\n"
     ]
    },
    {
     "data": {
      "text/html": [
       "Waiting for W&B process to finish... <strong style=\"color:green\">(success).</strong>"
      ],
      "text/plain": [
       "<IPython.core.display.HTML object>"
      ]
     },
     "metadata": {},
     "output_type": "display_data"
    },
    {
     "data": {
      "application/vnd.jupyter.widget-view+json": {
       "model_id": "3d0035ce3a5b4ba4a8b296c060d086fc",
       "version_major": 2,
       "version_minor": 0
      },
      "text/plain": [
       "VBox(children=(Label(value='0.001 MB of 0.001 MB uploaded (0.000 MB deduped)\\r'), FloatProgress(value=1.0, max…"
      ]
     },
     "metadata": {},
     "output_type": "display_data"
    },
    {
     "data": {
      "text/html": [
       " View run <strong style=\"color:#cdcd00\">feature_engineering_pipeline-2024_07_15-00_42_00_518697_feature_preprocessor</strong> at: <a href='https://wandb.ai/ss24_eai/EAI-SS24-finalProject/runs/pbdb7kml' target=\"_blank\">https://wandb.ai/ss24_eai/EAI-SS24-finalProject/runs/pbdb7kml</a><br/>Synced 5 W&B file(s), 0 media file(s), 0 artifact file(s) and 0 other file(s)"
      ],
      "text/plain": [
       "<IPython.core.display.HTML object>"
      ]
     },
     "metadata": {},
     "output_type": "display_data"
    },
    {
     "data": {
      "text/html": [
       "Find logs at: <code>.\\wandb\\run-20240715_024316-pbdb7kml\\logs</code>"
      ],
      "text/plain": [
       "<IPython.core.display.HTML object>"
      ]
     },
     "metadata": {},
     "output_type": "display_data"
    },
    {
     "name": "stdout",
     "output_type": "stream",
     "text": [
      "\u001b[1;35mStep \u001b[0m\u001b[1;36mfeature_preprocessor\u001b[1;35m has finished in \u001b[0m\u001b[1;36m27.808s\u001b[1;35m.\u001b[0m\n",
      "\u001b[1;35mStep \u001b[0m\u001b[1;36mfeature_preprocessor\u001b[1;35m completed successfully.\u001b[0m\n",
      "\u001b[1;35mStep \u001b[0m\u001b[1;36mcreate_eda_data\u001b[1;35m has started.\u001b[0m\n",
      "\u001b[1;35mStep \u001b[0m\u001b[1;36mcreate_eda_data\u001b[1;35m has finished in \u001b[0m\u001b[1;36m1.686s\u001b[1;35m.\u001b[0m\n",
      "\u001b[1;35mStep \u001b[0m\u001b[1;36mcreate_eda_data\u001b[1;35m completed successfully.\u001b[0m\n",
      "\u001b[1;35mPipeline run has finished in \u001b[0m\u001b[1;36m1m44s\u001b[1;35m.\u001b[0m\n",
      "\u001b[1;35mFeature engineering pipeline completed.\u001b[0m\n",
      "\u001b[1;35mStarting the training pipeline.\u001b[0m\n",
      "\u001b[1;35mStarting training_pipeline...\u001b[0m\n",
      "\u001b[1;35mFinished training_pipeline.\u001b[0m\n",
      "\u001b[1;35mInitiating a new run for the pipeline: \u001b[0m\u001b[1;36mtraining_pipeline\u001b[1;35m.\u001b[0m\n",
      "\u001b[1;35mRegistered new version: \u001b[0m\u001b[1;36m(version 78)\u001b[1;35m.\u001b[0m\n",
      "\u001b[1;35mExecuting a new run.\u001b[0m\n",
      "\u001b[1;35mUsing user: \u001b[0m\u001b[1;36mdefault\u001b[1;35m\u001b[0m\n",
      "\u001b[1;35mUsing stack: \u001b[0m\u001b[1;36mwandb_stack\u001b[1;35m\u001b[0m\n",
      "\u001b[1;35m  artifact_store: \u001b[0m\u001b[1;36mdefault\u001b[1;35m\u001b[0m\n",
      "\u001b[1;35m  experiment_tracker: \u001b[0m\u001b[1;36mwandb_experiment_tracker\u001b[1;35m\u001b[0m\n",
      "\u001b[1;35m  orchestrator: \u001b[0m\u001b[1;36mdefault\u001b[1;35m\u001b[0m\n",
      "\u001b[1;35mYou can visualize your pipeline runs in the \u001b[0m\u001b[1;36mZenML Dashboard\u001b[1;35m. In order to try it locally, please run \u001b[0m\u001b[1;36mzenml up\u001b[1;35m.\u001b[0m\n",
      "\u001b[1;35mStep \u001b[0m\u001b[1;36mhp_tuning\u001b[1;35m has started.\u001b[0m\n",
      "Starting hp_tuning step...\n",
      "X_train: (11108, 70)\n",
      "y_train: (11108,)\n",
      "Model type: xgboost\n",
      "Trials: 50\n",
      "\u001b[1;35mStarting hp_tuning step...\u001b[0m\n",
      "\u001b[1;35mModelltyp: xgboost\u001b[0m\n",
      "\u001b[1;35mAnzahl der Trials: 50\u001b[0m\n",
      "\u001b[1;35mForm von X_train: (11108, 70)\u001b[0m\n",
      "\u001b[1;35mForm von y_train: (11108,)\u001b[0m\n",
      "\u001b[1;35mDatentyp von y_train ist int64\u001b[0m\n",
      "\u001b[1;35mDatentyp von y_train.iloc[0] ist 697\u001b[0m\n",
      "[I 2024-07-15 02:43:54,663] A new study created in memory with name: no-name-dc46b012-1c09-400a-83b5-31ac36704b4a\n",
      "[I 2024-07-15 02:43:57,423] Trial 0 finished with value: 195.5554320280414 and parameters: {'n_estimators': 173, 'max_depth': 8, 'learning_rate': 0.28912956150881314, 'subsample': 0.77016083109986, 'colsample_bytree': 0.6855569559199387}. Best is trial 0 with value: 195.5554320280414.\n",
      "[I 2024-07-15 02:43:58,303] Trial 1 finished with value: 189.4379784473335 and parameters: {'n_estimators': 65, 'max_depth': 8, 'learning_rate': 0.2772408578846287, 'subsample': 0.8460120398953741, 'colsample_bytree': 0.7170413492964751}. Best is trial 1 with value: 189.4379784473335.\n",
      "[I 2024-07-15 02:43:58,672] Trial 2 finished with value: 229.4701932038804 and parameters: {'n_estimators': 154, 'max_depth': 1, 'learning_rate': 0.1967246387955638, 'subsample': 0.6571824074275081, 'colsample_bytree': 0.7443914812348404}. Best is trial 1 with value: 189.4379784473335.\n",
      "[I 2024-07-15 02:43:59,433] Trial 3 finished with value: 171.91400114467424 and parameters: {'n_estimators': 88, 'max_depth': 6, 'learning_rate': 0.1682258830118899, 'subsample': 0.6695791097644438, 'colsample_bytree': 0.689429461671022}. Best is trial 3 with value: 171.91400114467424.\n",
      "[I 2024-07-15 02:43:59,799] Trial 4 finished with value: 216.53717479847705 and parameters: {'n_estimators': 96, 'max_depth': 2, 'learning_rate': 0.05168551423614958, 'subsample': 0.6942670913019827, 'colsample_bytree': 0.8162695150443295}. Best is trial 3 with value: 171.91400114467424.\n",
      "[I 2024-07-15 02:44:01,509] Trial 5 finished with value: 163.1776391073187 and parameters: {'n_estimators': 86, 'max_depth': 9, 'learning_rate': 0.16191336437825066, 'subsample': 0.889701558215554, 'colsample_bytree': 0.9305843291093692}. Best is trial 5 with value: 163.1776391073187.\n",
      "[I 2024-07-15 02:44:03,577] Trial 6 finished with value: 162.81690137915638 and parameters: {'n_estimators': 117, 'max_depth': 9, 'learning_rate': 0.2110993363036501, 'subsample': 0.7700592921538226, 'colsample_bytree': 0.8458827344959702}. Best is trial 6 with value: 162.81690137915638.\n",
      "[I 2024-07-15 02:44:04,359] Trial 7 finished with value: 169.07321246324966 and parameters: {'n_estimators': 124, 'max_depth': 4, 'learning_rate': 0.2245924484049995, 'subsample': 0.7325775835750706, 'colsample_bytree': 0.9271345468662822}. Best is trial 6 with value: 162.81690137915638.\n",
      "[I 2024-07-15 02:44:06,297] Trial 8 finished with value: 168.56740205862135 and parameters: {'n_estimators': 172, 'max_depth': 7, 'learning_rate': 0.16205904901157406, 'subsample': 0.7634544434072253, 'colsample_bytree': 0.763374172669703}. Best is trial 6 with value: 162.81690137915638.\n",
      "[I 2024-07-15 02:44:07,154] Trial 9 finished with value: 178.23142297404695 and parameters: {'n_estimators': 187, 'max_depth': 2, 'learning_rate': 0.19500424424545776, 'subsample': 0.6836035704869562, 'colsample_bytree': 0.7354907622133094}. Best is trial 6 with value: 162.81690137915638.\n",
      "[I 2024-07-15 02:44:09,623] Trial 10 finished with value: 167.31667170033685 and parameters: {'n_estimators': 132, 'max_depth': 10, 'learning_rate': 0.07639716343455245, 'subsample': 0.8403659087397197, 'colsample_bytree': 0.6029669350355032}. Best is trial 6 with value: 162.81690137915638.\n",
      "[I 2024-07-15 02:44:11,906] Trial 11 finished with value: 161.12346163145494 and parameters: {'n_estimators': 104, 'max_depth': 10, 'learning_rate': 0.10458561480465654, 'subsample': 0.9494190515144916, 'colsample_bytree': 0.9235396618069709}. Best is trial 11 with value: 161.12346163145494.\n",
      "[I 2024-07-15 02:44:14,258] Trial 12 finished with value: 159.38328237722516 and parameters: {'n_estimators': 117, 'max_depth': 10, 'learning_rate': 0.09991555102091103, 'subsample': 0.9441525464296774, 'colsample_bytree': 0.8525829447130215}. Best is trial 12 with value: 159.38328237722516.\n",
      "[I 2024-07-15 02:44:15,310] Trial 13 finished with value: 158.93829698933737 and parameters: {'n_estimators': 51, 'max_depth': 10, 'learning_rate': 0.09991931038055132, 'subsample': 0.9212222604005844, 'colsample_bytree': 0.8394707908708039}. Best is trial 13 with value: 158.93829698933737.\n",
      "[I 2024-07-15 02:44:15,781] Trial 14 finished with value: 516.5752820806429 and parameters: {'n_estimators': 59, 'max_depth': 5, 'learning_rate': 0.015226348881305043, 'subsample': 0.9270177094888528, 'colsample_bytree': 0.8572011704276695}. Best is trial 13 with value: 158.93829698933737.\n",
      "[I 2024-07-15 02:44:16,879] Trial 15 finished with value: 161.01759236159018 and parameters: {'n_estimators': 53, 'max_depth': 10, 'learning_rate': 0.10078750132818753, 'subsample': 0.6034459445567875, 'colsample_bytree': 0.8105002799630234}. Best is trial 13 with value: 158.93829698933737.\n",
      "[I 2024-07-15 02:44:18,433] Trial 16 finished with value: 154.33866182155887 and parameters: {'n_estimators': 141, 'max_depth': 7, 'learning_rate': 0.12827768259404423, 'subsample': 0.8815485066202502, 'colsample_bytree': 0.8786702723132097}. Best is trial 16 with value: 154.33866182155887.\n",
      "[I 2024-07-15 02:44:19,704] Trial 17 finished with value: 160.47836517399003 and parameters: {'n_estimators': 145, 'max_depth': 6, 'learning_rate': 0.13876649960233706, 'subsample': 0.8398046932081373, 'colsample_bytree': 0.7982572683057816}. Best is trial 16 with value: 154.33866182155887.\n",
      "[I 2024-07-15 02:44:20,917] Trial 18 finished with value: 163.55039640388512 and parameters: {'n_estimators': 200, 'max_depth': 4, 'learning_rate': 0.1292584473249704, 'subsample': 0.8827013714619013, 'colsample_bytree': 0.8894899675425455}. Best is trial 16 with value: 154.33866182155887.\n",
      "[I 2024-07-15 02:44:21,821] Trial 19 finished with value: 162.49281041183852 and parameters: {'n_estimators': 77, 'max_depth': 7, 'learning_rate': 0.052315291003344984, 'subsample': 0.8943860192419901, 'colsample_bytree': 0.8892459483620551}. Best is trial 16 with value: 154.33866182155887.\n",
      "[I 2024-07-15 02:44:23,705] Trial 20 finished with value: 158.43786996689332 and parameters: {'n_estimators': 146, 'max_depth': 8, 'learning_rate': 0.25065699143833875, 'subsample': 0.8593156133870815, 'colsample_bytree': 0.8847094979751793}. Best is trial 16 with value: 154.33866182155887.\n",
      "[I 2024-07-15 02:44:25,617] Trial 21 finished with value: 165.29892660717755 and parameters: {'n_estimators': 144, 'max_depth': 8, 'learning_rate': 0.2662180223016563, 'subsample': 0.8152824407234114, 'colsample_bytree': 0.8856369587562917}. Best is trial 16 with value: 154.33866182155887.\n",
      "[I 2024-07-15 02:44:27,440] Trial 22 finished with value: 160.4080369187768 and parameters: {'n_estimators': 165, 'max_depth': 7, 'learning_rate': 0.2456918592962365, 'subsample': 0.9085784671801408, 'colsample_bytree': 0.9478355049017729}. Best is trial 16 with value: 154.33866182155887.\n",
      "[I 2024-07-15 02:44:29,481] Trial 23 finished with value: 156.8330106380965 and parameters: {'n_estimators': 135, 'max_depth': 9, 'learning_rate': 0.13333541624387574, 'subsample': 0.8644413693897106, 'colsample_bytree': 0.8341977625840009}. Best is trial 16 with value: 154.33866182155887.\n",
      "[I 2024-07-15 02:44:31,833] Trial 24 finished with value: 157.5864165032027 and parameters: {'n_estimators': 136, 'max_depth': 9, 'learning_rate': 0.14152956740658468, 'subsample': 0.8613976110897097, 'colsample_bytree': 0.8783590931783927}. Best is trial 16 with value: 154.33866182155887.\n",
      "[I 2024-07-15 02:44:33,748] Trial 25 finished with value: 161.2440013621117 and parameters: {'n_estimators': 131, 'max_depth': 9, 'learning_rate': 0.13445072986998027, 'subsample': 0.8059476950879696, 'colsample_bytree': 0.786379428010802}. Best is trial 16 with value: 154.33866182155887.\n",
      "[I 2024-07-15 02:44:35,394] Trial 26 finished with value: 161.09269368842413 and parameters: {'n_estimators': 108, 'max_depth': 9, 'learning_rate': 0.18002142654724546, 'subsample': 0.8111086250174254, 'colsample_bytree': 0.8264710812310178}. Best is trial 16 with value: 154.33866182155887.\n",
      "[I 2024-07-15 02:44:36,838] Trial 27 finished with value: 154.7691660968231 and parameters: {'n_estimators': 134, 'max_depth': 7, 'learning_rate': 0.12313715909977088, 'subsample': 0.8753968240516298, 'colsample_bytree': 0.870200199980566}. Best is trial 16 with value: 154.33866182155887.\n",
      "[I 2024-07-15 02:44:37,984] Trial 28 finished with value: 157.33266248996588 and parameters: {'n_estimators': 157, 'max_depth': 5, 'learning_rate': 0.11829575731308667, 'subsample': 0.8728812890695021, 'colsample_bytree': 0.9075695275208698}. Best is trial 16 with value: 154.33866182155887.\n",
      "[I 2024-07-15 02:44:40,087] Trial 29 finished with value: 159.0944319942218 and parameters: {'n_estimators': 184, 'max_depth': 7, 'learning_rate': 0.07374362248519543, 'subsample': 0.7868853845823005, 'colsample_bytree': 0.864620460386047}. Best is trial 16 with value: 154.33866182155887.\n",
      "[I 2024-07-15 02:44:41,797] Trial 30 finished with value: 169.0644347132251 and parameters: {'n_estimators': 159, 'max_depth': 8, 'learning_rate': 0.082176174996817, 'subsample': 0.9092716397594313, 'colsample_bytree': 0.613168764361723}. Best is trial 16 with value: 154.33866182155887.\n",
      "[I 2024-07-15 02:44:43,051] Trial 31 finished with value: 160.41070170907133 and parameters: {'n_estimators': 157, 'max_depth': 5, 'learning_rate': 0.12801168831225845, 'subsample': 0.8779451771368657, 'colsample_bytree': 0.9080532912512295}. Best is trial 16 with value: 154.33866182155887.\n",
      "[I 2024-07-15 02:44:44,450] Trial 32 finished with value: 157.18304075397623 and parameters: {'n_estimators': 139, 'max_depth': 6, 'learning_rate': 0.11401693900157282, 'subsample': 0.867965781842407, 'colsample_bytree': 0.9076668851985998}. Best is trial 16 with value: 154.33866182155887.\n",
      "[I 2024-07-15 02:44:45,687] Trial 33 finished with value: 157.1982694641977 and parameters: {'n_estimators': 138, 'max_depth': 6, 'learning_rate': 0.15077726890648274, 'subsample': 0.8428693030616807, 'colsample_bytree': 0.8391880332324584}. Best is trial 16 with value: 154.33866182155887.\n",
      "[I 2024-07-15 02:44:46,943] Trial 34 finished with value: 160.7249529591055 and parameters: {'n_estimators': 121, 'max_depth': 6, 'learning_rate': 0.11835948889231968, 'subsample': 0.8280066005278814, 'colsample_bytree': 0.9483837598424938}. Best is trial 16 with value: 154.33866182155887.\n",
      "[I 2024-07-15 02:44:47,603] Trial 35 finished with value: 171.2442997070783 and parameters: {'n_estimators': 108, 'max_depth': 4, 'learning_rate': 0.05353174847084435, 'subsample': 0.858563653280191, 'colsample_bytree': 0.8668638809565873}. Best is trial 16 with value: 154.33866182155887.\n",
      "[I 2024-07-15 02:44:49,314] Trial 36 finished with value: 160.0264482718044 and parameters: {'n_estimators': 149, 'max_depth': 7, 'learning_rate': 0.17433402589593908, 'subsample': 0.9055298569664567, 'colsample_bytree': 0.9134755845794429}. Best is trial 16 with value: 154.33866182155887.\n",
      "[I 2024-07-15 02:44:51,053] Trial 37 finished with value: 158.7471866792775 and parameters: {'n_estimators': 131, 'max_depth': 8, 'learning_rate': 0.11230251589057398, 'subsample': 0.7474357662855309, 'colsample_bytree': 0.828184928857616}. Best is trial 16 with value: 154.33866182155887.\n",
      "[I 2024-07-15 02:44:52,279] Trial 38 finished with value: 175.45282938129262 and parameters: {'n_estimators': 165, 'max_depth': 6, 'learning_rate': 0.1889760529680845, 'subsample': 0.7985541962252829, 'colsample_bytree': 0.6472002768917139}. Best is trial 16 with value: 154.33866182155887.\n",
      "[I 2024-07-15 02:44:53,596] Trial 39 finished with value: 158.577412696881 and parameters: {'n_estimators': 116, 'max_depth': 7, 'learning_rate': 0.08344187812591813, 'subsample': 0.8283453249648801, 'colsample_bytree': 0.8121453694751344}. Best is trial 16 with value: 154.33866182155887.\n",
      "[I 2024-07-15 02:44:54,860] Trial 40 finished with value: 162.07761323311533 and parameters: {'n_estimators': 141, 'max_depth': 5, 'learning_rate': 0.15621608707756657, 'subsample': 0.7188240878419524, 'colsample_bytree': 0.8996184343561433}. Best is trial 16 with value: 154.33866182155887.\n",
      "[I 2024-07-15 02:44:56,122] Trial 41 finished with value: 160.52716867714958 and parameters: {'n_estimators': 138, 'max_depth': 6, 'learning_rate': 0.14922776316928982, 'subsample': 0.8523133046105937, 'colsample_bytree': 0.7752160317562732}. Best is trial 16 with value: 154.33866182155887.\n",
      "[I 2024-07-15 02:44:57,221] Trial 42 finished with value: 159.4133313628771 and parameters: {'n_estimators': 129, 'max_depth': 6, 'learning_rate': 0.15432842918675038, 'subsample': 0.8880957115807165, 'colsample_bytree': 0.8405868467257669}. Best is trial 16 with value: 154.33866182155887.\n",
      "[I 2024-07-15 02:44:58,195] Trial 43 finished with value: 169.19869107099805 and parameters: {'n_estimators': 151, 'max_depth': 4, 'learning_rate': 0.20795952465234024, 'subsample': 0.8705710908347362, 'colsample_bytree': 0.8688904584924034}. Best is trial 16 with value: 154.33866182155887.\n",
      "[I 2024-07-15 02:44:58,743] Trial 44 finished with value: 170.20418490650326 and parameters: {'n_estimators': 127, 'max_depth': 3, 'learning_rate': 0.16890727143064355, 'subsample': 0.8338963241104999, 'colsample_bytree': 0.7479063412360071}. Best is trial 16 with value: 154.33866182155887.\n",
      "[I 2024-07-15 02:45:00,453] Trial 45 finished with value: 162.01956785214952 and parameters: {'n_estimators': 137, 'max_depth': 8, 'learning_rate': 0.0900810301542593, 'subsample': 0.8987133999672573, 'colsample_bytree': 0.7126588984161141}. Best is trial 16 with value: 154.33866182155887.\n",
      "[I 2024-07-15 02:45:01,692] Trial 46 finished with value: 160.57446750269105 and parameters: {'n_estimators': 122, 'max_depth': 7, 'learning_rate': 0.12162336952191516, 'subsample': 0.9347314042510786, 'colsample_bytree': 0.848462470623369}. Best is trial 16 with value: 154.33866182155887.\n",
      "[I 2024-07-15 02:45:02,052] Trial 47 finished with value: 237.40311849963632 and parameters: {'n_estimators': 99, 'max_depth': 1, 'learning_rate': 0.14132229188364834, 'subsample': 0.9167600443368414, 'colsample_bytree': 0.8311750406036524}. Best is trial 16 with value: 154.33866182155887.\n",
      "[I 2024-07-15 02:45:02,916] Trial 48 finished with value: 159.41654351165582 and parameters: {'n_estimators': 113, 'max_depth': 5, 'learning_rate': 0.1072036350011916, 'subsample': 0.847635740566744, 'colsample_bytree': 0.9323878976315467}. Best is trial 16 with value: 154.33866182155887.\n",
      "[I 2024-07-15 02:45:04,502] Trial 49 finished with value: 160.12108313757773 and parameters: {'n_estimators': 175, 'max_depth': 6, 'learning_rate': 0.14737077340839771, 'subsample': 0.7847766033842919, 'colsample_bytree': 0.8000894989345125}. Best is trial 16 with value: 154.33866182155887.\n",
      "\u001b[1;35mBest Hyperparameters: {'n_estimators': 141, 'max_depth': 7, 'learning_rate': 0.12827768259404423, 'subsample': 0.8815485066202502, 'colsample_bytree': 0.8786702723132097}\u001b[0m\n",
      "\u001b[1;35mHp-Tuning step successfully completed.\u001b[0m\n",
      "\u001b[1;35mStep \u001b[0m\u001b[1;36mhp_tuning\u001b[1;35m has finished in \u001b[0m\u001b[1;36m1m10s\u001b[1;35m.\u001b[0m\n",
      "\u001b[1;35mStep \u001b[0m\u001b[1;36mhp_tuning\u001b[1;35m completed successfully.\u001b[0m\n",
      "\u001b[1;35mStep \u001b[0m\u001b[1;36mmodel_trainer\u001b[1;35m has started.\u001b[0m\n",
      "\u001b[1;35mStep \u001b[0m\u001b[1;36mmodel_trainer\u001b[1;35m has finished in \u001b[0m\u001b[1;36m12.889s\u001b[1;35m.\u001b[0m\n",
      "\u001b[1;35mStep \u001b[0m\u001b[1;36mmodel_trainer\u001b[1;35m completed successfully.\u001b[0m\n",
      "\u001b[1;35mStep \u001b[0m\u001b[1;36mevaluate_model\u001b[1;35m has started.\u001b[0m\n",
      "\u001b[1;35mInitializing wandb with entity None, project name: None, run_name: training_pipeline-2024_07_15-00_43_54_381764_evaluate_model.\u001b[0m\n"
     ]
    },
    {
     "data": {
      "text/html": [
       "wandb version 0.17.4 is available!  To upgrade, please run:\n",
       " $ pip install wandb --upgrade"
      ],
      "text/plain": [
       "<IPython.core.display.HTML object>"
      ]
     },
     "metadata": {},
     "output_type": "display_data"
    },
    {
     "data": {
      "text/html": [
       "Tracking run with wandb version 0.15.10"
      ],
      "text/plain": [
       "<IPython.core.display.HTML object>"
      ]
     },
     "metadata": {},
     "output_type": "display_data"
    },
    {
     "data": {
      "text/html": [
       "Run data is saved locally in <code>c:\\Users\\User\\VSCProjects\\EAI_SS24\\EAI-SS24-finalProject\\wandb\\run-20240715_024518-zpi8bbni</code>"
      ],
      "text/plain": [
       "<IPython.core.display.HTML object>"
      ]
     },
     "metadata": {},
     "output_type": "display_data"
    },
    {
     "data": {
      "text/html": [
       "Syncing run <strong><a href='https://wandb.ai/ss24_eai/EAI-SS24-finalProject/runs/zpi8bbni' target=\"_blank\">training_pipeline-2024_07_15-00_43_54_381764_evaluate_model</a></strong> to <a href='https://wandb.ai/ss24_eai/EAI-SS24-finalProject' target=\"_blank\">Weights & Biases</a> (<a href='https://wandb.me/run' target=\"_blank\">docs</a>)<br/>"
      ],
      "text/plain": [
       "<IPython.core.display.HTML object>"
      ]
     },
     "metadata": {},
     "output_type": "display_data"
    },
    {
     "data": {
      "text/html": [
       " View project at <a href='https://wandb.ai/ss24_eai/EAI-SS24-finalProject' target=\"_blank\">https://wandb.ai/ss24_eai/EAI-SS24-finalProject</a>"
      ],
      "text/plain": [
       "<IPython.core.display.HTML object>"
      ]
     },
     "metadata": {},
     "output_type": "display_data"
    },
    {
     "data": {
      "text/html": [
       " View run at <a href='https://wandb.ai/ss24_eai/EAI-SS24-finalProject/runs/zpi8bbni' target=\"_blank\">https://wandb.ai/ss24_eai/EAI-SS24-finalProject/runs/zpi8bbni</a>"
      ],
      "text/plain": [
       "<IPython.core.display.HTML object>"
      ]
     },
     "metadata": {},
     "output_type": "display_data"
    },
    {
     "name": "stdout",
     "output_type": "stream",
     "text": [
      "\u001b[1;35mStarting evaluate_model step...\u001b[0m\n"
     ]
    },
    {
     "data": {
      "text/html": [
       "Finishing last run (ID:zpi8bbni) before initializing another..."
      ],
      "text/plain": [
       "<IPython.core.display.HTML object>"
      ]
     },
     "metadata": {},
     "output_type": "display_data"
    },
    {
     "data": {
      "text/html": [
       "Waiting for W&B process to finish... <strong style=\"color:green\">(success).</strong>"
      ],
      "text/plain": [
       "<IPython.core.display.HTML object>"
      ]
     },
     "metadata": {},
     "output_type": "display_data"
    },
    {
     "data": {
      "text/html": [
       " View run <strong style=\"color:#cdcd00\">training_pipeline-2024_07_15-00_43_54_381764_evaluate_model</strong> at: <a href='https://wandb.ai/ss24_eai/EAI-SS24-finalProject/runs/zpi8bbni' target=\"_blank\">https://wandb.ai/ss24_eai/EAI-SS24-finalProject/runs/zpi8bbni</a><br/>Synced 5 W&B file(s), 0 media file(s), 0 artifact file(s) and 0 other file(s)"
      ],
      "text/plain": [
       "<IPython.core.display.HTML object>"
      ]
     },
     "metadata": {},
     "output_type": "display_data"
    },
    {
     "data": {
      "text/html": [
       "Find logs at: <code>.\\wandb\\run-20240715_024518-zpi8bbni\\logs</code>"
      ],
      "text/plain": [
       "<IPython.core.display.HTML object>"
      ]
     },
     "metadata": {},
     "output_type": "display_data"
    },
    {
     "data": {
      "text/html": [
       "Successfully finished last run (ID:zpi8bbni). Initializing new run:<br/>"
      ],
      "text/plain": [
       "<IPython.core.display.HTML object>"
      ]
     },
     "metadata": {},
     "output_type": "display_data"
    },
    {
     "data": {
      "application/vnd.jupyter.widget-view+json": {
       "model_id": "f98f5a7a60fe4578b2c2fd0d7e1484c5",
       "version_major": 2,
       "version_minor": 0
      },
      "text/plain": [
       "VBox(children=(Label(value='Waiting for wandb.init()...\\r'), FloatProgress(value=0.011277777777932999, max=1.0…"
      ]
     },
     "metadata": {},
     "output_type": "display_data"
    },
    {
     "data": {
      "text/html": [
       "wandb version 0.17.4 is available!  To upgrade, please run:\n",
       " $ pip install wandb --upgrade"
      ],
      "text/plain": [
       "<IPython.core.display.HTML object>"
      ]
     },
     "metadata": {},
     "output_type": "display_data"
    },
    {
     "data": {
      "text/html": [
       "Tracking run with wandb version 0.15.10"
      ],
      "text/plain": [
       "<IPython.core.display.HTML object>"
      ]
     },
     "metadata": {},
     "output_type": "display_data"
    },
    {
     "data": {
      "text/html": [
       "Run data is saved locally in <code>c:\\Users\\User\\VSCProjects\\EAI_SS24\\EAI-SS24-finalProject\\wandb\\run-20240715_024519-yluedkav</code>"
      ],
      "text/plain": [
       "<IPython.core.display.HTML object>"
      ]
     },
     "metadata": {},
     "output_type": "display_data"
    },
    {
     "data": {
      "text/html": [
       "Syncing run <strong><a href='https://wandb.ai/ss24_eai/forecasting_model_multivariant/runs/yluedkav' target=\"_blank\">m_xgboost_5_lags_50_trials</a></strong> to <a href='https://wandb.ai/ss24_eai/forecasting_model_multivariant' target=\"_blank\">Weights & Biases</a> (<a href='https://wandb.me/run' target=\"_blank\">docs</a>)<br/>"
      ],
      "text/plain": [
       "<IPython.core.display.HTML object>"
      ]
     },
     "metadata": {},
     "output_type": "display_data"
    },
    {
     "data": {
      "text/html": [
       " View project at <a href='https://wandb.ai/ss24_eai/forecasting_model_multivariant' target=\"_blank\">https://wandb.ai/ss24_eai/forecasting_model_multivariant</a>"
      ],
      "text/plain": [
       "<IPython.core.display.HTML object>"
      ]
     },
     "metadata": {},
     "output_type": "display_data"
    },
    {
     "data": {
      "text/html": [
       " View run at <a href='https://wandb.ai/ss24_eai/forecasting_model_multivariant/runs/yluedkav' target=\"_blank\">https://wandb.ai/ss24_eai/forecasting_model_multivariant/runs/yluedkav</a>"
      ],
      "text/plain": [
       "<IPython.core.display.HTML object>"
      ]
     },
     "metadata": {},
     "output_type": "display_data"
    },
    {
     "name": "stdout",
     "output_type": "stream",
     "text": [
      "pipeline_version:  body=ArtifactVersionResponseBody(created=datetime.datetime(2024, 7, 15, 0, 43, 42, 348431), updated=datetime.datetime(2024, 7, 15, 0, 43, 42, 348431), user=UserResponse(body=UserResponseBody(created=datetime.datetime(2024, 7, 2, 9, 6, 52, 758420), updated=datetime.datetime(2024, 7, 2, 9, 6, 52, 758420), active=True, activation_token=None, full_name='', email_opted_in=None, is_service_account=False, is_admin=True), metadata=None, resources=None, id=UUID('d3f4181c-256e-4d36-b605-b9d274f69d32'), permission_denied=False, name='default'), artifact=ArtifactResponse(body=ArtifactResponseBody(created=datetime.datetime(2024, 7, 8, 21, 7, 20, 673213), updated=datetime.datetime(2024, 7, 8, 21, 7, 20, 673213), tags=[], latest_version_name='46', latest_version_id=UUID('4ee94a19-4ce9-4144-8654-200a69c17e49')), metadata=None, resources=None, id=UUID('262ca2d7-8f5e-43bb-9a9b-7b11469b20a5'), permission_denied=False, name='pipeline'), version='46', uri='C:/Users/User/AppData/Roaming/zenml/local_stores/84259924-609e-4342-a003-12b084f5e50b/feature_preprocessor/pipeline/15e4872a-4588-4e4c-9eea-41f655dcee4a/1f4157c7', type=<ArtifactType.MODEL: 'ModelArtifact'>, materializer=Source(module='zenml.integrations.sklearn.materializers.sklearn_materializer', attribute='SklearnMaterializer', type=<SourceType.INTERNAL: 'internal'>), data_type=Source(module='sklearn.pipeline', attribute='Pipeline', type=<SourceType.DISTRIBUTION_PACKAGE: 'distribution_package'>, package_name='scikit-learn', version='1.3.0'), tags=[], producer_pipeline_run_id=UUID('23e90115-83c4-4412-b3b8-a62477b85d34')) metadata=ArtifactVersionResponseMetadata(workspace=WorkspaceResponse(body=WorkspaceResponseBody(created=datetime.datetime(2024, 7, 2, 9, 6, 52, 476503), updated=datetime.datetime(2024, 7, 2, 9, 6, 52, 476503)), metadata=None, resources=None, id=UUID('436824c1-514b-466c-88a2-70a2e21df2e0'), permission_denied=False, name='default'), artifact_store_id=UUID('84259924-609e-4342-a003-12b084f5e50b'), producer_step_run_id=UUID('15e4872a-4588-4e4c-9eea-41f655dcee4a'), visualizations=[], run_metadata={'storage_size': RunMetadataResponse(body=RunMetadataResponseBody(created=datetime.datetime(2024, 7, 15, 0, 43, 42, 381700), updated=datetime.datetime(2024, 7, 15, 0, 43, 42, 381700), user=UserResponse(body=UserResponseBody(created=datetime.datetime(2024, 7, 2, 9, 6, 52, 758420), updated=datetime.datetime(2024, 7, 2, 9, 6, 52, 758420), active=True, activation_token=None, full_name='', email_opted_in=None, is_service_account=False, is_admin=True), metadata=None, resources=None, id=UUID('d3f4181c-256e-4d36-b605-b9d274f69d32'), permission_denied=False, name='default'), key='storage_size', value=6772, type=<MetadataTypeEnum.STORAGE_SIZE: 'StorageSize'>), metadata=None, resources=None, id=UUID('3d9a2493-821f-41ad-81be-b715f6e55286'), permission_denied=False)}) resources=None id=UUID('4ee94a19-4ce9-4144-8654-200a69c17e49') permission_denied=False\n",
      "<class 'zenml.models.v2.core.artifact_version.ArtifactVersionResponse'>\n",
      "\u001b[34m\u001b[1mwandb\u001b[0m: Adding directory to artifact (C:\\Users\\User\\AppData\\Roaming\\zenml\\local_stores\\84259924-609e-4342-a003-12b084f5e50b\\feature_preprocessor\\pipeline\\15e4872a-4588-4e4c-9eea-41f655dcee4a\\1f4157c7)... Done. 0.0s\n",
      "\u001b[1;35mDeployment decision: True\u001b[0m\n",
      "\u001b[1;35mFinished evaluate_model step.\u001b[0m\n"
     ]
    },
    {
     "data": {
      "text/html": [
       "Waiting for W&B process to finish... <strong style=\"color:green\">(success).</strong>"
      ],
      "text/plain": [
       "<IPython.core.display.HTML object>"
      ]
     },
     "metadata": {},
     "output_type": "display_data"
    },
    {
     "data": {
      "text/html": [
       "<style>\n",
       "    table.wandb td:nth-child(1) { padding: 0 10px; text-align: left ; width: auto;} td:nth-child(2) {text-align: left ; width: 100%}\n",
       "    .wandb-row { display: flex; flex-direction: row; flex-wrap: wrap; justify-content: flex-start; width: 100% }\n",
       "    .wandb-col { display: flex; flex-direction: column; flex-basis: 100%; flex: 1; padding: 10px; }\n",
       "    </style>\n",
       "<div class=\"wandb-row\"><div class=\"wandb-col\"><h3>Run history:</h3><br/><table class=\"wandb\"><tr><td>colsample_bytree</td><td>▁</td></tr><tr><td>deployment_decision</td><td>▁</td></tr><tr><td>in_sample_rmse</td><td>▁</td></tr><tr><td>lags</td><td>▁</td></tr><tr><td>learning_rate</td><td>▁</td></tr><tr><td>mae</td><td>▁</td></tr><tr><td>max_depth</td><td>▁</td></tr><tr><td>mse</td><td>▁</td></tr><tr><td>n_estimators</td><td>▁</td></tr><tr><td>r2</td><td>▁</td></tr><tr><td>rmse</td><td>▁</td></tr><tr><td>subsample</td><td>▁</td></tr><tr><td>trials</td><td>▁</td></tr></table><br/></div><div class=\"wandb-col\"><h3>Run summary:</h3><br/><table class=\"wandb\"><tr><td>colsample_bytree</td><td>0.87867</td></tr><tr><td>deployment_decision</td><td>True</td></tr><tr><td>in_sample_rmse</td><td>50.34931</td></tr><tr><td>lags</td><td>5</td></tr><tr><td>learning_rate</td><td>0.12828</td></tr><tr><td>mae</td><td>75.81124</td></tr><tr><td>max_depth</td><td>7</td></tr><tr><td>model_type</td><td>xgboost</td></tr><tr><td>model_variant</td><td>multi</td></tr><tr><td>mse</td><td>21307.97641</td></tr><tr><td>n_estimators</td><td>141</td></tr><tr><td>r2</td><td>0.97279</td></tr><tr><td>rmse</td><td>145.97252</td></tr><tr><td>subsample</td><td>0.88155</td></tr><tr><td>trials</td><td>50</td></tr></table><br/></div></div>"
      ],
      "text/plain": [
       "<IPython.core.display.HTML object>"
      ]
     },
     "metadata": {},
     "output_type": "display_data"
    },
    {
     "data": {
      "text/html": [
       " View run <strong style=\"color:#cdcd00\">m_xgboost_5_lags_50_trials</strong> at: <a href='https://wandb.ai/ss24_eai/forecasting_model_multivariant/runs/yluedkav' target=\"_blank\">https://wandb.ai/ss24_eai/forecasting_model_multivariant/runs/yluedkav</a><br/>Synced 5 W&B file(s), 0 media file(s), 3 artifact file(s) and 0 other file(s)"
      ],
      "text/plain": [
       "<IPython.core.display.HTML object>"
      ]
     },
     "metadata": {},
     "output_type": "display_data"
    },
    {
     "data": {
      "text/html": [
       "Find logs at: <code>.\\wandb\\run-20240715_024519-yluedkav\\logs</code>"
      ],
      "text/plain": [
       "<IPython.core.display.HTML object>"
      ]
     },
     "metadata": {},
     "output_type": "display_data"
    },
    {
     "name": "stdout",
     "output_type": "stream",
     "text": [
      "\u001b[1;35mStep \u001b[0m\u001b[1;36mevaluate_model\u001b[1;35m has finished in \u001b[0m\u001b[1;36m20.052s\u001b[1;35m.\u001b[0m\n",
      "\u001b[1;35mStep \u001b[0m\u001b[1;36mevaluate_model\u001b[1;35m completed successfully.\u001b[0m\n",
      "\u001b[1;35mPipeline run has finished in \u001b[0m\u001b[1;36m1m43s\u001b[1;35m.\u001b[0m\n",
      "\u001b[1;35mTraining pipeline completed.\u001b[0m\n"
     ]
    }
   ],
   "source": [
    "# Set the model variant and type\n",
    "m_variant = \"multi\"\n",
    "#m_type = \"xgboost\"\n",
    "m_type = \"random_forest\"\n",
    "lags = 5\n",
    "tials = 50\n",
    "\n",
    "run_pipelines(model_variant=m_variant, model_type=m_type, lags=lags, trials=tials)"
   ]
  },
  {
   "cell_type": "markdown",
   "metadata": {},
   "source": [
    "## Dashboard"
   ]
  },
  {
   "cell_type": "markdown",
   "metadata": {},
   "source": [
    "For the experimentlal tracking we used weights & biases  \n",
    "\n",
    "https://wandb.ai/ss24_eai "
   ]
  },
  {
   "cell_type": "code",
   "execution_count": 10,
   "metadata": {},
   "outputs": [],
   "source": [
    "# Now we are going to visualize the pipeline runs in wandb\n",
    "#project_name = \"forecasting_model_mutivariant\"\n",
    "\n",
    "#!wandb agent $project_name/forecasting_model_multivariant --count 1 --project $project_name --queue forecasting_model_multivariant --entity $project_name --start-time now --duration 1h\n",
    "#!wandb agent --help\n",
    "#!wandb agent -p forecasting_model_multivariant abc123\n",
    "\n"
   ]
  },
  {
   "cell_type": "code",
   "execution_count": 11,
   "metadata": {},
   "outputs": [],
   "source": [
    "# from zenml.client import Client\n",
    "# pipeline_run = Client().get_pipeline(\"training_pipeline\").last_run\n",
    "# step = pipeline_run.steps[\"evaluate_model\"]\n",
    "# experiment_tracker_url = step.run_metadata[\"experiment_tracker_url\"].value\n",
    "# experiment_tracker_url # jedes mal wenn code space neu geöffnet wird ändert sich dieser"
   ]
  },
  {
   "cell_type": "code",
   "execution_count": 12,
   "metadata": {},
   "outputs": [],
   "source": [
    "# from IPython.display import display, HTML\n",
    "# from zenml.client import Client\n",
    "\n",
    "# client = Client()\n",
    "# report = client.get_artifact_version(\"training_pipeline\").load()\n",
    "\n",
    "# display(HTML(report))"
   ]
  },
  {
   "cell_type": "markdown",
   "metadata": {},
   "source": [
    "## Nun erst die inference = Using the best model????"
   ]
  },
  {
   "cell_type": "code",
   "execution_count": 13,
   "metadata": {},
   "outputs": [],
   "source": [
    "from run import run_inference_pipeline"
   ]
  },
  {
   "cell_type": "code",
   "execution_count": 14,
   "metadata": {},
   "outputs": [],
   "source": [
    "#run_inference_pipeline(model_type=m_type, lags=lags)"
   ]
  }
 ],
 "metadata": {
  "kernelspec": {
   "display_name": "Python 3",
   "language": "python",
   "name": "python3"
  },
  "language_info": {
   "codemirror_mode": {
    "name": "ipython",
    "version": 3
   },
   "file_extension": ".py",
   "mimetype": "text/x-python",
   "name": "python",
   "nbconvert_exporter": "python",
   "pygments_lexer": "ipython3",
   "version": "3.11.3"
  }
 },
 "nbformat": 4,
 "nbformat_minor": 2
}
