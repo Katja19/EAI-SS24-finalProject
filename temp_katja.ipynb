{
 "cells": [
  {
   "cell_type": "code",
   "execution_count": 54,
   "metadata": {},
   "outputs": [],
   "source": [
    "import datetime\n",
    "import pandas as pd"
   ]
  },
  {
   "cell_type": "code",
   "execution_count": 55,
   "metadata": {},
   "outputs": [
    {
     "name": "stdout",
     "output_type": "stream",
     "text": [
      "2021-07-10 16:00:00\n",
      "2021-07-10 17:00:00\n",
      "2021-07-11 16:00:00\n"
     ]
    }
   ],
   "source": [
    "\n",
    "latest_datetime_wue_ex = \"2021-07-10T16:00:00\"\n",
    "# change the string to datetime object\n",
    "latest_datetime_wue_ex = datetime.datetime.strptime(latest_datetime_wue_ex, '%Y-%m-%dT%H:%M:%S')\n",
    "print(latest_datetime_wue_ex)\n",
    "\n",
    "first_date = latest_datetime_wue_ex + datetime.timedelta(hours=1)\n",
    "last_date = latest_datetime_wue_ex + datetime.timedelta(hours=24)\n",
    "print(first_date)\n",
    "print(last_date)\n"
   ]
  },
  {
   "cell_type": "code",
   "execution_count": 56,
   "metadata": {},
   "outputs": [],
   "source": [
    "# # get just the date\n",
    "# first_date_day = first_date.date()\n",
    "# last_date_day = last_date.date()\n",
    "# print(first_date_day)\n",
    "# print(last_date_day)\n",
    "# # to string\n",
    "# first_date_day_str = first_date_day.strftime('%Y-%m-%d')\n",
    "# last_date_day_str = last_date_day.strftime('%Y-%m-%d')\n",
    "# print(\"string\")\n",
    "# print(first_date_day_str)\n",
    "# print(last_date_day_str)"
   ]
  },
  {
   "cell_type": "code",
   "execution_count": 57,
   "metadata": {},
   "outputs": [],
   "source": [
    "import requests\n",
    "import io"
   ]
  },
  {
   "cell_type": "code",
   "execution_count": 58,
   "metadata": {},
   "outputs": [
    {
     "name": "stdout",
     "output_type": "stream",
     "text": [
      "(48, 24)\n",
      "2021-07-10T00:00:00\n",
      "2021-07-11T23:00:00\n"
     ]
    },
    {
     "data": {
      "text/html": [
       "<div>\n",
       "<style scoped>\n",
       "    .dataframe tbody tr th:only-of-type {\n",
       "        vertical-align: middle;\n",
       "    }\n",
       "\n",
       "    .dataframe tbody tr th {\n",
       "        vertical-align: top;\n",
       "    }\n",
       "\n",
       "    .dataframe thead th {\n",
       "        text-align: right;\n",
       "    }\n",
       "</style>\n",
       "<table border=\"1\" class=\"dataframe\">\n",
       "  <thead>\n",
       "    <tr style=\"text-align: right;\">\n",
       "      <th></th>\n",
       "      <th>name</th>\n",
       "      <th>datetime</th>\n",
       "      <th>temp</th>\n",
       "      <th>feelslike</th>\n",
       "      <th>dew</th>\n",
       "      <th>humidity</th>\n",
       "      <th>precip</th>\n",
       "      <th>precipprob</th>\n",
       "      <th>preciptype</th>\n",
       "      <th>snow</th>\n",
       "      <th>...</th>\n",
       "      <th>sealevelpressure</th>\n",
       "      <th>cloudcover</th>\n",
       "      <th>visibility</th>\n",
       "      <th>solarradiation</th>\n",
       "      <th>solarenergy</th>\n",
       "      <th>uvindex</th>\n",
       "      <th>severerisk</th>\n",
       "      <th>conditions</th>\n",
       "      <th>icon</th>\n",
       "      <th>stations</th>\n",
       "    </tr>\n",
       "  </thead>\n",
       "  <tbody>\n",
       "    <tr>\n",
       "      <th>0</th>\n",
       "      <td>WÃ¼rzburg, Bayern, Deutschland</td>\n",
       "      <td>2021-07-10T00:00:00</td>\n",
       "      <td>14.8</td>\n",
       "      <td>14.8</td>\n",
       "      <td>14.3</td>\n",
       "      <td>96.80</td>\n",
       "      <td>0.0</td>\n",
       "      <td>0</td>\n",
       "      <td>NaN</td>\n",
       "      <td>0</td>\n",
       "      <td>...</td>\n",
       "      <td>1022.0</td>\n",
       "      <td>52.0</td>\n",
       "      <td>17.0</td>\n",
       "      <td>0</td>\n",
       "      <td>0.0</td>\n",
       "      <td>0</td>\n",
       "      <td>NaN</td>\n",
       "      <td>Partially cloudy</td>\n",
       "      <td>partly-cloudy-night</td>\n",
       "      <td>00191,05705,05149,06336,03257,02600</td>\n",
       "    </tr>\n",
       "    <tr>\n",
       "      <th>1</th>\n",
       "      <td>WÃ¼rzburg, Bayern, Deutschland</td>\n",
       "      <td>2021-07-10T01:00:00</td>\n",
       "      <td>13.8</td>\n",
       "      <td>13.8</td>\n",
       "      <td>13.2</td>\n",
       "      <td>95.71</td>\n",
       "      <td>0.0</td>\n",
       "      <td>0</td>\n",
       "      <td>NaN</td>\n",
       "      <td>0</td>\n",
       "      <td>...</td>\n",
       "      <td>1022.0</td>\n",
       "      <td>54.3</td>\n",
       "      <td>28.0</td>\n",
       "      <td>0</td>\n",
       "      <td>0.0</td>\n",
       "      <td>0</td>\n",
       "      <td>NaN</td>\n",
       "      <td>Partially cloudy</td>\n",
       "      <td>partly-cloudy-night</td>\n",
       "      <td>00191,05705,05149,06336,03257,02600</td>\n",
       "    </tr>\n",
       "    <tr>\n",
       "      <th>2</th>\n",
       "      <td>WÃ¼rzburg, Bayern, Deutschland</td>\n",
       "      <td>2021-07-10T02:00:00</td>\n",
       "      <td>13.5</td>\n",
       "      <td>13.5</td>\n",
       "      <td>13.3</td>\n",
       "      <td>98.64</td>\n",
       "      <td>0.0</td>\n",
       "      <td>0</td>\n",
       "      <td>NaN</td>\n",
       "      <td>0</td>\n",
       "      <td>...</td>\n",
       "      <td>1022.0</td>\n",
       "      <td>13.0</td>\n",
       "      <td>0.0</td>\n",
       "      <td>1</td>\n",
       "      <td>0.0</td>\n",
       "      <td>0</td>\n",
       "      <td>NaN</td>\n",
       "      <td>Clear</td>\n",
       "      <td>clear-night</td>\n",
       "      <td>00191,D4939,05705,05149,06336,03257,02600</td>\n",
       "    </tr>\n",
       "    <tr>\n",
       "      <th>3</th>\n",
       "      <td>WÃ¼rzburg, Bayern, Deutschland</td>\n",
       "      <td>2021-07-10T03:00:00</td>\n",
       "      <td>12.8</td>\n",
       "      <td>12.8</td>\n",
       "      <td>12.6</td>\n",
       "      <td>98.73</td>\n",
       "      <td>0.0</td>\n",
       "      <td>0</td>\n",
       "      <td>NaN</td>\n",
       "      <td>0</td>\n",
       "      <td>...</td>\n",
       "      <td>1021.3</td>\n",
       "      <td>11.5</td>\n",
       "      <td>0.0</td>\n",
       "      <td>1</td>\n",
       "      <td>0.0</td>\n",
       "      <td>0</td>\n",
       "      <td>NaN</td>\n",
       "      <td>Clear</td>\n",
       "      <td>clear-night</td>\n",
       "      <td>00191,D4939,05705,05149,06336,03257,02600</td>\n",
       "    </tr>\n",
       "    <tr>\n",
       "      <th>4</th>\n",
       "      <td>WÃ¼rzburg, Bayern, Deutschland</td>\n",
       "      <td>2021-07-10T04:00:00</td>\n",
       "      <td>12.5</td>\n",
       "      <td>12.5</td>\n",
       "      <td>12.3</td>\n",
       "      <td>98.75</td>\n",
       "      <td>0.0</td>\n",
       "      <td>0</td>\n",
       "      <td>NaN</td>\n",
       "      <td>0</td>\n",
       "      <td>...</td>\n",
       "      <td>1021.0</td>\n",
       "      <td>47.8</td>\n",
       "      <td>2.0</td>\n",
       "      <td>1</td>\n",
       "      <td>0.0</td>\n",
       "      <td>0</td>\n",
       "      <td>NaN</td>\n",
       "      <td>Partially cloudy</td>\n",
       "      <td>partly-cloudy-night</td>\n",
       "      <td>00191,D4939,05705,05149,06336,03257,02600</td>\n",
       "    </tr>\n",
       "  </tbody>\n",
       "</table>\n",
       "<p>5 rows × 24 columns</p>\n",
       "</div>"
      ],
      "text/plain": [
       "                             name             datetime  temp  feelslike   dew  \\\n",
       "0  WÃ¼rzburg, Bayern, Deutschland  2021-07-10T00:00:00  14.8       14.8  14.3   \n",
       "1  WÃ¼rzburg, Bayern, Deutschland  2021-07-10T01:00:00  13.8       13.8  13.2   \n",
       "2  WÃ¼rzburg, Bayern, Deutschland  2021-07-10T02:00:00  13.5       13.5  13.3   \n",
       "3  WÃ¼rzburg, Bayern, Deutschland  2021-07-10T03:00:00  12.8       12.8  12.6   \n",
       "4  WÃ¼rzburg, Bayern, Deutschland  2021-07-10T04:00:00  12.5       12.5  12.3   \n",
       "\n",
       "   humidity  precip  precipprob preciptype  snow  ...  sealevelpressure  \\\n",
       "0     96.80     0.0           0        NaN     0  ...            1022.0   \n",
       "1     95.71     0.0           0        NaN     0  ...            1022.0   \n",
       "2     98.64     0.0           0        NaN     0  ...            1022.0   \n",
       "3     98.73     0.0           0        NaN     0  ...            1021.3   \n",
       "4     98.75     0.0           0        NaN     0  ...            1021.0   \n",
       "\n",
       "   cloudcover  visibility  solarradiation  solarenergy  uvindex  severerisk  \\\n",
       "0        52.0        17.0               0          0.0        0         NaN   \n",
       "1        54.3        28.0               0          0.0        0         NaN   \n",
       "2        13.0         0.0               1          0.0        0         NaN   \n",
       "3        11.5         0.0               1          0.0        0         NaN   \n",
       "4        47.8         2.0               1          0.0        0         NaN   \n",
       "\n",
       "         conditions                 icon  \\\n",
       "0  Partially cloudy  partly-cloudy-night   \n",
       "1  Partially cloudy  partly-cloudy-night   \n",
       "2             Clear          clear-night   \n",
       "3             Clear          clear-night   \n",
       "4  Partially cloudy  partly-cloudy-night   \n",
       "\n",
       "                                    stations  \n",
       "0        00191,05705,05149,06336,03257,02600  \n",
       "1        00191,05705,05149,06336,03257,02600  \n",
       "2  00191,D4939,05705,05149,06336,03257,02600  \n",
       "3  00191,D4939,05705,05149,06336,03257,02600  \n",
       "4  00191,D4939,05705,05149,06336,03257,02600  \n",
       "\n",
       "[5 rows x 24 columns]"
      ]
     },
     "execution_count": 58,
     "metadata": {},
     "output_type": "execute_result"
    }
   ],
   "source": [
    "# 1. Set up the API key and the base URL\n",
    "api_key = 'QPX3CJ476JEHWLUYT3TC559U8'\n",
    "    \n",
    "# Define the endpoint URL and parameters\n",
    "base_url = 'https://weather.visualcrossing.com/VisualCrossingWebServices/rest/services/timeline/w%C3%BCrzburg'\n",
    "params = {\n",
    "    'unitGroup': 'metric',  # Use 'us' for Fahrenheit, 'metric' for Celsius\n",
    "    'include': 'hours',  # Include hourly weather data\n",
    "    'key': api_key,\n",
    "    'contentType': 'csv'  # Request CSV format\n",
    "}\n",
    "# Construct the full API URL\n",
    "x = first_date.date().strftime('%Y-%m-%d')\n",
    "y = last_date.date().strftime('%Y-%m-%d')\n",
    "url = f\"{base_url}/{x}/{y}\"\n",
    "\n",
    "# Send the GET request\n",
    "response = requests.get(url, params=params)\n",
    "\n",
    "if response.status_code == 200:\n",
    "    \n",
    "    # Read the response as a DataFrame\n",
    "    weather_data_24h = pd.read_csv(io.StringIO(response.text))\n",
    "    \n",
    "    # dropping the columns that we don't need later\n",
    "    \n",
    "else:\n",
    "    raise Exception(f\"Error in get_weather_forecast_24h: {response.text}\")\n",
    "\n",
    "# convert the csv data to a pandas dataframe\n",
    "weather_data_24h_df = pd.DataFrame(weather_data_24h)\n",
    "\n",
    "print(weather_data_24h.shape)\n",
    "# print min und max datetime\n",
    "print(weather_data_24h['datetime'].min())\n",
    "print(weather_data_24h['datetime'].max())\n",
    "weather_data_24h.head()\n",
    "\n"
   ]
  },
  {
   "cell_type": "code",
   "execution_count": 59,
   "metadata": {},
   "outputs": [
    {
     "name": "stdout",
     "output_type": "stream",
     "text": [
      "2021-07-10 17:00:00\n",
      "2021-07-11 16:00:00\n",
      "(24, 24)\n"
     ]
    }
   ],
   "source": [
    "#print(first_date) 2021-07-10 17:00:00\n",
    "#print(last_date) 2021-07-11 16:00:00\n",
    "# beides inklusive\n",
    "\n",
    "# change first_date and last_date to string and add a T between date and time\n",
    "first_date_str = first_date.strftime('%Y-%m-%d') + 'T' + first_date.strftime('%H:%M:%S')\n",
    "last_date_str= last_date.strftime('%Y-%m-%dT%H:%M:%S')\n",
    "print(first_date)\n",
    "print(last_date)\n",
    "\n",
    "# filter the data to get the data from the first_date to the last_date\n",
    "weather_data_24h_df = weather_data_24h_df[(weather_data_24h_df['datetime'] >= first_date_str) & (weather_data_24h_df['datetime'] <= last_date_str)]\n",
    "\n",
    "print(weather_data_24h_df.shape)\n"
   ]
  },
  {
   "cell_type": "markdown",
   "metadata": {},
   "source": [
    "# Plot pedestrian_count"
   ]
  },
  {
   "cell_type": "code",
   "execution_count": 81,
   "metadata": {},
   "outputs": [],
   "source": [
    "import plotly.express as px"
   ]
  },
  {
   "cell_type": "code",
   "execution_count": 82,
   "metadata": {},
   "outputs": [],
   "source": [
    "# get the data for the plot from the database\n",
    "\n",
    "import sqlite3\n",
    "\n",
    "# connect to the database\n",
    "conn = sqlite3.connect('data.db')\n",
    "\n",
    "# get the data from the database\n",
    "wue_data = pd.read_sql('SELECT location_id, pedestrians_count, timestamp FROM data ORDER BY timestamp', conn)\n",
    "wue_data['date'] = wue_data['timestamp'].str.extract(r'(\\d{4}-\\d{2}-\\d{2})')\n",
    "wue_data['datetime'] = wue_data['timestamp'].str.split('+').str[0]\n",
    "\n",
    "conn.close()"
   ]
  },
  {
   "cell_type": "code",
   "execution_count": 83,
   "metadata": {},
   "outputs": [
    {
     "data": {
      "text/html": [
       "<div>\n",
       "<style scoped>\n",
       "    .dataframe tbody tr th:only-of-type {\n",
       "        vertical-align: middle;\n",
       "    }\n",
       "\n",
       "    .dataframe tbody tr th {\n",
       "        vertical-align: top;\n",
       "    }\n",
       "\n",
       "    .dataframe thead th {\n",
       "        text-align: right;\n",
       "    }\n",
       "</style>\n",
       "<table border=\"1\" class=\"dataframe\">\n",
       "  <thead>\n",
       "    <tr style=\"text-align: right;\">\n",
       "      <th></th>\n",
       "      <th>location_id</th>\n",
       "      <th>pedestrians_count</th>\n",
       "      <th>timestamp</th>\n",
       "      <th>date</th>\n",
       "      <th>datetime</th>\n",
       "    </tr>\n",
       "  </thead>\n",
       "  <tbody>\n",
       "    <tr>\n",
       "      <th>0</th>\n",
       "      <td>135.0</td>\n",
       "      <td>1346</td>\n",
       "      <td>2024-01-01T00:00:00+01:00</td>\n",
       "      <td>2024-01-01</td>\n",
       "      <td>2024-01-01T00:00:00</td>\n",
       "    </tr>\n",
       "    <tr>\n",
       "      <th>1</th>\n",
       "      <td>470.0</td>\n",
       "      <td>388</td>\n",
       "      <td>2024-01-01T00:00:00+01:00</td>\n",
       "      <td>2024-01-01</td>\n",
       "      <td>2024-01-01T00:00:00</td>\n",
       "    </tr>\n",
       "    <tr>\n",
       "      <th>2</th>\n",
       "      <td>476.0</td>\n",
       "      <td>1197</td>\n",
       "      <td>2024-01-01T00:00:00+01:00</td>\n",
       "      <td>2024-01-01</td>\n",
       "      <td>2024-01-01T00:00:00</td>\n",
       "    </tr>\n",
       "    <tr>\n",
       "      <th>3</th>\n",
       "      <td>135.0</td>\n",
       "      <td>772</td>\n",
       "      <td>2024-01-01T01:00:00+01:00</td>\n",
       "      <td>2024-01-01</td>\n",
       "      <td>2024-01-01T01:00:00</td>\n",
       "    </tr>\n",
       "    <tr>\n",
       "      <th>4</th>\n",
       "      <td>470.0</td>\n",
       "      <td>161</td>\n",
       "      <td>2024-01-01T01:00:00+01:00</td>\n",
       "      <td>2024-01-01</td>\n",
       "      <td>2024-01-01T01:00:00</td>\n",
       "    </tr>\n",
       "  </tbody>\n",
       "</table>\n",
       "</div>"
      ],
      "text/plain": [
       "   location_id  pedestrians_count                  timestamp        date  \\\n",
       "0        135.0               1346  2024-01-01T00:00:00+01:00  2024-01-01   \n",
       "1        470.0                388  2024-01-01T00:00:00+01:00  2024-01-01   \n",
       "2        476.0               1197  2024-01-01T00:00:00+01:00  2024-01-01   \n",
       "3        135.0                772  2024-01-01T01:00:00+01:00  2024-01-01   \n",
       "4        470.0                161  2024-01-01T01:00:00+01:00  2024-01-01   \n",
       "\n",
       "              datetime  \n",
       "0  2024-01-01T00:00:00  \n",
       "1  2024-01-01T00:00:00  \n",
       "2  2024-01-01T00:00:00  \n",
       "3  2024-01-01T01:00:00  \n",
       "4  2024-01-01T01:00:00  "
      ]
     },
     "execution_count": 83,
     "metadata": {},
     "output_type": "execute_result"
    }
   ],
   "source": [
    "wue_data.head()"
   ]
  },
  {
   "cell_type": "code",
   "execution_count": 84,
   "metadata": {},
   "outputs": [
    {
     "data": {
      "text/html": [
       "<div>\n",
       "<style scoped>\n",
       "    .dataframe tbody tr th:only-of-type {\n",
       "        vertical-align: middle;\n",
       "    }\n",
       "\n",
       "    .dataframe tbody tr th {\n",
       "        vertical-align: top;\n",
       "    }\n",
       "\n",
       "    .dataframe thead th {\n",
       "        text-align: right;\n",
       "    }\n",
       "</style>\n",
       "<table border=\"1\" class=\"dataframe\">\n",
       "  <thead>\n",
       "    <tr style=\"text-align: right;\">\n",
       "      <th></th>\n",
       "      <th>location_id</th>\n",
       "      <th>datetime</th>\n",
       "      <th>pedestrians_count</th>\n",
       "      <th>date</th>\n",
       "    </tr>\n",
       "  </thead>\n",
       "  <tbody>\n",
       "    <tr>\n",
       "      <th>4639</th>\n",
       "      <td>135.0</td>\n",
       "      <td>2024-07-14T00:00:00</td>\n",
       "      <td>334</td>\n",
       "      <td>2024-07-14</td>\n",
       "    </tr>\n",
       "    <tr>\n",
       "      <th>9294</th>\n",
       "      <td>470.0</td>\n",
       "      <td>2024-07-14T00:00:00</td>\n",
       "      <td>125</td>\n",
       "      <td>2024-07-14</td>\n",
       "    </tr>\n",
       "    <tr>\n",
       "      <th>13954</th>\n",
       "      <td>476.0</td>\n",
       "      <td>2024-07-14T00:00:00</td>\n",
       "      <td>378</td>\n",
       "      <td>2024-07-14</td>\n",
       "    </tr>\n",
       "    <tr>\n",
       "      <th>4640</th>\n",
       "      <td>135.0</td>\n",
       "      <td>2024-07-14T01:00:00</td>\n",
       "      <td>238</td>\n",
       "      <td>2024-07-14</td>\n",
       "    </tr>\n",
       "    <tr>\n",
       "      <th>9295</th>\n",
       "      <td>470.0</td>\n",
       "      <td>2024-07-14T01:00:00</td>\n",
       "      <td>44</td>\n",
       "      <td>2024-07-14</td>\n",
       "    </tr>\n",
       "    <tr>\n",
       "      <th>13955</th>\n",
       "      <td>476.0</td>\n",
       "      <td>2024-07-14T01:00:00</td>\n",
       "      <td>211</td>\n",
       "      <td>2024-07-14</td>\n",
       "    </tr>\n",
       "    <tr>\n",
       "      <th>4641</th>\n",
       "      <td>135.0</td>\n",
       "      <td>2024-07-14T02:00:00</td>\n",
       "      <td>0</td>\n",
       "      <td>2024-07-14</td>\n",
       "    </tr>\n",
       "    <tr>\n",
       "      <th>9296</th>\n",
       "      <td>470.0</td>\n",
       "      <td>2024-07-14T02:00:00</td>\n",
       "      <td>0</td>\n",
       "      <td>2024-07-14</td>\n",
       "    </tr>\n",
       "    <tr>\n",
       "      <th>13956</th>\n",
       "      <td>476.0</td>\n",
       "      <td>2024-07-14T02:00:00</td>\n",
       "      <td>0</td>\n",
       "      <td>2024-07-14</td>\n",
       "    </tr>\n",
       "    <tr>\n",
       "      <th>4642</th>\n",
       "      <td>135.0</td>\n",
       "      <td>2024-07-14T03:00:00</td>\n",
       "      <td>0</td>\n",
       "      <td>2024-07-14</td>\n",
       "    </tr>\n",
       "    <tr>\n",
       "      <th>9297</th>\n",
       "      <td>470.0</td>\n",
       "      <td>2024-07-14T03:00:00</td>\n",
       "      <td>0</td>\n",
       "      <td>2024-07-14</td>\n",
       "    </tr>\n",
       "    <tr>\n",
       "      <th>13957</th>\n",
       "      <td>476.0</td>\n",
       "      <td>2024-07-14T03:00:00</td>\n",
       "      <td>0</td>\n",
       "      <td>2024-07-14</td>\n",
       "    </tr>\n",
       "    <tr>\n",
       "      <th>4643</th>\n",
       "      <td>135.0</td>\n",
       "      <td>2024-07-14T04:00:00</td>\n",
       "      <td>0</td>\n",
       "      <td>2024-07-14</td>\n",
       "    </tr>\n",
       "    <tr>\n",
       "      <th>9298</th>\n",
       "      <td>470.0</td>\n",
       "      <td>2024-07-14T04:00:00</td>\n",
       "      <td>0</td>\n",
       "      <td>2024-07-14</td>\n",
       "    </tr>\n",
       "    <tr>\n",
       "      <th>13958</th>\n",
       "      <td>476.0</td>\n",
       "      <td>2024-07-14T04:00:00</td>\n",
       "      <td>0</td>\n",
       "      <td>2024-07-14</td>\n",
       "    </tr>\n",
       "    <tr>\n",
       "      <th>4644</th>\n",
       "      <td>135.0</td>\n",
       "      <td>2024-07-14T05:00:00</td>\n",
       "      <td>0</td>\n",
       "      <td>2024-07-14</td>\n",
       "    </tr>\n",
       "    <tr>\n",
       "      <th>9299</th>\n",
       "      <td>470.0</td>\n",
       "      <td>2024-07-14T05:00:00</td>\n",
       "      <td>0</td>\n",
       "      <td>2024-07-14</td>\n",
       "    </tr>\n",
       "    <tr>\n",
       "      <th>13959</th>\n",
       "      <td>476.0</td>\n",
       "      <td>2024-07-14T05:00:00</td>\n",
       "      <td>0</td>\n",
       "      <td>2024-07-14</td>\n",
       "    </tr>\n",
       "    <tr>\n",
       "      <th>4645</th>\n",
       "      <td>135.0</td>\n",
       "      <td>2024-07-14T06:00:00</td>\n",
       "      <td>31</td>\n",
       "      <td>2024-07-14</td>\n",
       "    </tr>\n",
       "    <tr>\n",
       "      <th>9300</th>\n",
       "      <td>470.0</td>\n",
       "      <td>2024-07-14T06:00:00</td>\n",
       "      <td>34</td>\n",
       "      <td>2024-07-14</td>\n",
       "    </tr>\n",
       "    <tr>\n",
       "      <th>13960</th>\n",
       "      <td>476.0</td>\n",
       "      <td>2024-07-14T06:00:00</td>\n",
       "      <td>58</td>\n",
       "      <td>2024-07-14</td>\n",
       "    </tr>\n",
       "    <tr>\n",
       "      <th>4646</th>\n",
       "      <td>135.0</td>\n",
       "      <td>2024-07-14T07:00:00</td>\n",
       "      <td>52</td>\n",
       "      <td>2024-07-14</td>\n",
       "    </tr>\n",
       "    <tr>\n",
       "      <th>9301</th>\n",
       "      <td>470.0</td>\n",
       "      <td>2024-07-14T07:00:00</td>\n",
       "      <td>38</td>\n",
       "      <td>2024-07-14</td>\n",
       "    </tr>\n",
       "    <tr>\n",
       "      <th>13961</th>\n",
       "      <td>476.0</td>\n",
       "      <td>2024-07-14T07:00:00</td>\n",
       "      <td>70</td>\n",
       "      <td>2024-07-14</td>\n",
       "    </tr>\n",
       "  </tbody>\n",
       "</table>\n",
       "</div>"
      ],
      "text/plain": [
       "       location_id             datetime  pedestrians_count        date\n",
       "4639         135.0  2024-07-14T00:00:00                334  2024-07-14\n",
       "9294         470.0  2024-07-14T00:00:00                125  2024-07-14\n",
       "13954        476.0  2024-07-14T00:00:00                378  2024-07-14\n",
       "4640         135.0  2024-07-14T01:00:00                238  2024-07-14\n",
       "9295         470.0  2024-07-14T01:00:00                 44  2024-07-14\n",
       "13955        476.0  2024-07-14T01:00:00                211  2024-07-14\n",
       "4641         135.0  2024-07-14T02:00:00                  0  2024-07-14\n",
       "9296         470.0  2024-07-14T02:00:00                  0  2024-07-14\n",
       "13956        476.0  2024-07-14T02:00:00                  0  2024-07-14\n",
       "4642         135.0  2024-07-14T03:00:00                  0  2024-07-14\n",
       "9297         470.0  2024-07-14T03:00:00                  0  2024-07-14\n",
       "13957        476.0  2024-07-14T03:00:00                  0  2024-07-14\n",
       "4643         135.0  2024-07-14T04:00:00                  0  2024-07-14\n",
       "9298         470.0  2024-07-14T04:00:00                  0  2024-07-14\n",
       "13958        476.0  2024-07-14T04:00:00                  0  2024-07-14\n",
       "4644         135.0  2024-07-14T05:00:00                  0  2024-07-14\n",
       "9299         470.0  2024-07-14T05:00:00                  0  2024-07-14\n",
       "13959        476.0  2024-07-14T05:00:00                  0  2024-07-14\n",
       "4645         135.0  2024-07-14T06:00:00                 31  2024-07-14\n",
       "9300         470.0  2024-07-14T06:00:00                 34  2024-07-14\n",
       "13960        476.0  2024-07-14T06:00:00                 58  2024-07-14\n",
       "4646         135.0  2024-07-14T07:00:00                 52  2024-07-14\n",
       "9301         470.0  2024-07-14T07:00:00                 38  2024-07-14\n",
       "13961        476.0  2024-07-14T07:00:00                 70  2024-07-14"
      ]
     },
     "execution_count": 84,
     "metadata": {},
     "output_type": "execute_result"
    }
   ],
   "source": [
    "wue_data_agg = wue_data.groupby(['location_id', 'datetime']).agg({'pedestrians_count': 'sum'}).reset_index()\n",
    "wue_data_agg = wue_data_agg.merge(wue_data[['location_id', 'datetime', 'date']], on=['location_id', 'datetime'], how='left')\n",
    "wue_data_agg.sort_values(by=['datetime', 'location_id'], inplace=True)\n",
    "wue_data_agg.tail(24)"
   ]
  },
  {
   "cell_type": "code",
   "execution_count": 90,
   "metadata": {},
   "outputs": [
    {
     "name": "stderr",
     "output_type": "stream",
     "text": [
      "C:\\Users\\User\\AppData\\Roaming\\Python\\Python311\\site-packages\\plotly\\express\\_core.py:2065: FutureWarning:\n",
      "\n",
      "When grouping with a length-1 list-like, you will need to pass a length-1 tuple to get_group in a future version of pandas. Pass `(name,)` instead of `name` to silence this warning.\n",
      "\n"
     ]
    },
    {
     "data": {
      "application/vnd.plotly.v1+json": {
       "config": {
        "plotlyServerURL": "https://plot.ly"
       },
       "data": [
        {
         "hovertemplate": "location_id=135.0<br>datetime=%{x}<br>pedestrians_count=%{y}<extra></extra>",
         "legendgroup": "135.0",
         "line": {
          "color": "#636efa",
          "dash": "solid"
         },
         "marker": {
          "symbol": "circle"
         },
         "mode": "lines",
         "name": "135.0",
         "orientation": "v",
         "showlegend": true,
         "type": "scatter",
         "x": [
          "2024-07-12T00:00:00",
          "2024-07-12T01:00:00",
          "2024-07-12T02:00:00",
          "2024-07-12T03:00:00",
          "2024-07-12T04:00:00",
          "2024-07-12T05:00:00",
          "2024-07-12T06:00:00",
          "2024-07-12T07:00:00",
          "2024-07-12T08:00:00",
          "2024-07-12T09:00:00",
          "2024-07-12T10:00:00",
          "2024-07-12T11:00:00",
          "2024-07-12T12:00:00",
          "2024-07-12T13:00:00",
          "2024-07-12T14:00:00",
          "2024-07-12T15:00:00",
          "2024-07-12T16:00:00",
          "2024-07-12T17:00:00",
          "2024-07-12T18:00:00",
          "2024-07-12T19:00:00",
          "2024-07-12T20:00:00",
          "2024-07-12T21:00:00",
          "2024-07-12T23:00:00",
          "2024-07-13T00:00:00",
          "2024-07-13T01:00:00",
          "2024-07-13T02:00:00",
          "2024-07-13T03:00:00",
          "2024-07-13T04:00:00",
          "2024-07-13T05:00:00",
          "2024-07-13T06:00:00",
          "2024-07-13T07:00:00",
          "2024-07-13T08:00:00",
          "2024-07-13T09:00:00",
          "2024-07-13T10:00:00",
          "2024-07-13T11:00:00",
          "2024-07-13T12:00:00",
          "2024-07-13T13:00:00",
          "2024-07-13T14:00:00",
          "2024-07-13T15:00:00",
          "2024-07-13T16:00:00",
          "2024-07-13T17:00:00",
          "2024-07-13T18:00:00",
          "2024-07-13T19:00:00",
          "2024-07-13T20:00:00",
          "2024-07-13T21:00:00",
          "2024-07-13T23:00:00",
          "2024-07-14T00:00:00",
          "2024-07-14T01:00:00",
          "2024-07-14T02:00:00",
          "2024-07-14T03:00:00",
          "2024-07-14T04:00:00",
          "2024-07-14T05:00:00",
          "2024-07-14T06:00:00",
          "2024-07-14T07:00:00"
         ],
         "xaxis": "x",
         "y": [
          118,
          51,
          23,
          35,
          8,
          36,
          66,
          253,
          457,
          979,
          1668,
          2381,
          2677,
          2842,
          2653,
          2852,
          3120,
          3006,
          2348,
          1702,
          853,
          578,
          51,
          266,
          190,
          65,
          53,
          43,
          33,
          43,
          58,
          223,
          928,
          1856,
          3309,
          4245,
          4385,
          4647,
          4894,
          4831,
          4254,
          3527,
          2574,
          1266,
          710,
          56,
          334,
          238,
          0,
          0,
          0,
          0,
          31,
          52
         ],
         "yaxis": "y"
        },
        {
         "hovertemplate": "location_id=470.0<br>datetime=%{x}<br>pedestrians_count=%{y}<extra></extra>",
         "legendgroup": "470.0",
         "line": {
          "color": "#EF553B",
          "dash": "solid"
         },
         "marker": {
          "symbol": "circle"
         },
         "mode": "lines",
         "name": "470.0",
         "orientation": "v",
         "showlegend": true,
         "type": "scatter",
         "x": [
          "2024-07-12T00:00:00",
          "2024-07-12T01:00:00",
          "2024-07-12T02:00:00",
          "2024-07-12T03:00:00",
          "2024-07-12T04:00:00",
          "2024-07-12T05:00:00",
          "2024-07-12T06:00:00",
          "2024-07-12T07:00:00",
          "2024-07-12T08:00:00",
          "2024-07-12T09:00:00",
          "2024-07-12T10:00:00",
          "2024-07-12T11:00:00",
          "2024-07-12T12:00:00",
          "2024-07-12T13:00:00",
          "2024-07-12T14:00:00",
          "2024-07-12T15:00:00",
          "2024-07-12T16:00:00",
          "2024-07-12T17:00:00",
          "2024-07-12T18:00:00",
          "2024-07-12T19:00:00",
          "2024-07-12T20:00:00",
          "2024-07-12T21:00:00",
          "2024-07-12T23:00:00",
          "2024-07-13T00:00:00",
          "2024-07-13T01:00:00",
          "2024-07-13T02:00:00",
          "2024-07-13T03:00:00",
          "2024-07-13T04:00:00",
          "2024-07-13T05:00:00",
          "2024-07-13T06:00:00",
          "2024-07-13T07:00:00",
          "2024-07-13T08:00:00",
          "2024-07-13T09:00:00",
          "2024-07-13T10:00:00",
          "2024-07-13T11:00:00",
          "2024-07-13T12:00:00",
          "2024-07-13T13:00:00",
          "2024-07-13T14:00:00",
          "2024-07-13T15:00:00",
          "2024-07-13T16:00:00",
          "2024-07-13T17:00:00",
          "2024-07-13T18:00:00",
          "2024-07-13T19:00:00",
          "2024-07-13T20:00:00",
          "2024-07-13T21:00:00",
          "2024-07-13T23:00:00",
          "2024-07-14T00:00:00",
          "2024-07-14T01:00:00",
          "2024-07-14T02:00:00",
          "2024-07-14T03:00:00",
          "2024-07-14T04:00:00",
          "2024-07-14T05:00:00",
          "2024-07-14T06:00:00",
          "2024-07-14T07:00:00"
         ],
         "xaxis": "x",
         "y": [
          58,
          27,
          6,
          5,
          10,
          57,
          131,
          289,
          365,
          578,
          804,
          1002,
          1364,
          1335,
          1227,
          1289,
          1259,
          1241,
          1039,
          826,
          773,
          522,
          17,
          149,
          66,
          35,
          11,
          14,
          31,
          71,
          75,
          208,
          513,
          1027,
          1400,
          1636,
          1663,
          1738,
          1712,
          1496,
          1493,
          1329,
          1200,
          754,
          510,
          22,
          125,
          44,
          0,
          0,
          0,
          0,
          34,
          38
         ],
         "yaxis": "y"
        },
        {
         "hovertemplate": "location_id=476.0<br>datetime=%{x}<br>pedestrians_count=%{y}<extra></extra>",
         "legendgroup": "476.0",
         "line": {
          "color": "#00cc96",
          "dash": "solid"
         },
         "marker": {
          "symbol": "circle"
         },
         "mode": "lines",
         "name": "476.0",
         "orientation": "v",
         "showlegend": true,
         "type": "scatter",
         "x": [
          "2024-07-12T00:00:00",
          "2024-07-12T01:00:00",
          "2024-07-12T02:00:00",
          "2024-07-12T03:00:00",
          "2024-07-12T04:00:00",
          "2024-07-12T05:00:00",
          "2024-07-12T06:00:00",
          "2024-07-12T07:00:00",
          "2024-07-12T08:00:00",
          "2024-07-12T09:00:00",
          "2024-07-12T10:00:00",
          "2024-07-12T11:00:00",
          "2024-07-12T12:00:00",
          "2024-07-12T13:00:00",
          "2024-07-12T14:00:00",
          "2024-07-12T15:00:00",
          "2024-07-12T16:00:00",
          "2024-07-12T17:00:00",
          "2024-07-12T18:00:00",
          "2024-07-12T19:00:00",
          "2024-07-12T20:00:00",
          "2024-07-12T21:00:00",
          "2024-07-12T22:00:00",
          "2024-07-12T23:00:00",
          "2024-07-13T00:00:00",
          "2024-07-13T01:00:00",
          "2024-07-13T02:00:00",
          "2024-07-13T03:00:00",
          "2024-07-13T04:00:00",
          "2024-07-13T05:00:00",
          "2024-07-13T06:00:00",
          "2024-07-13T07:00:00",
          "2024-07-13T08:00:00",
          "2024-07-13T09:00:00",
          "2024-07-13T10:00:00",
          "2024-07-13T11:00:00",
          "2024-07-13T12:00:00",
          "2024-07-13T13:00:00",
          "2024-07-13T14:00:00",
          "2024-07-13T15:00:00",
          "2024-07-13T16:00:00",
          "2024-07-13T17:00:00",
          "2024-07-13T18:00:00",
          "2024-07-13T19:00:00",
          "2024-07-13T20:00:00",
          "2024-07-13T21:00:00",
          "2024-07-13T22:00:00",
          "2024-07-13T23:00:00",
          "2024-07-14T00:00:00",
          "2024-07-14T01:00:00",
          "2024-07-14T02:00:00",
          "2024-07-14T03:00:00",
          "2024-07-14T04:00:00",
          "2024-07-14T05:00:00",
          "2024-07-14T06:00:00",
          "2024-07-14T07:00:00"
         ],
         "xaxis": "x",
         "y": [
          122,
          28,
          18,
          17,
          28,
          63,
          152,
          503,
          750,
          972,
          1471,
          1714,
          2245,
          2170,
          2001,
          2045,
          2071,
          1892,
          1917,
          1615,
          658,
          497,
          459,
          0,
          276,
          173,
          61,
          30,
          56,
          49,
          114,
          139,
          375,
          756,
          1287,
          2020,
          2235,
          2489,
          2580,
          2574,
          2601,
          2570,
          2382,
          2126,
          951,
          656,
          592,
          45,
          378,
          211,
          0,
          0,
          0,
          0,
          58,
          70
         ],
         "yaxis": "y"
        },
        {
         "mode": "lines",
         "name": "Sum",
         "type": "scatter",
         "x": [
          "2024-07-12T00:00:00",
          "2024-07-12T01:00:00",
          "2024-07-12T02:00:00",
          "2024-07-12T03:00:00",
          "2024-07-12T04:00:00",
          "2024-07-12T05:00:00",
          "2024-07-12T06:00:00",
          "2024-07-12T07:00:00",
          "2024-07-12T08:00:00",
          "2024-07-12T09:00:00",
          "2024-07-12T10:00:00",
          "2024-07-12T11:00:00",
          "2024-07-12T12:00:00",
          "2024-07-12T13:00:00",
          "2024-07-12T14:00:00",
          "2024-07-12T15:00:00",
          "2024-07-12T16:00:00",
          "2024-07-12T17:00:00",
          "2024-07-12T18:00:00",
          "2024-07-12T19:00:00",
          "2024-07-12T20:00:00",
          "2024-07-12T21:00:00",
          "2024-07-12T22:00:00",
          "2024-07-12T23:00:00",
          "2024-07-13T00:00:00",
          "2024-07-13T01:00:00",
          "2024-07-13T02:00:00",
          "2024-07-13T03:00:00",
          "2024-07-13T04:00:00",
          "2024-07-13T05:00:00",
          "2024-07-13T06:00:00",
          "2024-07-13T07:00:00",
          "2024-07-13T08:00:00",
          "2024-07-13T09:00:00",
          "2024-07-13T10:00:00",
          "2024-07-13T11:00:00",
          "2024-07-13T12:00:00",
          "2024-07-13T13:00:00",
          "2024-07-13T14:00:00",
          "2024-07-13T15:00:00",
          "2024-07-13T16:00:00",
          "2024-07-13T17:00:00",
          "2024-07-13T18:00:00",
          "2024-07-13T19:00:00",
          "2024-07-13T20:00:00",
          "2024-07-13T21:00:00",
          "2024-07-13T22:00:00",
          "2024-07-13T23:00:00",
          "2024-07-14T00:00:00",
          "2024-07-14T01:00:00",
          "2024-07-14T02:00:00",
          "2024-07-14T03:00:00",
          "2024-07-14T04:00:00",
          "2024-07-14T05:00:00",
          "2024-07-14T06:00:00",
          "2024-07-14T07:00:00"
         ],
         "y": [
          298,
          106,
          47,
          57,
          46,
          156,
          349,
          1045,
          1572,
          2529,
          3943,
          5097,
          6286,
          6347,
          5881,
          6186,
          6450,
          6139,
          5304,
          4143,
          2284,
          1597,
          459,
          68,
          691,
          429,
          161,
          94,
          113,
          113,
          228,
          272,
          806,
          2197,
          4170,
          6729,
          8116,
          8537,
          8965,
          9180,
          8928,
          8317,
          7238,
          5900,
          2971,
          1876,
          592,
          123,
          837,
          493,
          0,
          0,
          0,
          0,
          123,
          160
         ]
        }
       ],
       "layout": {
        "legend": {
         "title": {
          "text": "location_id"
         },
         "tracegroupgap": 0
        },
        "template": {
         "data": {
          "bar": [
           {
            "error_x": {
             "color": "#2a3f5f"
            },
            "error_y": {
             "color": "#2a3f5f"
            },
            "marker": {
             "line": {
              "color": "#E5ECF6",
              "width": 0.5
             },
             "pattern": {
              "fillmode": "overlay",
              "size": 10,
              "solidity": 0.2
             }
            },
            "type": "bar"
           }
          ],
          "barpolar": [
           {
            "marker": {
             "line": {
              "color": "#E5ECF6",
              "width": 0.5
             },
             "pattern": {
              "fillmode": "overlay",
              "size": 10,
              "solidity": 0.2
             }
            },
            "type": "barpolar"
           }
          ],
          "carpet": [
           {
            "aaxis": {
             "endlinecolor": "#2a3f5f",
             "gridcolor": "white",
             "linecolor": "white",
             "minorgridcolor": "white",
             "startlinecolor": "#2a3f5f"
            },
            "baxis": {
             "endlinecolor": "#2a3f5f",
             "gridcolor": "white",
             "linecolor": "white",
             "minorgridcolor": "white",
             "startlinecolor": "#2a3f5f"
            },
            "type": "carpet"
           }
          ],
          "choropleth": [
           {
            "colorbar": {
             "outlinewidth": 0,
             "ticks": ""
            },
            "type": "choropleth"
           }
          ],
          "contour": [
           {
            "colorbar": {
             "outlinewidth": 0,
             "ticks": ""
            },
            "colorscale": [
             [
              0,
              "#0d0887"
             ],
             [
              0.1111111111111111,
              "#46039f"
             ],
             [
              0.2222222222222222,
              "#7201a8"
             ],
             [
              0.3333333333333333,
              "#9c179e"
             ],
             [
              0.4444444444444444,
              "#bd3786"
             ],
             [
              0.5555555555555556,
              "#d8576b"
             ],
             [
              0.6666666666666666,
              "#ed7953"
             ],
             [
              0.7777777777777778,
              "#fb9f3a"
             ],
             [
              0.8888888888888888,
              "#fdca26"
             ],
             [
              1,
              "#f0f921"
             ]
            ],
            "type": "contour"
           }
          ],
          "contourcarpet": [
           {
            "colorbar": {
             "outlinewidth": 0,
             "ticks": ""
            },
            "type": "contourcarpet"
           }
          ],
          "heatmap": [
           {
            "colorbar": {
             "outlinewidth": 0,
             "ticks": ""
            },
            "colorscale": [
             [
              0,
              "#0d0887"
             ],
             [
              0.1111111111111111,
              "#46039f"
             ],
             [
              0.2222222222222222,
              "#7201a8"
             ],
             [
              0.3333333333333333,
              "#9c179e"
             ],
             [
              0.4444444444444444,
              "#bd3786"
             ],
             [
              0.5555555555555556,
              "#d8576b"
             ],
             [
              0.6666666666666666,
              "#ed7953"
             ],
             [
              0.7777777777777778,
              "#fb9f3a"
             ],
             [
              0.8888888888888888,
              "#fdca26"
             ],
             [
              1,
              "#f0f921"
             ]
            ],
            "type": "heatmap"
           }
          ],
          "heatmapgl": [
           {
            "colorbar": {
             "outlinewidth": 0,
             "ticks": ""
            },
            "colorscale": [
             [
              0,
              "#0d0887"
             ],
             [
              0.1111111111111111,
              "#46039f"
             ],
             [
              0.2222222222222222,
              "#7201a8"
             ],
             [
              0.3333333333333333,
              "#9c179e"
             ],
             [
              0.4444444444444444,
              "#bd3786"
             ],
             [
              0.5555555555555556,
              "#d8576b"
             ],
             [
              0.6666666666666666,
              "#ed7953"
             ],
             [
              0.7777777777777778,
              "#fb9f3a"
             ],
             [
              0.8888888888888888,
              "#fdca26"
             ],
             [
              1,
              "#f0f921"
             ]
            ],
            "type": "heatmapgl"
           }
          ],
          "histogram": [
           {
            "marker": {
             "pattern": {
              "fillmode": "overlay",
              "size": 10,
              "solidity": 0.2
             }
            },
            "type": "histogram"
           }
          ],
          "histogram2d": [
           {
            "colorbar": {
             "outlinewidth": 0,
             "ticks": ""
            },
            "colorscale": [
             [
              0,
              "#0d0887"
             ],
             [
              0.1111111111111111,
              "#46039f"
             ],
             [
              0.2222222222222222,
              "#7201a8"
             ],
             [
              0.3333333333333333,
              "#9c179e"
             ],
             [
              0.4444444444444444,
              "#bd3786"
             ],
             [
              0.5555555555555556,
              "#d8576b"
             ],
             [
              0.6666666666666666,
              "#ed7953"
             ],
             [
              0.7777777777777778,
              "#fb9f3a"
             ],
             [
              0.8888888888888888,
              "#fdca26"
             ],
             [
              1,
              "#f0f921"
             ]
            ],
            "type": "histogram2d"
           }
          ],
          "histogram2dcontour": [
           {
            "colorbar": {
             "outlinewidth": 0,
             "ticks": ""
            },
            "colorscale": [
             [
              0,
              "#0d0887"
             ],
             [
              0.1111111111111111,
              "#46039f"
             ],
             [
              0.2222222222222222,
              "#7201a8"
             ],
             [
              0.3333333333333333,
              "#9c179e"
             ],
             [
              0.4444444444444444,
              "#bd3786"
             ],
             [
              0.5555555555555556,
              "#d8576b"
             ],
             [
              0.6666666666666666,
              "#ed7953"
             ],
             [
              0.7777777777777778,
              "#fb9f3a"
             ],
             [
              0.8888888888888888,
              "#fdca26"
             ],
             [
              1,
              "#f0f921"
             ]
            ],
            "type": "histogram2dcontour"
           }
          ],
          "mesh3d": [
           {
            "colorbar": {
             "outlinewidth": 0,
             "ticks": ""
            },
            "type": "mesh3d"
           }
          ],
          "parcoords": [
           {
            "line": {
             "colorbar": {
              "outlinewidth": 0,
              "ticks": ""
             }
            },
            "type": "parcoords"
           }
          ],
          "pie": [
           {
            "automargin": true,
            "type": "pie"
           }
          ],
          "scatter": [
           {
            "fillpattern": {
             "fillmode": "overlay",
             "size": 10,
             "solidity": 0.2
            },
            "type": "scatter"
           }
          ],
          "scatter3d": [
           {
            "line": {
             "colorbar": {
              "outlinewidth": 0,
              "ticks": ""
             }
            },
            "marker": {
             "colorbar": {
              "outlinewidth": 0,
              "ticks": ""
             }
            },
            "type": "scatter3d"
           }
          ],
          "scattercarpet": [
           {
            "marker": {
             "colorbar": {
              "outlinewidth": 0,
              "ticks": ""
             }
            },
            "type": "scattercarpet"
           }
          ],
          "scattergeo": [
           {
            "marker": {
             "colorbar": {
              "outlinewidth": 0,
              "ticks": ""
             }
            },
            "type": "scattergeo"
           }
          ],
          "scattergl": [
           {
            "marker": {
             "colorbar": {
              "outlinewidth": 0,
              "ticks": ""
             }
            },
            "type": "scattergl"
           }
          ],
          "scattermapbox": [
           {
            "marker": {
             "colorbar": {
              "outlinewidth": 0,
              "ticks": ""
             }
            },
            "type": "scattermapbox"
           }
          ],
          "scatterpolar": [
           {
            "marker": {
             "colorbar": {
              "outlinewidth": 0,
              "ticks": ""
             }
            },
            "type": "scatterpolar"
           }
          ],
          "scatterpolargl": [
           {
            "marker": {
             "colorbar": {
              "outlinewidth": 0,
              "ticks": ""
             }
            },
            "type": "scatterpolargl"
           }
          ],
          "scatterternary": [
           {
            "marker": {
             "colorbar": {
              "outlinewidth": 0,
              "ticks": ""
             }
            },
            "type": "scatterternary"
           }
          ],
          "surface": [
           {
            "colorbar": {
             "outlinewidth": 0,
             "ticks": ""
            },
            "colorscale": [
             [
              0,
              "#0d0887"
             ],
             [
              0.1111111111111111,
              "#46039f"
             ],
             [
              0.2222222222222222,
              "#7201a8"
             ],
             [
              0.3333333333333333,
              "#9c179e"
             ],
             [
              0.4444444444444444,
              "#bd3786"
             ],
             [
              0.5555555555555556,
              "#d8576b"
             ],
             [
              0.6666666666666666,
              "#ed7953"
             ],
             [
              0.7777777777777778,
              "#fb9f3a"
             ],
             [
              0.8888888888888888,
              "#fdca26"
             ],
             [
              1,
              "#f0f921"
             ]
            ],
            "type": "surface"
           }
          ],
          "table": [
           {
            "cells": {
             "fill": {
              "color": "#EBF0F8"
             },
             "line": {
              "color": "white"
             }
            },
            "header": {
             "fill": {
              "color": "#C8D4E3"
             },
             "line": {
              "color": "white"
             }
            },
            "type": "table"
           }
          ]
         },
         "layout": {
          "annotationdefaults": {
           "arrowcolor": "#2a3f5f",
           "arrowhead": 0,
           "arrowwidth": 1
          },
          "autotypenumbers": "strict",
          "coloraxis": {
           "colorbar": {
            "outlinewidth": 0,
            "ticks": ""
           }
          },
          "colorscale": {
           "diverging": [
            [
             0,
             "#8e0152"
            ],
            [
             0.1,
             "#c51b7d"
            ],
            [
             0.2,
             "#de77ae"
            ],
            [
             0.3,
             "#f1b6da"
            ],
            [
             0.4,
             "#fde0ef"
            ],
            [
             0.5,
             "#f7f7f7"
            ],
            [
             0.6,
             "#e6f5d0"
            ],
            [
             0.7,
             "#b8e186"
            ],
            [
             0.8,
             "#7fbc41"
            ],
            [
             0.9,
             "#4d9221"
            ],
            [
             1,
             "#276419"
            ]
           ],
           "sequential": [
            [
             0,
             "#0d0887"
            ],
            [
             0.1111111111111111,
             "#46039f"
            ],
            [
             0.2222222222222222,
             "#7201a8"
            ],
            [
             0.3333333333333333,
             "#9c179e"
            ],
            [
             0.4444444444444444,
             "#bd3786"
            ],
            [
             0.5555555555555556,
             "#d8576b"
            ],
            [
             0.6666666666666666,
             "#ed7953"
            ],
            [
             0.7777777777777778,
             "#fb9f3a"
            ],
            [
             0.8888888888888888,
             "#fdca26"
            ],
            [
             1,
             "#f0f921"
            ]
           ],
           "sequentialminus": [
            [
             0,
             "#0d0887"
            ],
            [
             0.1111111111111111,
             "#46039f"
            ],
            [
             0.2222222222222222,
             "#7201a8"
            ],
            [
             0.3333333333333333,
             "#9c179e"
            ],
            [
             0.4444444444444444,
             "#bd3786"
            ],
            [
             0.5555555555555556,
             "#d8576b"
            ],
            [
             0.6666666666666666,
             "#ed7953"
            ],
            [
             0.7777777777777778,
             "#fb9f3a"
            ],
            [
             0.8888888888888888,
             "#fdca26"
            ],
            [
             1,
             "#f0f921"
            ]
           ]
          },
          "colorway": [
           "#636efa",
           "#EF553B",
           "#00cc96",
           "#ab63fa",
           "#FFA15A",
           "#19d3f3",
           "#FF6692",
           "#B6E880",
           "#FF97FF",
           "#FECB52"
          ],
          "font": {
           "color": "#2a3f5f"
          },
          "geo": {
           "bgcolor": "white",
           "lakecolor": "white",
           "landcolor": "#E5ECF6",
           "showlakes": true,
           "showland": true,
           "subunitcolor": "white"
          },
          "hoverlabel": {
           "align": "left"
          },
          "hovermode": "closest",
          "mapbox": {
           "style": "light"
          },
          "paper_bgcolor": "white",
          "plot_bgcolor": "#E5ECF6",
          "polar": {
           "angularaxis": {
            "gridcolor": "white",
            "linecolor": "white",
            "ticks": ""
           },
           "bgcolor": "#E5ECF6",
           "radialaxis": {
            "gridcolor": "white",
            "linecolor": "white",
            "ticks": ""
           }
          },
          "scene": {
           "xaxis": {
            "backgroundcolor": "#E5ECF6",
            "gridcolor": "white",
            "gridwidth": 2,
            "linecolor": "white",
            "showbackground": true,
            "ticks": "",
            "zerolinecolor": "white"
           },
           "yaxis": {
            "backgroundcolor": "#E5ECF6",
            "gridcolor": "white",
            "gridwidth": 2,
            "linecolor": "white",
            "showbackground": true,
            "ticks": "",
            "zerolinecolor": "white"
           },
           "zaxis": {
            "backgroundcolor": "#E5ECF6",
            "gridcolor": "white",
            "gridwidth": 2,
            "linecolor": "white",
            "showbackground": true,
            "ticks": "",
            "zerolinecolor": "white"
           }
          },
          "shapedefaults": {
           "line": {
            "color": "#2a3f5f"
           }
          },
          "ternary": {
           "aaxis": {
            "gridcolor": "white",
            "linecolor": "white",
            "ticks": ""
           },
           "baxis": {
            "gridcolor": "white",
            "linecolor": "white",
            "ticks": ""
           },
           "bgcolor": "#E5ECF6",
           "caxis": {
            "gridcolor": "white",
            "linecolor": "white",
            "ticks": ""
           }
          },
          "title": {
           "x": 0.05
          },
          "xaxis": {
           "automargin": true,
           "gridcolor": "white",
           "linecolor": "white",
           "ticks": "",
           "title": {
            "standoff": 15
           },
           "zerolinecolor": "white",
           "zerolinewidth": 2
          },
          "yaxis": {
           "automargin": true,
           "gridcolor": "white",
           "linecolor": "white",
           "ticks": "",
           "title": {
            "standoff": 15
           },
           "zerolinecolor": "white",
           "zerolinewidth": 2
          }
         }
        },
        "title": {
         "text": "Pedestrians count for the last 3 days"
        },
        "xaxis": {
         "anchor": "y",
         "domain": [
          0,
          1
         ],
         "title": {
          "text": "datetime"
         }
        },
        "yaxis": {
         "anchor": "x",
         "domain": [
          0,
          1
         ],
         "title": {
          "text": "pedestrians_count"
         }
        }
       }
      }
     },
     "metadata": {},
     "output_type": "display_data"
    }
   ],
   "source": [
    "# create a line plotly express plot with the data for the last 3 days in the wue_data_agg dataframe\n",
    "# get the last 3 days values from the wue_data_agg dataframe in the column date\n",
    "last_3_days = wue_data_agg['date'].unique()[-3:]\n",
    "# filter the data to get the data for the last 3 days\n",
    "wue_data_agg_3_days = wue_data_agg[wue_data_agg['date'].isin(last_3_days)]\n",
    "# create the plot\n",
    "fig = px.line(wue_data_agg_3_days, x='datetime', y='pedestrians_count', color='location_id', title='Pedestrians count for the last 3 days')\n",
    "# add a line to the plot for the sum data of the different locations in wue_data_agg_3_days\n",
    "sum_data = wue_data_agg_3_days.groupby('datetime').agg({'pedestrians_count': 'sum'}).reset_index()\n",
    "fig.add_scatter(x=sum_data['datetime'], y=sum_data['pedestrians_count'], mode='lines', name='Sum')\n",
    "# show the plot\n",
    "\n",
    "fig.show()\n",
    "\n",
    "\n",
    "# last_3_days = wue_data_agg['date'].unique()[-3:]\n",
    "# # filter the data to get the data for the last 3 days\n",
    "# wue_data_agg_3_days = wue_data_agg[wue_data_agg['date'].isin(last_3_days)]\n",
    "# # create the plot\n",
    "# fig = px.line(wue_data_agg_3_days, x='date', y='pedestrians_count', color='location_id', title='Pedestrians count for the last 3 days')\n",
    "\n",
    "# fig.show()"
   ]
  },
  {
   "cell_type": "markdown",
   "metadata": {},
   "source": [
    "# recursive updating lags for the prediction"
   ]
  },
  {
   "cell_type": "code",
   "execution_count": 1,
   "metadata": {},
   "outputs": [
    {
     "name": "stdout",
     "output_type": "stream",
     "text": [
      "     lag_1   lag_2   lag_3   lag_4\n",
      "0    300.0   200.0   100.0    50.0\n",
      "1    400.0   300.0   200.0   100.0\n",
      "2    500.0   400.0   300.0   200.0\n",
      "3    600.0   500.0   400.0   300.0\n",
      "4    700.0   600.0   500.0   400.0\n",
      "5    800.0   700.0   600.0   500.0\n",
      "6    900.0   800.0   700.0   600.0\n",
      "7   1000.0   900.0   800.0   700.0\n",
      "8   1100.0  1000.0   900.0   800.0\n",
      "9   1200.0  1100.0  1000.0   900.0\n",
      "10  1300.0  1200.0  1100.0  1000.0\n",
      "11  1400.0  1300.0  1200.0  1100.0\n",
      "12  1500.0  1400.0  1300.0  1200.0\n",
      "13  1600.0  1500.0  1400.0  1300.0\n",
      "14  1700.0  1600.0  1500.0  1400.0\n",
      "15  1800.0  1700.0  1600.0  1500.0\n",
      "16  1900.0  1800.0  1700.0  1600.0\n",
      "17  2000.0  1900.0  1800.0  1700.0\n",
      "18  2100.0  2000.0  1900.0  1800.0\n",
      "19  2200.0  2100.0  2000.0  1900.0\n",
      "20  2300.0  2200.0  2100.0  2000.0\n",
      "21  2400.0  2300.0  2200.0  2100.0\n",
      "22  2500.0  2400.0  2300.0  2200.0\n",
      "23  2600.0  2500.0  2400.0  2300.0\n"
     ]
    }
   ],
   "source": [
    "import pandas as pd\n",
    "import numpy as np\n",
    "\n",
    "# Define the DataFrame\n",
    "data = {\n",
    "    'lag_1': [300, np.nan, np.nan, np.nan, np.nan, np.nan, np.nan, np.nan, np.nan, np.nan, np.nan, np.nan, np.nan, np.nan, np.nan, np.nan, np.nan, np.nan, np.nan, np.nan, np.nan, np.nan, np.nan, np.nan],\n",
    "    'lag_2': [200, 300, np.nan, np.nan, np.nan, np.nan, np.nan, np.nan, np.nan, np.nan, np.nan, np.nan, np.nan, np.nan, np.nan, np.nan, np.nan, np.nan, np.nan, np.nan, np.nan, np.nan, np.nan, np.nan],\n",
    "    'lag_3': [100, 200, 300, np.nan, np.nan, np.nan, np.nan, np.nan, np.nan, np.nan, np.nan, np.nan, np.nan, np.nan, np.nan, np.nan, np.nan, np.nan, np.nan, np.nan, np.nan, np.nan, np.nan, np.nan],\n",
    "    'lag_4': [50, 100, 200, 300, np.nan, np.nan, np.nan, np.nan, np.nan, np.nan, np.nan, np.nan, np.nan, np.nan, np.nan, np.nan, np.nan, np.nan, np.nan, np.nan, np.nan, np.nan, np.nan, np.nan]\n",
    "}\n",
    "\n",
    "df = pd.DataFrame(data)\n",
    "\n",
    "# Define the function to calculate the next value\n",
    "def next_val(current_val):\n",
    "    # Example calculation for the next value\n",
    "    return current_val + 100\n",
    "\n",
    "# Iterate over the rows\n",
    "for i in range(len(df) - 1):\n",
    "    # Calculate the new lag_1 value for the next row\n",
    "    if pd.notna(df.iloc[i, 0]):\n",
    "        new_lag_1 = next_val(df.iloc[i, 0])\n",
    "        \n",
    "        # Update the next row's lag_1 value\n",
    "        df.iloc[i + 1, 0] = new_lag_1\n",
    "        \n",
    "        # Update the subsequent lags\n",
    "        for j in range(1, 4):\n",
    "            if i + 1 + j < len(df):\n",
    "                df.iloc[i + 1 + j, j] = new_lag_1\n",
    "\n",
    "print(df)\n"
   ]
  },
  {
   "cell_type": "code",
   "execution_count": 2,
   "metadata": {},
   "outputs": [
    {
     "name": "stdout",
     "output_type": "stream",
     "text": [
      "     lag_1   lag_2   lag_3   lag_4\n",
      "0    300.0   200.0   100.0    50.0\n",
      "1    400.0   300.0   200.0   100.0\n",
      "2    500.0   400.0   300.0   200.0\n",
      "3    600.0   500.0   400.0   300.0\n",
      "4    700.0   600.0   500.0   400.0\n",
      "5    800.0   700.0   600.0   500.0\n",
      "6    900.0   800.0   700.0   600.0\n",
      "7   1000.0   900.0   800.0   700.0\n",
      "8   1100.0  1000.0   900.0   800.0\n",
      "9   1200.0  1100.0  1000.0   900.0\n",
      "10  1300.0  1200.0  1100.0  1000.0\n",
      "11  1400.0  1300.0  1200.0  1100.0\n",
      "12  1500.0  1400.0  1300.0  1200.0\n",
      "13  1600.0  1500.0  1400.0  1300.0\n",
      "14  1700.0  1600.0  1500.0  1400.0\n",
      "15  1800.0  1700.0  1600.0  1500.0\n",
      "16  1900.0  1800.0  1700.0  1600.0\n",
      "17  2000.0  1900.0  1800.0  1700.0\n",
      "18  2100.0  2000.0  1900.0  1800.0\n",
      "19  2200.0  2100.0  2000.0  1900.0\n",
      "20  2300.0  2200.0  2100.0  2000.0\n",
      "21  2400.0  2300.0  2200.0  2100.0\n",
      "22  2500.0  2400.0  2300.0  2200.0\n",
      "23  2600.0  2500.0  2400.0  2300.0\n"
     ]
    }
   ],
   "source": [
    "import pandas as pd\n",
    "import numpy as np\n",
    "\n",
    "# Define the DataFrame\n",
    "data = {\n",
    "    'lag_1': [300, np.nan, np.nan, np.nan, np.nan, np.nan, np.nan, np.nan, np.nan, np.nan, np.nan, np.nan, np.nan, np.nan, np.nan, np.nan, np.nan, np.nan, np.nan, np.nan, np.nan, np.nan, np.nan, np.nan],\n",
    "    'lag_2': [200, 300, np.nan, np.nan, np.nan, np.nan, np.nan, np.nan, np.nan, np.nan, np.nan, np.nan, np.nan, np.nan, np.nan, np.nan, np.nan, np.nan, np.nan, np.nan, np.nan, np.nan, np.nan, np.nan],\n",
    "    'lag_3': [100, 200, 300, np.nan, np.nan, np.nan, np.nan, np.nan, np.nan, np.nan, np.nan, np.nan, np.nan, np.nan, np.nan, np.nan, np.nan, np.nan, np.nan, np.nan, np.nan, np.nan, np.nan, np.nan],\n",
    "    'lag_4': [50, 100, 200, 300, np.nan, np.nan, np.nan, np.nan, np.nan, np.nan, np.nan, np.nan, np.nan, np.nan, np.nan, np.nan, np.nan, np.nan, np.nan, np.nan, np.nan, np.nan, np.nan, np.nan]\n",
    "}\n",
    "\n",
    "df = pd.DataFrame(data)\n",
    "\n",
    "# Define the function to calculate the next value\n",
    "def next_val(current_val):\n",
    "    # Example calculation for the next value\n",
    "    return current_val + 100\n",
    "\n",
    "# Iterate over the rows\n",
    "for i in range(len(df) - 1):\n",
    "    # Calculate the new lag_1 value for the next row\n",
    "    if pd.notna(df.at[i, 'lag_1']):\n",
    "        new_lag_1 = next_val(df.at[i, 'lag_1'])\n",
    "        \n",
    "        # Update the next row's lag_1 value\n",
    "        df.at[i + 1, 'lag_1'] = new_lag_1\n",
    "        \n",
    "        # Update the subsequent lags\n",
    "        for j in range(1, 4):\n",
    "            if i + 1 + j < len(df):\n",
    "                df.at[i + 1 + j, f'lag_{j + 1}'] = new_lag_1\n",
    "\n",
    "print(df)\n"
   ]
  }
 ],
 "metadata": {
  "kernelspec": {
   "display_name": "Python 3",
   "language": "python",
   "name": "python3"
  },
  "language_info": {
   "codemirror_mode": {
    "name": "ipython",
    "version": 3
   },
   "file_extension": ".py",
   "mimetype": "text/x-python",
   "name": "python",
   "nbconvert_exporter": "python",
   "pygments_lexer": "ipython3",
   "version": "3.11.3"
  }
 },
 "nbformat": 4,
 "nbformat_minor": 2
}
