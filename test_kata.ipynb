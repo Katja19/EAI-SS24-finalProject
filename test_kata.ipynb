{
 "cells": [
  {
   "cell_type": "code",
   "execution_count": 4,
   "metadata": {},
   "outputs": [],
   "source": [
    "# load database data.db into pandas dataframe\n",
    "import pandas as pd\n",
    "import os\n",
    "import sqlite3\n",
    "import sys\n",
    "\n",
    "def load_db(db_file):\n",
    "    if not os.path.exists(db_file):\n",
    "        sys.exit(\"Error: database file not found\")\n",
    "    conn = sqlite3.connect(db_file)\n",
    "    df = pd.read_sql_query(\"SELECT * FROM data\", conn)\n",
    "    conn.close()\n",
    "    return df"
   ]
  },
  {
   "cell_type": "code",
   "execution_count": 8,
   "metadata": {},
   "outputs": [
    {
     "data": {
      "text/html": [
       "<div>\n",
       "<style scoped>\n",
       "    .dataframe tbody tr th:only-of-type {\n",
       "        vertical-align: middle;\n",
       "    }\n",
       "\n",
       "    .dataframe tbody tr th {\n",
       "        vertical-align: top;\n",
       "    }\n",
       "\n",
       "    .dataframe thead th {\n",
       "        text-align: right;\n",
       "    }\n",
       "</style>\n",
       "<table border=\"1\" class=\"dataframe\">\n",
       "  <thead>\n",
       "    <tr style=\"text-align: right;\">\n",
       "      <th></th>\n",
       "      <th>location_name</th>\n",
       "      <th>pedestrians_count</th>\n",
       "      <th>temperature</th>\n",
       "      <th>timestamp</th>\n",
       "      <th>weather_condition</th>\n",
       "      <th>unverified</th>\n",
       "      <th>location_id</th>\n",
       "    </tr>\n",
       "  </thead>\n",
       "  <tbody>\n",
       "    <tr>\n",
       "      <th>0</th>\n",
       "      <td>Schönbornstraße</td>\n",
       "      <td>4415</td>\n",
       "      <td>13.9</td>\n",
       "      <td>2024-05-18T13:00:00+02:00</td>\n",
       "      <td>cloudy</td>\n",
       "      <td>1.0</td>\n",
       "      <td>135.0</td>\n",
       "    </tr>\n",
       "    <tr>\n",
       "      <th>1</th>\n",
       "      <td>Spiegelstraße</td>\n",
       "      <td>1681</td>\n",
       "      <td>13.9</td>\n",
       "      <td>2024-05-18T13:00:00+02:00</td>\n",
       "      <td>cloudy</td>\n",
       "      <td>1.0</td>\n",
       "      <td>470.0</td>\n",
       "    </tr>\n",
       "    <tr>\n",
       "      <th>2</th>\n",
       "      <td>Kaiserstraße</td>\n",
       "      <td>2236</td>\n",
       "      <td>13.9</td>\n",
       "      <td>2024-05-18T13:00:00+02:00</td>\n",
       "      <td>cloudy</td>\n",
       "      <td>1.0</td>\n",
       "      <td>476.0</td>\n",
       "    </tr>\n",
       "    <tr>\n",
       "      <th>3</th>\n",
       "      <td>Schönbornstraße</td>\n",
       "      <td>5148</td>\n",
       "      <td>16.0</td>\n",
       "      <td>2024-05-18T15:00:00+02:00</td>\n",
       "      <td>rain</td>\n",
       "      <td>1.0</td>\n",
       "      <td>135.0</td>\n",
       "    </tr>\n",
       "    <tr>\n",
       "      <th>4</th>\n",
       "      <td>Spiegelstraße</td>\n",
       "      <td>1851</td>\n",
       "      <td>16.0</td>\n",
       "      <td>2024-05-18T15:00:00+02:00</td>\n",
       "      <td>rain</td>\n",
       "      <td>1.0</td>\n",
       "      <td>470.0</td>\n",
       "    </tr>\n",
       "    <tr>\n",
       "      <th>...</th>\n",
       "      <td>...</td>\n",
       "      <td>...</td>\n",
       "      <td>...</td>\n",
       "      <td>...</td>\n",
       "      <td>...</td>\n",
       "      <td>...</td>\n",
       "      <td>...</td>\n",
       "    </tr>\n",
       "    <tr>\n",
       "      <th>11111</th>\n",
       "      <td>Spiegelstraße</td>\n",
       "      <td>6</td>\n",
       "      <td>9.0</td>\n",
       "      <td>2024-06-04T03:00:00+02:00</td>\n",
       "      <td>clear-night</td>\n",
       "      <td>1.0</td>\n",
       "      <td>470.0</td>\n",
       "    </tr>\n",
       "    <tr>\n",
       "      <th>11112</th>\n",
       "      <td>Kaiserstraße</td>\n",
       "      <td>12</td>\n",
       "      <td>9.0</td>\n",
       "      <td>2024-06-04T03:00:00+02:00</td>\n",
       "      <td>clear-night</td>\n",
       "      <td>1.0</td>\n",
       "      <td>476.0</td>\n",
       "    </tr>\n",
       "    <tr>\n",
       "      <th>11113</th>\n",
       "      <td>Schönbornstraße</td>\n",
       "      <td>9</td>\n",
       "      <td>8.0</td>\n",
       "      <td>2024-06-04T04:00:00+02:00</td>\n",
       "      <td>clear-night</td>\n",
       "      <td>1.0</td>\n",
       "      <td>135.0</td>\n",
       "    </tr>\n",
       "    <tr>\n",
       "      <th>11114</th>\n",
       "      <td>Spiegelstraße</td>\n",
       "      <td>4</td>\n",
       "      <td>8.0</td>\n",
       "      <td>2024-06-04T04:00:00+02:00</td>\n",
       "      <td>clear-night</td>\n",
       "      <td>1.0</td>\n",
       "      <td>470.0</td>\n",
       "    </tr>\n",
       "    <tr>\n",
       "      <th>11115</th>\n",
       "      <td>Kaiserstraße</td>\n",
       "      <td>10</td>\n",
       "      <td>8.0</td>\n",
       "      <td>2024-06-04T04:00:00+02:00</td>\n",
       "      <td>clear-night</td>\n",
       "      <td>1.0</td>\n",
       "      <td>476.0</td>\n",
       "    </tr>\n",
       "  </tbody>\n",
       "</table>\n",
       "<p>11116 rows × 7 columns</p>\n",
       "</div>"
      ],
      "text/plain": [
       "         location_name  pedestrians_count  temperature  \\\n",
       "0      Schönbornstraße               4415         13.9   \n",
       "1        Spiegelstraße               1681         13.9   \n",
       "2         Kaiserstraße               2236         13.9   \n",
       "3      Schönbornstraße               5148         16.0   \n",
       "4        Spiegelstraße               1851         16.0   \n",
       "...                ...                ...          ...   \n",
       "11111    Spiegelstraße                  6          9.0   \n",
       "11112     Kaiserstraße                 12          9.0   \n",
       "11113  Schönbornstraße                  9          8.0   \n",
       "11114    Spiegelstraße                  4          8.0   \n",
       "11115     Kaiserstraße                 10          8.0   \n",
       "\n",
       "                       timestamp weather_condition  unverified  location_id  \n",
       "0      2024-05-18T13:00:00+02:00            cloudy         1.0        135.0  \n",
       "1      2024-05-18T13:00:00+02:00            cloudy         1.0        470.0  \n",
       "2      2024-05-18T13:00:00+02:00            cloudy         1.0        476.0  \n",
       "3      2024-05-18T15:00:00+02:00              rain         1.0        135.0  \n",
       "4      2024-05-18T15:00:00+02:00              rain         1.0        470.0  \n",
       "...                          ...               ...         ...          ...  \n",
       "11111  2024-06-04T03:00:00+02:00       clear-night         1.0        470.0  \n",
       "11112  2024-06-04T03:00:00+02:00       clear-night         1.0        476.0  \n",
       "11113  2024-06-04T04:00:00+02:00       clear-night         1.0        135.0  \n",
       "11114  2024-06-04T04:00:00+02:00       clear-night         1.0        470.0  \n",
       "11115  2024-06-04T04:00:00+02:00       clear-night         1.0        476.0  \n",
       "\n",
       "[11116 rows x 7 columns]"
      ]
     },
     "execution_count": 8,
     "metadata": {},
     "output_type": "execute_result"
    }
   ],
   "source": [
    "df = load_db(\"data.db\")\n",
    "df"
   ]
  },
  {
   "cell_type": "code",
   "execution_count": 12,
   "metadata": {},
   "outputs": [
    {
     "data": {
      "text/plain": [
       "location_name           3\n",
       "pedestrians_count    2706\n",
       "temperature           250\n",
       "timestamp            3707\n",
       "weather_condition       9\n",
       "unverified              2\n",
       "location_id             3\n",
       "dtype: int64"
      ]
     },
     "execution_count": 12,
     "metadata": {},
     "output_type": "execute_result"
    }
   ],
   "source": [
    "# count unique values in columns\n",
    "df.nunique()"
   ]
  },
  {
   "cell_type": "code",
   "execution_count": 13,
   "metadata": {},
   "outputs": [
    {
     "data": {
      "text/plain": [
       "'2024-01-01T00:00:00+01:00'"
      ]
     },
     "execution_count": 13,
     "metadata": {},
     "output_type": "execute_result"
    }
   ],
   "source": [
    "# get first timestamp\n",
    "df[\"timestamp\"].min()"
   ]
  },
  {
   "cell_type": "code",
   "execution_count": 22,
   "metadata": {},
   "outputs": [
    {
     "name": "stdout",
     "output_type": "stream",
     "text": [
      "23\n",
      "24\n"
     ]
    }
   ],
   "source": [
    "# 31. März 2024 war zeitumstellung: um 2 Uhr wird die Uhr auf 3 Uhr vorgestellt (Sommerzeit) => 2 Uhr wird übersprungen\n",
    "# get all unique timestamps on 31. März 2024\n",
    "df_temp = df[df[\"timestamp\"].str.contains(\"2024-03-31\")]\n",
    "print(len(df_temp[\"timestamp\"].unique()))\n",
    "\n",
    "df_temp2 = df[df[\"timestamp\"].str.contains(\"2024-03-30\")]\n",
    "print(len(df_temp2[\"timestamp\"].unique()))\n"
   ]
  }
 ],
 "metadata": {
  "kernelspec": {
   "display_name": "Python 3",
   "language": "python",
   "name": "python3"
  },
  "language_info": {
   "codemirror_mode": {
    "name": "ipython",
    "version": 3
   },
   "file_extension": ".py",
   "mimetype": "text/x-python",
   "name": "python",
   "nbconvert_exporter": "python",
   "pygments_lexer": "ipython3",
   "version": "3.11.3"
  }
 },
 "nbformat": 4,
 "nbformat_minor": 2
}
