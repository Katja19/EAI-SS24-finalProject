{
 "cells": [
  {
   "cell_type": "code",
   "execution_count": null,
   "metadata": {},
   "outputs": [],
   "source": [
    "# load weater csv\n",
    "import pandas as pd\n",
    "\n",
    "weather_df = pd.read_csv('wuerzburg_weather.csv')\n",
    "print(weather_df.shape)\n",
    "weather_df\n"
   ]
  },
  {
   "cell_type": "code",
   "execution_count": null,
   "metadata": {},
   "outputs": [],
   "source": [
    "# save the data to a new table in the database data.db\n",
    "import sqlite3\n",
    "\n",
    "conn = sqlite3.connect('data.db')\n",
    "\n",
    "weather_df.to_sql('weather', conn, if_exists='replace', index=False)\n",
    "\n",
    "# commit and close the connection\n",
    "conn.commit()\n",
    "conn.close()\n"
   ]
  },
  {
   "cell_type": "code",
   "execution_count": null,
   "metadata": {},
   "outputs": [],
   "source": [
    "# # drop the table from the database\n",
    "import sqlite3\n",
    "conn = sqlite3.connect('data.db')\n",
    "cursor = conn.cursor()\n",
    "cursor.execute('DROP TABLE weather')\n",
    "conn.commit()\n",
    "conn.close()"
   ]
  },
  {
   "cell_type": "markdown",
   "metadata": {},
   "source": [
    "# load"
   ]
  },
  {
   "cell_type": "code",
   "execution_count": null,
   "metadata": {},
   "outputs": [],
   "source": [
    "\n",
    "# load the data from the database\n",
    "import sqlite3\n",
    "import pandas as pd\n",
    "\n",
    "conn = sqlite3.connect('data.db')\n",
    "weather_df = pd.read_sql('SELECT * FROM weather', conn)\n",
    "#conn.close()\n",
    "\n",
    "latest_timestamp = weather_df['datetime'].max()\n",
    "\n",
    "latest_timestamp"
   ]
  },
  {
   "cell_type": "code",
   "execution_count": null,
   "metadata": {},
   "outputs": [],
   "source": [
    "# check for missing values\n",
    "weather_df.isnull().sum()\n"
   ]
  },
  {
   "cell_type": "code",
   "execution_count": null,
   "metadata": {},
   "outputs": [],
   "source": [
    "w = pd.read_sql('SELECT * FROM weather ORDER BY datetime DESC LIMIT 1', conn)\n",
    "\n",
    "# get the latest datetime\n",
    "latest_timestamp = w['datetime'].values[0].split('T')[0]\n",
    "# get only the date part not the time\n",
    "latest_timestamp\n",
    "# get the next day of latest_timestamp\n"
   ]
  },
  {
   "cell_type": "code",
   "execution_count": null,
   "metadata": {},
   "outputs": [],
   "source": [
    "# get current date\n",
    "from datetime import datetime\n",
    "current_date = datetime.now().strftime('%Y-%m-%d')\n",
    "current_date"
   ]
  },
  {
   "cell_type": "code",
   "execution_count": null,
   "metadata": {},
   "outputs": [],
   "source": [
    "import datetime\n",
    "\n",
    "next_day = (datetime.datetime.strptime(latest_timestamp, '%Y-%m-%d') + datetime.timedelta(days=1)).strftime('%Y-%m-%d')\n",
    "#next_day = next_day\n",
    "next_day\n"
   ]
  },
  {
   "cell_type": "code",
   "execution_count": null,
   "metadata": {},
   "outputs": [],
   "source": [
    "# get current day"
   ]
  },
  {
   "cell_type": "code",
   "execution_count": null,
   "metadata": {},
   "outputs": [],
   "source": [
    "# get latest timestamp\n",
    "latest_timestamp = weather_df['datetime'].max()\n",
    "latest_timestamp"
   ]
  },
  {
   "cell_type": "code",
   "execution_count": null,
   "metadata": {},
   "outputs": [],
   "source": [
    "import requests\n",
    "\n",
    "# Replace with your Visual Crossing API key\n",
    "api_key = 'QPX3CJ476JEHWLUYT3TC559U8'\n",
    "\n",
    "# Define the endpoint URL and parameters\n",
    "base_url = 'https://weather.visualcrossing.com/VisualCrossingWebServices/rest/services/timeline/'\n",
    "location = 'Würzburg, Germany'  # Specify the location\n",
    "params = {\n",
    "    'unitGroup': 'metric',  # Use 'us' for Fahrenheit, 'metric' for Celsius\n",
    "    'key': api_key,\n",
    "    'include': 'hours',  # Include hourly weather data\n",
    "    'startDate': '2023-07-10',  # Start date\n",
    "    'endDate': '2023-07-11'  # End date\n",
    "}\n",
    "\n",
    "# Construct the full API URL\n",
    "url = f\"{base_url}{location}\"\n",
    "\n",
    "# Send the GET request\n",
    "response = requests.get(url, params=params)\n",
    "\n",
    "# Debugging: Print the full URL to ensure it is correct\n",
    "print(f\"Request URL: {response.url}\")\n",
    "\n",
    "# Check if the request was successful\n",
    "if response.status_code == 200:\n",
    "    # Parse the JSON response\n",
    "    weather_data = response.json()\n",
    "    print(\"Weather Data:\")\n",
    "    print(weather_data)\n",
    "elif response.status_code == 401:\n",
    "    print(\"Error 401: Unauthorized. Please check your API key.\")\n",
    "    print(response.text)\n",
    "else:\n",
    "    print(f\"Error: {response.status_code}\")\n",
    "    print(response.text)"
   ]
  },
  {
   "cell_type": "code",
   "execution_count": null,
   "metadata": {},
   "outputs": [],
   "source": [
    "type(weather_data)"
   ]
  },
  {
   "cell_type": "markdown",
   "metadata": {},
   "source": [
    "# test update_weather"
   ]
  },
  {
   "cell_type": "code",
   "execution_count": null,
   "metadata": {},
   "outputs": [],
   "source": [
    "# get the weather data for the database\n",
    "import pandas as pd\n",
    "import sqlite3\n",
    "\n",
    "conn = sqlite3.connect('data.db')\n",
    "\n",
    "# Extract the weather data\n",
    "w_df_temp = pd.read_sql('SELECT datetime, temp, humidity, precip FROM weather ORDER BY datetime', conn)\n",
    "w_df_temp"
   ]
  },
  {
   "cell_type": "code",
   "execution_count": null,
   "metadata": {},
   "outputs": [],
   "source": [
    "# get from the last row the datetime\n",
    "latest_timestamp = w_df_temp['datetime'].max()\n",
    "print('latest_timestamp:', latest_timestamp)\n",
    "\n",
    "from datetime import datetime, timedelta\n",
    "current_timestamp_rounded = (datetime.now()).replace(minute=0, second=0, microsecond=0).strftime('%Y-%m-%dT%H:%M:%S')\n",
    "\n",
    "print('current_timestamp_rounded:', current_timestamp_rounded)"
   ]
  },
  {
   "cell_type": "code",
   "execution_count": null,
   "metadata": {},
   "outputs": [],
   "source": [
    "import requests\n",
    "\n",
    "# Replace with your Visual Crossing API key\n",
    "api_key = 'QPX3CJ476JEHWLUYT3TC559U8'\n",
    "\n",
    "# Define the endpoint URL and parameters\n",
    "base_url = 'https://weather.visualcrossing.com/VisualCrossingWebServices/rest/services/timeline/w%C3%BCrzburg'\n",
    "params = {\n",
    "    'unitGroup': 'metric',  # Use 'us' for Fahrenheit, 'metric' for Celsius\n",
    "    'include': 'hours',  # Include hourly weather data\n",
    "    'key': api_key,\n",
    "    'contentType': 'csv'  # Request CSV format\n",
    "}\n",
    "\n",
    "# Construct the full API URL\n",
    "url = f\"{base_url}/{latest_date}/{current_date}\"\n",
    "\n",
    "# Send the GET request\n",
    "response = requests.get(url, params=params)\n",
    "\n",
    "# Debugging: Print the full URL to ensure it is correct\n",
    "print(f\"Request URL: {response.url}\")\n",
    "\n",
    "# check if the response.url is identical to the solution\n",
    "solution = 'https://weather.visualcrossing.com/VisualCrossingWebServices/rest/services/timeline/w%C3%BCrzburg/2024-07-09/2024-07-11?unitGroup=metric&include=hours&key=QPX3CJ476JEHWLUYT3TC559U8&contentType=csv'\n",
    "if response.url == solution:\n",
    "    print('The URL is correct')\n",
    "else:\n",
    "    print('The URL is incorrect')\n",
    "    \n",
    "# # Check if the request was successful\n",
    "if response.status_code == 200:\n",
    "    # Define CSV file name\n",
    "    csv_file = 'wurzburg_hourly_weather_july_10_11.csv'\n",
    "    \n",
    "    # Write data to CSV\n",
    "    with open(csv_file, 'w') as file:\n",
    "        file.write(response.text)\n",
    "    \n",
    "    print(f\"Weather data saved to {csv_file}\")\n",
    "elif response.status_code == 401:\n",
    "    print(\"Error 401: Unauthorized. Please check your API key.\")\n",
    "    print(response.text)\n",
    "else:\n",
    "    print(f\"Error: {response.status_code}\")\n",
    "    print(response.text)"
   ]
  },
  {
   "cell_type": "code",
   "execution_count": null,
   "metadata": {},
   "outputs": [],
   "source": [
    "# load the data from the csv file\n",
    "import pandas as pd\n",
    "\n",
    "weater_update_df = pd.read_csv('wurzburg_hourly_weather_july_10_11.csv')\n",
    "weater_update_df"
   ]
  },
  {
   "cell_type": "code",
   "execution_count": null,
   "metadata": {},
   "outputs": [],
   "source": [
    "# drop the rows depending on the latest_timestamp and the current_timestamp_min1h_rounded \n",
    "weater_update_df = weater_update_df[(weater_update_df['datetime'] > latest_timestamp) & (weater_update_df['datetime'] < current_timestamp_rounded)]\n",
    "weater_update_df.head(2)"
   ]
  },
  {
   "cell_type": "code",
   "execution_count": null,
   "metadata": {},
   "outputs": [],
   "source": [
    "weater_update_df.tail(2)"
   ]
  }
 ],
 "metadata": {
  "kernelspec": {
   "display_name": "Python 3",
   "language": "python",
   "name": "python3"
  },
  "language_info": {
   "codemirror_mode": {
    "name": "ipython",
    "version": 3
   },
   "file_extension": ".py",
   "mimetype": "text/x-python",
   "name": "python",
   "nbconvert_exporter": "python",
   "pygments_lexer": "ipython3",
   "version": "3.11.3"
  }
 },
 "nbformat": 4,
 "nbformat_minor": 2
}
